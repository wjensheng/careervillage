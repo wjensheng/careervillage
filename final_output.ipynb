{
  "nbformat": 4,
  "nbformat_minor": 0,
  "metadata": {
    "colab": {
      "name": "career_village-9.ipynb",
      "version": "0.3.2",
      "provenance": []
    },
    "language_info": {
      "name": "python",
      "version": "3.6.6",
      "mimetype": "text/x-python",
      "codemirror_mode": {
        "name": "ipython",
        "version": 3
      },
      "pygments_lexer": "ipython3",
      "nbconvert_exporter": "python",
      "file_extension": ".py"
    },
    "kernelspec": {
      "display_name": "Python 3",
      "language": "python",
      "name": "python3"
    }
  },
  "cells": [
    {
      "cell_type": "markdown",
      "metadata": {
        "id": "7hkEX63GNkPK",
        "colab_type": "text"
      },
      "source": [
        "# Introduction\n",
        "The U.S. has almost 500 students for every guidance counselor. Underserved youth lack the network to find their career role models, making CareerVillage.org the only option for millions of young people in America and around the globe with nowhere else to turn.\n",
        "\n",
        "Our goal is to develop a method to recommend relevant questions to the professionals who are most likely to answer them.\n",
        "\n",
        "First, Jared shared the following feedback from professionals:\n",
        "\n",
        "* \"These question don't really feel relevant to me.\"\n",
        "* \"I waited around but never got matched to anything.\"\n",
        "* \"I used to get the emails, but then they stopped.\"\n",
        "* \"This is way too much email. I get something like almost every day!\"\n",
        "* \"If the questions were more relevant, I'd be willing to get emailed more often. But if they are not relevant, then I don't want much email at all.\"\n",
        "* \"The emails aren't that insightful, and don't show me enough info about the questions without having to click in\" \n",
        "\n",
        "All these revolve around two main themes, **relevance of questions** and **frequency of receiving questions**. After looking at CareerVillage's current recommender system, I realize it mainly matches professionals to questions based on tags. Hence, I plan to:\n",
        "\n",
        "* Introduce a recommender system that takes \"questions\" and \"answers profile\" into account using 4 different models as I will show how professionals have answered questions that not necessarily have `tags` they follow.\n",
        "* Introduce a new notification setting. This allows professional to have daily or 3-day (or more) notification setting. The system is able to limit the number of emails sent to professional per day and also keep professionals who have not been receiving questions engaged with the platform.\n",
        "\n",
        "I will also provide some future recommendations:\n",
        "* Option to modify profile\n",
        "* Three-day email notification\n",
        "* Reducing spam by students\n",
        "* \"Shifting\" questions\n",
        "* Handling cold start by tags\n",
        "* Keeping track of questions that are unanswered"
      ]
    },
    {
      "cell_type": "markdown",
      "metadata": {
        "id": "Oec4iGQcNkPM",
        "colab_type": "text"
      },
      "source": [
        "# Table of Contents\n",
        "1. EDA\n",
        "2. Model construction\n",
        "3. Evaluation\n",
        "4. Future recommendations\n",
        "5. Metadata\n",
        "6. Meta-RecSys\n",
        "7. Final Meta-RecSys\n",
        "8. Conclusion\n",
        "9. Final Thoughts\n",
        "10. Closing remarks"
      ]
    },
    {
      "cell_type": "code",
      "metadata": {
        "_uuid": "8f2839f25d086af736a60e9eeb907d3b93b6e0e5",
        "_cell_guid": "b1076dfc-b9ad-4769-8c92-a6c4dae69d19",
        "trusted": true,
        "_kg_hide-input": true,
        "id": "HNrK-VnLNkPN",
        "colab_type": "code",
        "colab": {
          "base_uri": "https://localhost:8080/",
          "height": 106
        },
        "outputId": "eb125e8e-3c32-4862-f6f4-90866851270e"
      },
      "source": [
        "%matplotlib inline\n",
        "\n",
        "import matplotlib.pyplot as plt \n",
        "import seaborn as sns\n",
        "from tqdm import tqdm\n",
        "from time import time\n",
        "import pandas as pd\n",
        "import numpy as np \n",
        "import warnings; import random; import gensim; import re; import os; import gc\n",
        "\n",
        "warnings.simplefilter('ignore')\n",
        "\n",
        "from sklearn.feature_extraction.text import TfidfVectorizer, CountVectorizer\n",
        "from sklearn.metrics.pairwise import linear_kernel, cosine_similarity\n",
        "from sklearn import preprocessing \n",
        "\n",
        "import nltk\n",
        "from nltk.corpus import stopwords\n",
        "from nltk.tokenize import sent_tokenize, word_tokenize\n",
        "from nltk.stem.snowball import SnowballStemmer\n",
        "nltk.download('stopwords')\n",
        "stop = stopwords.words('english')\n",
        "\n",
        "import tensorflow as tf\n",
        "tf.logging.set_verbosity(tf.logging.ERROR)\n",
        "from __future__ import absolute_import, division, print_function\n",
        "import tensorflow_hub as hub"
      ],
      "execution_count": 1,
      "outputs": [
        {
          "output_type": "stream",
          "text": [
            "[nltk_data] Downloading package stopwords to /root/nltk_data...\n",
            "[nltk_data]   Package stopwords is already up-to-date!\n"
          ],
          "name": "stdout"
        },
        {
          "output_type": "stream",
          "text": [
            "WARNING: Logging before flag parsing goes to stderr.\n",
            "W0522 01:52:37.714383 139851990710144 __init__.py:56] Some hub symbols are not available because TensorFlow version is less than 1.14\n"
          ],
          "name": "stderr"
        }
      ]
    },
    {
      "cell_type": "code",
      "metadata": {
        "_cell_guid": "79c7e3d0-c299-4dcb-8224-4455121ee9b0",
        "_uuid": "d629ff2d2480ee46fbb7e2d37f6b5fab8052498a",
        "trusted": true,
        "_kg_hide-input": true,
        "id": "GODF01UhNkPQ",
        "colab_type": "code",
        "colab": {}
      },
      "source": [
        "PATH = '.'\n",
        "\n",
        "questions = pd.read_csv(PATH + '/questions.csv.zip', compression='zip')\n",
        "answers = pd.read_csv(PATH + '/answers.csv.zip', compression='zip')\n",
        "matches = pd.read_csv(PATH + '/matches.csv.zip', compression='zip')\n",
        "emails = pd.read_csv(PATH + '/emails.csv.zip', compression='zip')\n",
        "professionals = pd.read_csv(PATH + '/professionals.csv.zip', compression='zip')\n",
        "tags = pd.read_csv(PATH + '/tags.csv')\n",
        "students = pd.read_csv(PATH + '/students.csv.zip', compression='zip')\n",
        "tag_questions = pd.read_csv(PATH + '/tag_questions.csv.zip', compression='zip')\n",
        "tag_users = pd.read_csv(PATH + '/tag_users.csv.zip', compression='zip')\n",
        "question_scores = pd.read_csv(PATH + '/question_scores.csv')\n",
        "answer_scores = pd.read_csv(PATH + '/answer_scores.csv.zip', compression='zip')"
      ],
      "execution_count": 0,
      "outputs": []
    },
    {
      "cell_type": "markdown",
      "metadata": {
        "_uuid": "c6be2b278c32b63d4abec16efe7ee64fdb5dabc7",
        "id": "G-rDAHi6NkPU",
        "colab_type": "text"
      },
      "source": [
        "I create some handy functions here."
      ]
    },
    {
      "cell_type": "code",
      "metadata": {
        "trusted": true,
        "_uuid": "cef6cc61d2953eb900bedc518a2110a478899ff1",
        "_kg_hide-input": true,
        "id": "hCR6THndNkPV",
        "colab_type": "code",
        "colab": {}
      },
      "source": [
        "#################################\n",
        "# Merging, stripping html, \n",
        "# get questions_id based on indices\n",
        "#################################\n",
        "\n",
        "def new_question_answers():\n",
        "    try:\n",
        "        del questions; gc.collect(); del answers; gc.collect()\n",
        "    except:\n",
        "        pass\n",
        "    # read in questions and answers again\n",
        "    questions = pd.read_csv(PATH+'/questions.csv.zip', compression='zip')\n",
        "    answers = pd.read_csv(PATH+'/answers.csv.zip', compression='zip')\n",
        "    \n",
        "    return questions, answers\n",
        "\n",
        "def merging(df1, df2, left, right):\n",
        "    return df1.merge(df2, how=\"inner\", left_on=left, right_on=right)    \n",
        "\n",
        "# unfathomable pattern\n",
        "noise = re.compile(r'http\\S+|\\d+|[\\n\\r]|www\\S+|&lt;/span&gt;|&lt;span|style=\"background-color:|transparent;\"&gt;|&nbsp;|&amp|http;')\n",
        "\n",
        "def strip_html(s):\n",
        "    return re.sub('<[^<]+?>', ' ', str(s))\n",
        "\n",
        "def process_text(df, col):\n",
        "    s = df[col].copy()\n",
        "    s = s.apply(strip_html)\n",
        "    s = s.str.replace(noise, ' ') # remove noise\n",
        "    s = s.str.replace('[^\\w\\s\\n\\t]',' ') # replace punctuations\n",
        "    s = s.str.replace('-',' ') # replace dashes\n",
        "    s = s.str.replace('\\\\', '') # remove \\\n",
        "    s = s.str.replace('\\d+','') # replacing digits\n",
        "    s = s.str.lower().str.split() # convert all str to lowercase\n",
        "    s = s.apply(lambda x: [item for item in x if item not in stop]) # remove stopwords\n",
        "    s = s.apply(' '.join) # convert list to str\n",
        "    return s\n",
        "\n",
        "def get_question(q_id):\n",
        "    return questions[questions['questions_id'] == q_id]['questions_body'].tolist()[0]\n",
        "\n",
        "def similar_questions(q_id, dic, top_n=10):\n",
        "    print(\"Current question: \" + get_question(q_id))\n",
        "    print('\\n')\n",
        "    print(\"Similar questions: \")\n",
        "    etc = dic[q_id][1:top_n]\n",
        "    for k, v in enumerate(etc):\n",
        "        print(get_question(v[1]))\n",
        "        print('\\n')\n",
        "        \n",
        "def build_question_edges(df, cos_sim):\n",
        "    question_edges = {}\n",
        "    \n",
        "    for idx, row in df.iterrows():\n",
        "        similar_indices = cos_sim[idx].argsort()[:-20:-1]\n",
        "        similar_items = [(cos_sim[idx][i],\n",
        "                          df.iloc[i]['questions_id']) for i in similar_indices]\n",
        "        question_edges[row['questions_id']] = similar_items[:20]\n",
        "        \n",
        "    return question_edges        "
      ],
      "execution_count": 0,
      "outputs": []
    },
    {
      "cell_type": "markdown",
      "metadata": {
        "id": "EQjpjNAsNkPX",
        "colab_type": "text"
      },
      "source": [
        "# 1. EDA\n",
        "In addition to my first public [kernel](https://www.kaggle.com/wjshenggggg/update-5-text-processing) that has some EDA, I perform EDA on questions asked after 1/1/2018 - trying to understand when are questions and answers added as well as why some questions take longer response time."
      ]
    },
    {
      "cell_type": "code",
      "metadata": {
        "_kg_hide-input": true,
        "trusted": true,
        "id": "ThoWvOsLNkPY",
        "colab_type": "code",
        "colab": {}
      },
      "source": [
        "answers['answers_date_added'] = pd.to_datetime(answers['answers_date_added'])\n",
        "\n",
        "answers['day_of_week'] = answers['answers_date_added'].dt.dayofweek\n",
        "\n",
        "days_dict = {0: 'Mon', 1: 'Tue', 2: 'Wed',\n",
        "             3: 'Thu', 4: 'Fri', 5: 'Sat',\n",
        "             6: 'Sun'}\n",
        "\n",
        "dow_cnt = answers['day_of_week'].apply(lambda x: days_dict[x]).value_counts()\n",
        "\n",
        "# df = answers.groupby(['answers_author_id', 'day_of_week'])['answers_id'].count().reset_index()\n",
        "\n",
        "# val_cnt = df['day_of_week'].value_counts()"
      ],
      "execution_count": 0,
      "outputs": []
    },
    {
      "cell_type": "code",
      "metadata": {
        "trusted": true,
        "id": "DINldEkGNkPc",
        "colab_type": "code",
        "colab": {
          "base_uri": "https://localhost:8080/",
          "height": 405
        },
        "outputId": "0b1a3ecf-53b1-49de-b8be-d7c86ed2ce85"
      },
      "source": [
        "plt.figure(figsize=(8,6))\n",
        "sns.barplot(dow_cnt.index,\n",
        "            dow_cnt.values)\n",
        "plt.title('Answers and Day of the week')\n",
        "plt.xlabel('Day of the Week')\n",
        "plt.ylabel('Number of Answers')\n",
        "plt.show()"
      ],
      "execution_count": 6,
      "outputs": [
        {
          "output_type": "display_data",
          "data": {
            "image/png": "[encoded data removed]",
            "text/plain": [
              "<Figure size 576x432 with 1 Axes>"
            ]
          },
          "metadata": {
            "tags": []
          }
        }
      ]
    },
    {
      "cell_type": "code",
      "metadata": {
        "trusted": true,
        "id": "geb0ESPqNkPe",
        "colab_type": "code",
        "colab": {}
      },
      "source": [
        "questions['questions_date_added'] = pd.to_datetime(questions['questions_date_added'])\n",
        "\n",
        "questions['day_of_week'] = questions['questions_date_added'].dt.dayofweek\n",
        "\n",
        "dow_cnt = questions['day_of_week'].apply(lambda x: days_dict[x]).value_counts()"
      ],
      "execution_count": 0,
      "outputs": []
    },
    {
      "cell_type": "code",
      "metadata": {
        "trusted": true,
        "_kg_hide-input": false,
        "id": "zVXRdvA_NkPh",
        "colab_type": "code",
        "colab": {
          "base_uri": "https://localhost:8080/",
          "height": 405
        },
        "outputId": "3c41c292-b7dc-44d4-d375-7eb5cc8789d0"
      },
      "source": [
        "plt.figure(figsize=(8,6))\n",
        "sns.barplot(dow_cnt.index,\n",
        "            dow_cnt.values)\n",
        "plt.title('Questions and Day of the week')\n",
        "plt.xlabel('Day of the Week')\n",
        "plt.ylabel('Number of Questions')\n",
        "plt.show()"
      ],
      "execution_count": 8,
      "outputs": [
        {
          "output_type": "display_data",
          "data": {
            "image/png": "[encoded data removed]",
            "text/plain": [
              "<Figure size 576x432 with 1 Axes>"
            ]
          },
          "metadata": {
            "tags": []
          }
        }
      ]
    },
    {
      "cell_type": "markdown",
      "metadata": {
        "id": "vhYHCczxNkPk",
        "colab_type": "text"
      },
      "source": [
        "Most questions and answers are added on Wednesday, with weekends having the lowest activity.\n",
        "\n",
        "In the next section, I define slow response time as more than 7 days taken for the first answer to be added; fast response as 3 days of less; moderate as between slow and fast."
      ]
    },
    {
      "cell_type": "code",
      "metadata": {
        "_kg_hide-input": true,
        "trusted": true,
        "id": "ng-WtfmyNkPk",
        "colab_type": "code",
        "colab": {}
      },
      "source": [
        "questions['questions_date_added'] = pd.to_datetime(questions['questions_date_added'])\n",
        "\n",
        "questions['questions_date_added'] = pd.DatetimeIndex([i.replace(tzinfo=None) for i in questions['questions_date_added']])\n",
        "\n",
        "questions = questions[questions['questions_date_added'] >= pd.datetime(2018, 1, 1)]\n",
        "\n",
        "qa = merging(questions, answers, 'questions_id', 'answers_question_id')\n",
        "\n",
        "qa['answers_date_added'] = pd.to_datetime(qa['answers_date_added'])\n",
        "\n",
        "qa['answers_date_added'] = pd.DatetimeIndex([i.replace(tzinfo=None) for i in qa['answers_date_added']])\n",
        "\n",
        "qa['resp_time'] = (qa['answers_date_added'] - qa['questions_date_added']).dt.days\n",
        "\n",
        "qa = qa.sort_values('answers_date_added')\n",
        "\n",
        "first_qa = qa.groupby('questions_id').head(1)\n",
        "\n",
        "first_qa.shape # 7509\n",
        "\n",
        "unanswered = questions[~questions['questions_id'].isin(answers['answers_question_id'].tolist())][['questions_id', 'questions_title', 'questions_body']]"
      ],
      "execution_count": 0,
      "outputs": []
    },
    {
      "cell_type": "code",
      "metadata": {
        "trusted": true,
        "id": "WOMU-8t6NkPm",
        "colab_type": "code",
        "colab": {
          "base_uri": "https://localhost:8080/",
          "height": 69
        },
        "outputId": "e6c037e7-c3af-430d-9a6e-62004aa12859"
      },
      "source": [
        "slow = first_qa[first_qa['resp_time'] > 7][['questions_id', 'questions_title', 'questions_body']] # 3542 \n",
        "\n",
        "slow_unanswered = pd.concat([slow, unanswered]) # 4334\n",
        "\n",
        "fast = first_qa[first_qa['resp_time'] <= 3][['questions_id', 'questions_title', 'questions_body']] # 3504\n",
        "\n",
        "moderate = first_qa[(first_qa['resp_time'] > 3) & (first_qa['resp_time'] <= 7)][['questions_id', 'questions_title', 'questions_body']] # 463\n",
        "\n",
        "print('Number of questions that are answered within 3 days: {}'.format(fast.shape[0]))\n",
        "print('Number of questions that are answered between 3 and 7 days: {}'.format(moderate.shape[0]))\n",
        "print('Number of questions that are still unanswered or took more than 7 days to be answered: {}'.format(slow_unanswered.shape[0]))"
      ],
      "execution_count": 26,
      "outputs": [
        {
          "output_type": "stream",
          "text": [
            "Number of questions that are answered within 3 days: 3504\n",
            "Number of questions that are answered between 3 and 7 days: 463\n",
            "Number of questions that are still unanswered or took more than 7 days to be answered: 4334\n"
          ],
          "name": "stdout"
        }
      ]
    },
    {
      "cell_type": "code",
      "metadata": {
        "_kg_hide-input": true,
        "trusted": true,
        "id": "lOF7W4vgNkPp",
        "colab_type": "code",
        "colab": {}
      },
      "source": [
        "fast_body = process_text(fast, 'questions_body')\n",
        "slow_body = process_text(slow_unanswered, 'questions_body')\n",
        "\n",
        "fast_dist = fast_body.apply(lambda x: len(x.split(' ')))\n",
        "slow_dist = slow_body.apply(lambda x: len(x.split(' ')))"
      ],
      "execution_count": 0,
      "outputs": []
    },
    {
      "cell_type": "code",
      "metadata": {
        "trusted": true,
        "id": "SZixQDEBNkPs",
        "colab_type": "code",
        "colab": {
          "base_uri": "https://localhost:8080/",
          "height": 540
        },
        "outputId": "e76813b1-f609-40f6-c811-4a4938988f44"
      },
      "source": [
        "pal = sns.color_palette()\n",
        "plt.figure(figsize=(18, 8))\n",
        "plt.hist(fast_dist, bins=40, range=[0, 80], color=pal[9], normed=True, label='fast')\n",
        "plt.hist(slow_dist, bins=40, range=[0, 80], color=pal[1], normed=True, alpha=0.5, label='slow')\n",
        "plt.title('Normalised histogram of word count in question_body', fontsize=15)\n",
        "plt.legend()\n",
        "plt.xlabel('Number of words', fontsize=15)\n",
        "plt.ylabel('Probability', fontsize=15)\n",
        "plt.show()"
      ],
      "execution_count": 28,
      "outputs": [
        {
          "output_type": "display_data",
          "data": {
            "image/png": "[encoded data removed]",
            "text/plain": [
              "<Figure size 1296x576 with 1 Axes>"
            ]
          },
          "metadata": {
            "tags": []
          }
        }
      ]
    },
    {
      "cell_type": "markdown",
      "metadata": {
        "id": "g7KqtMiiNkPu",
        "colab_type": "text"
      },
      "source": [
        "As previously mentioned, questions that have a longer response time tend to be longer. We can perhaps solve this by targeting a larger audience in the RecSys."
      ]
    },
    {
      "cell_type": "code",
      "metadata": {
        "trusted": true,
        "id": "vN0sEj1nNkPv",
        "colab_type": "code",
        "colab": {}
      },
      "source": [
        "#################################\n",
        "# Create a tfidf matrix based on input\n",
        "#################################\n",
        "\n",
        "def get_tfidf_matrix(s):\n",
        "    tfidf = TfidfVectorizer(analyzer='word',\n",
        "                     ngram_range=(1,2),\n",
        "                     min_df=3,\n",
        "                     max_df=0.001,\n",
        "                     stop_words='english')\n",
        "\n",
        "    tfidf_matrix = tfidf.fit_transform(s)\n",
        "    \n",
        "    vocab = tfidf.get_feature_names()\n",
        "\n",
        "    cosine_sim = linear_kernel(tfidf_matrix, tfidf_matrix)\n",
        "    \n",
        "    return cosine_sim, tfidf, vocab, tfidf_matrix\n",
        "\n",
        "_, _, fast_vocab, fast_matrix = get_tfidf_matrix(fast_body)\n",
        "_, _, slow_vocab, slow_matrix = get_tfidf_matrix(slow_body)"
      ],
      "execution_count": 0,
      "outputs": []
    },
    {
      "cell_type": "code",
      "metadata": {
        "trusted": true,
        "id": "87YbWBhUNkPx",
        "colab_type": "code",
        "colab": {}
      },
      "source": [
        "def word_score_pair(matrix, vocab, n=10, common=True):\n",
        "    mat_to_arr = matrix.toarray() # convert the 2d matrix to a 2d array\n",
        "    word_score = list(map(sum,zip(*mat_to_arr))) # fastest way to sum across all columns\n",
        "    \n",
        "    if common == True:\n",
        "        rank_words_idx = np.argsort(word_score)[::-1]\n",
        "    else:\n",
        "        rank_words_idx = np.argsort(word_score)\n",
        "        \n",
        "    idx_list = rank_words_idx[:n]\n",
        "    \n",
        "    for idx in idx_list:\n",
        "        print(\"word: {0}, score: {1:.3f}\".format(vocab[idx], word_score[idx]))"
      ],
      "execution_count": 0,
      "outputs": []
    },
    {
      "cell_type": "code",
      "metadata": {
        "trusted": true,
        "id": "rvlh4TzRNkP1",
        "colab_type": "code",
        "colab": {
          "base_uri": "https://localhost:8080/",
          "height": 190
        },
        "outputId": "53e1e3aa-388b-4886-f6d7-bdf2126ada54"
      },
      "source": [
        "word_score_pair(fast_matrix, fast_vocab)"
      ],
      "execution_count": 31,
      "outputs": [
        {
          "output_type": "stream",
          "text": [
            "word: collegestudent, score: 3.000\n",
            "word: looking law, score: 3.000\n",
            "word: asking questions, score: 3.000\n",
            "word: premed medical, score: 3.000\n",
            "word: techniques, score: 3.000\n",
            "word: whats, score: 3.000\n",
            "word: major social, score: 3.000\n",
            "word: worthwhile, score: 3.000\n",
            "word: summer school, score: 3.000\n",
            "word: psychology counseling, score: 3.000\n"
          ],
          "name": "stdout"
        }
      ]
    },
    {
      "cell_type": "code",
      "metadata": {
        "trusted": true,
        "id": "X4T8_GHkNkP3",
        "colab_type": "code",
        "colab": {
          "base_uri": "https://localhost:8080/",
          "height": 190
        },
        "outputId": "f7a1d03c-4c58-4183-f955-f57a09c49b26"
      },
      "source": [
        "word_score_pair(slow_matrix, slow_vocab)"
      ],
      "execution_count": 32,
      "outputs": [
        {
          "output_type": "stream",
          "text": [
            "word: daca, score: 3.843\n",
            "word: business major, score: 3.747\n",
            "word: candidates, score: 3.707\n",
            "word: leave college, score: 3.697\n",
            "word: want internship, score: 3.697\n",
            "word: transitioning, score: 3.697\n",
            "word: instructional, score: 3.586\n",
            "word: conduct, score: 3.577\n",
            "word: work time, score: 3.520\n",
            "word: fisheries, score: 3.496\n"
          ],
          "name": "stdout"
        }
      ]
    },
    {
      "cell_type": "code",
      "metadata": {
        "trusted": true,
        "id": "3ktxM5v3NkP6",
        "colab_type": "code",
        "colab": {
          "base_uri": "https://localhost:8080/",
          "height": 190
        },
        "outputId": "5d4f0029-ce12-47f5-94a1-a44b8df867bf"
      },
      "source": [
        "word_score_pair(slow_matrix, slow_vocab, common=False)"
      ],
      "execution_count": 33,
      "outputs": [
        {
          "output_type": "stream",
          "text": [
            "word: australia school, score: 0.494\n",
            "word: masters ecology, score: 0.494\n",
            "word: masters europe, score: 0.494\n",
            "word: usa want, score: 0.494\n",
            "word: europe foreign, score: 0.494\n",
            "word: germany accept, score: 0.494\n",
            "word: scientific field, score: 0.494\n",
            "word: science masters, score: 0.494\n",
            "word: germany environmental, score: 0.494\n",
            "word: living australia, score: 0.494\n"
          ],
          "name": "stdout"
        }
      ]
    },
    {
      "cell_type": "markdown",
      "metadata": {
        "_uuid": "d0eac0774310d0f8b78ba28f403f710cf48a53ec",
        "id": "iVKoNuYcNkP9",
        "colab_type": "text"
      },
      "source": [
        "I explore the common and rare words in the `slow` response category. Surprisingly, the common words from `slow` are in fact common - I can tell that there will be relevant professionals who are able to answer those questions. On the other hand, the uncommon words from `slow` seem to be more specific to region as words such as \"australia\", \"europe\", and \"germany\" appear. \n",
        "\n",
        "# 2. Model construction\n",
        "Four models will be deployed to generate the RecSys, namely TF-IDF FastText, GloVe, and Universal Sentence Encoder. The reason is all four approaches are able to capture various subtleties in a question. For instance, TF-IDF captures similarity between bigrams while FastText embedding allows similar semantics to be captured.\n",
        "\n",
        "## TF-IDF "
      ]
    },
    {
      "cell_type": "code",
      "metadata": {
        "trusted": true,
        "_uuid": "404dd4bf276d3165ab388acd0779bfca796076ff",
        "_kg_hide-input": true,
        "id": "aIbCtucfNkP9",
        "colab_type": "code",
        "colab": {}
      },
      "source": [
        "#################################\n",
        "# Create a tfidf matrix based on input\n",
        "#################################\n",
        "\n",
        "def get_tfidf_matrix(s):\n",
        "    tfidf = TfidfVectorizer(analyzer='word',\n",
        "                     ngram_range=(1,2),\n",
        "                     min_df=3,\n",
        "                     max_df=0.95,\n",
        "                     stop_words='english')\n",
        "\n",
        "    tfidf_matrix = tfidf.fit_transform(s)\n",
        "    \n",
        "    vocab = tfidf.get_feature_names()\n",
        "\n",
        "    cosine_sim = linear_kernel(tfidf_matrix, tfidf_matrix)\n",
        "    \n",
        "    return cosine_sim, tfidf, vocab, tfidf_matrix"
      ],
      "execution_count": 0,
      "outputs": []
    },
    {
      "cell_type": "code",
      "metadata": {
        "trusted": true,
        "_uuid": "cbb39238dd044e87493e42ecb59cca9a1cd339fc",
        "_kg_hide-input": true,
        "id": "8asjao38NkQC",
        "colab_type": "code",
        "colab": {}
      },
      "source": [
        "#################################\n",
        "# Create common functions for embeddings\n",
        "#################################\n",
        "\n",
        "def generate_doc_vectors(s, embeddings_index, n):\n",
        "    words = str(s).split() \n",
        "    M = []\n",
        "    for w in words:\n",
        "        if w in embeddings_index:\n",
        "            M.append(embeddings_index[w])\n",
        "    v = np.array(M).sum(axis=0)\n",
        "    if type(v) != np.ndarray:\n",
        "        return np.zeros(n)\n",
        "    return v / np.sqrt((v ** 2).sum())\n",
        "\n",
        "def get_cos_sim(xtrain_embeddings):\n",
        "    scl = preprocessing.StandardScaler()\n",
        "    xtrain_embeddings = np.array(xtrain_embeddings)\n",
        "    xtrain_embeddings = scl.fit_transform(xtrain_embeddings)\n",
        "\n",
        "    cos_sim = linear_kernel(xtrain_embeddings, xtrain_embeddings)\n",
        "    \n",
        "    return cos_sim, scl\n",
        "\n",
        "def get_emb_mat(s, *args):\n",
        "    xtrain_embeddings = [generate_doc_vectors(x, *args) for x in s]\n",
        "\n",
        "    cos_sim, scl = get_cos_sim(xtrain_embeddings)\n",
        "    \n",
        "    return cos_sim, scl, xtrain_embeddings"
      ],
      "execution_count": 0,
      "outputs": []
    },
    {
      "cell_type": "markdown",
      "metadata": {
        "_uuid": "ec59aaaa9cca4e02fecc187f62410f4c6751d500",
        "id": "VyCbODfkNkQG",
        "colab_type": "text"
      },
      "source": [
        "## FastText embedding"
      ]
    },
    {
      "cell_type": "code",
      "metadata": {
        "trusted": true,
        "_uuid": "f390bda6dafd92b1e739702468b54e2796ffd484",
        "scrolled": false,
        "_kg_hide-input": true,
        "id": "FTEEkm7DNkQI",
        "colab_type": "code",
        "colab": {}
      },
      "source": [
        "EMBEDDING_FILE = '/content/drive/My Drive/Colab Notebooks/careervillage/crawl-300d-2M.vec'\n",
        "\n",
        "fembeddings_index = {}\n",
        "f = open(EMBEDDING_FILE, encoding=\"utf8\")\n",
        "count = 0\n",
        "for line in f:    \n",
        "    count += 1\n",
        "    if count == 500000: \n",
        "        break\n",
        "    values = line.split()\n",
        "    word = values[0]\n",
        "    coefs = np.asarray(values[1:], dtype='float32')\n",
        "    fembeddings_index[word] = coefs\n",
        "f.close()"
      ],
      "execution_count": 0,
      "outputs": []
    },
    {
      "cell_type": "markdown",
      "metadata": {
        "_uuid": "ae89edfdfbbeb06a948baded2d8d03ab58d2f311",
        "id": "tOeK10u8NkQL",
        "colab_type": "text"
      },
      "source": [
        "## GloVe"
      ]
    },
    {
      "cell_type": "code",
      "metadata": {
        "id": "5_SHjDoSS7R_",
        "colab_type": "code",
        "colab": {
          "base_uri": "https://localhost:8080/",
          "height": 121
        },
        "outputId": "a9ff2628-b004-490e-bff5-e87050bad29b"
      },
      "source": [
        "# os.chdir('/content')"
      ],
      "execution_count": 51,
      "outputs": [
        {
          "output_type": "stream",
          "text": [
            "answer_scores.csv.zip  groups.csv\t      sample_data\n",
            "answers.csv.zip        kaggle.json\t      school_memberships.csv\n",
            "comments.csv.zip       matches.csv.zip\t      students.csv.zip\n",
            "drive\t\t       professionals.csv.zip  tag_questions.csv.zip\n",
            "emails.csv.zip\t       question_scores.csv    tags.csv\n",
            "group_memberships.csv  questions.csv.zip      tag_users.csv.zip\n"
          ],
          "name": "stdout"
        }
      ]
    },
    {
      "cell_type": "code",
      "metadata": {
        "trusted": true,
        "_uuid": "aadec79eea50fc08a5f5bfa59ad860b7f885d667",
        "_kg_hide-input": true,
        "id": "gWxXCji_NkQM",
        "colab_type": "code",
        "colab": {}
      },
      "source": [
        "EMBEDDING_FILE = '/content/drive/My Drive/Colab Notebooks/careervillage/glove.6B.50d.txt'\n",
        "\n",
        "gembeddings_index = {}\n",
        "f = open(EMBEDDING_FILE)\n",
        "count = 0\n",
        "for line in f:\n",
        "    count += 1\n",
        "    if count == 500000: \n",
        "        break\n",
        "    values = line.split()\n",
        "    word = values[0]\n",
        "    coefs = np.asarray(values[1:], dtype='float32')\n",
        "    gembeddings_index[word] = coefs\n",
        "f.close()"
      ],
      "execution_count": 0,
      "outputs": []
    },
    {
      "cell_type": "markdown",
      "metadata": {
        "_uuid": "a3b3cf8ad8618146a582bfcb00b05929e6cdba93",
        "id": "3_opf3yhNkQO",
        "colab_type": "text"
      },
      "source": [
        "## Universal Sentence Encoder\n",
        "Caveat: Running Universal Sentence Encoder takes a considerable amount of time. I will only run this twice to illustrate its \"power\" and leave out in the latter evaluation sections."
      ]
    },
    {
      "cell_type": "code",
      "metadata": {
        "trusted": true,
        "_uuid": "ab9331017dfa183efea02711993022c5e8eb8644",
        "_kg_hide-input": true,
        "id": "bDpmDmuINkQP",
        "colab_type": "code",
        "colab": {}
      },
      "source": [
        "hub_embed = hub.Module(\"https://tfhub.dev/google/universal-sentence-encoder/2\")\n",
        "\n",
        "def get_use_matrix(s):\n",
        "    embeddings = hub_embed(s)\n",
        "\n",
        "    with tf.Session() as session:\n",
        "        session.run([tf.global_variables_initializer(), tf.tables_initializer()])\n",
        "        xtrain_embeddings = session.run(embeddings)\n",
        "        \n",
        "    cos_sim, scl = get_cos_sim(xtrain_embeddings)\n",
        "    \n",
        "    return cos_sim, scl, xtrain_embeddings"
      ],
      "execution_count": 0,
      "outputs": []
    },
    {
      "cell_type": "markdown",
      "metadata": {
        "_uuid": "f11c00cf0587e5306a295d962908dddc9939ecca",
        "id": "RPR5bRwfNkQR",
        "colab_type": "text"
      },
      "source": [
        "# 3. Evaluation\n",
        "## Evaluation Approach #1\n",
        "The first approach to test our RecSys is by entering a query to get similar questions. Essentially, our model can be evaluated based on a query (entered manually) and check how similar is it to the questions recommended by the RecSys. I intend to make a note that CareerVillage can use this approach to recommend questions that have been answered in the past without necessarily recommending the query to the professionals."
      ]
    },
    {
      "cell_type": "code",
      "metadata": {
        "trusted": true,
        "_uuid": "b611776360353997f72641a098d71933626e489a",
        "_kg_hide-input": true,
        "id": "rjVAAWU9NkQS",
        "colab_type": "code",
        "colab": {}
      },
      "source": [
        "#################################\n",
        "# Functions to clean a query\n",
        "# and get TF-IDF format\n",
        "#################################\n",
        "\n",
        "def generate_ngrams(text, N):\n",
        "    grams = [text[i:i+N] for i in range(len(text)-N+1)]\n",
        "    grams = [\" \".join(b) for b in grams]\n",
        "    return grams\n",
        "\n",
        "def clean_query(text):\n",
        "    text = strip_html(text)\n",
        "    text = re.sub(r'[^\\w\\s|\\n\\t]',' ', text) # TODO \\n\n",
        "    text = text.lower()\n",
        "    text = text.split(' ')\n",
        "    text = [word for word in text if word not in stop]\n",
        "    text = ' '.join(text)\n",
        "    text = ' '.join(text.split()) # strip extra whitespace\n",
        "    return text\n",
        "\n",
        "def tokenize_clean_query(text):\n",
        "    return clean_query(text).split(' ')\n",
        "\n",
        "def get_tf_format_input(tokens):\n",
        "    return generate_ngrams(tokens, 2) + generate_ngrams(tokens, 1)\n",
        "\n",
        "def query_to_tokens(query):\n",
        "    query_tokens = tokenize_clean_query(query)\n",
        "    res = get_tf_format_input(query_tokens)\n",
        "    return res"
      ],
      "execution_count": 0,
      "outputs": []
    },
    {
      "cell_type": "code",
      "metadata": {
        "trusted": true,
        "_uuid": "b209d04fc3eb65314194281b85ce54238c01a770",
        "_kg_hide-input": true,
        "id": "wE9Bb7_yNkQU",
        "colab_type": "code",
        "colab": {}
      },
      "source": [
        "#################################\n",
        "# Get indices of questions\n",
        "#################################\n",
        "\n",
        "def top_idx(query_score, mat):\n",
        "    # dot with matrix to find similarity_score with embedding matrix\n",
        "    query_cos_sim = cosine_similarity(query_score, mat)\n",
        "\n",
        "    # get the top 10 scores in indices\n",
        "    relevant_q_indices = np.argsort(query_cos_sim.flatten())[::-1][:10]\n",
        "    \n",
        "    return relevant_q_indices\n",
        "\n",
        "def tf_relevant_q_indices(query, tfidf, tfidf_matrix):\n",
        "    ngram_tokens = query_to_tokens(query)\n",
        "\n",
        "    query_tf_score = tfidf.transform(ngram_tokens).toarray()\n",
        "\n",
        "    query_score = np.mean(query_tf_score, axis=0).reshape(1, -1)\n",
        "    \n",
        "    return top_idx(query_score, tfidf_matrix)\n",
        "\n",
        "def relevant_q_indices(query, embeddings_index, n, scl, emb):\n",
        "    # clean the query\n",
        "    query = clean_query(query)\n",
        "    \n",
        "    # get the score from embeddings\n",
        "    query_score = generate_doc_vectors(query, embeddings_index, n).reshape(1,-1)\n",
        "    \n",
        "    # normalize query_score\n",
        "    query_score = scl.transform(query_score)\n",
        "    \n",
        "    return top_idx(query_score, emb)\n",
        "\n",
        "def use_relevant_q_indices(query, scl, emb):    \n",
        "    query = clean_query(query)\n",
        "    query_emb = hub_embed([query])\n",
        "\n",
        "    with tf.Session() as session:\n",
        "        session.run([tf.global_variables_initializer(), tf.tables_initializer()])\n",
        "        query_embeddings = session.run(query_emb)\n",
        "\n",
        "    query_score = scl.transform(query_embeddings)\n",
        "    \n",
        "    return top_idx(query_score, emb)"
      ],
      "execution_count": 0,
      "outputs": []
    },
    {
      "cell_type": "markdown",
      "metadata": {
        "id": "2eedoPnBNkQW",
        "colab_type": "text"
      },
      "source": [
        "I attempt to work with a smaller sample. Furthermore, after performing some EDA, I realize that some students asked their questions in `questions_title` and added some `hashtags` in the `questions_body`. In that case, `questions_body` might not reflect the **question** well. I try to concatenate the `questions_title` and `questions_body` to represent a **question**."
      ]
    },
    {
      "cell_type": "code",
      "metadata": {
        "trusted": true,
        "id": "HTYzIt-4NkQX",
        "colab_type": "code",
        "colab": {}
      },
      "source": [
        "questions = questions[:1000]\n",
        "\n",
        "questions['questions_title_body'] = questions['questions_title'] + \\\n",
        "                                    str(' ') + \\\n",
        "                                    questions['questions_body']\n",
        "\n",
        "# clean the text\n",
        "s = process_text(questions, 'questions_title_body').values "
      ],
      "execution_count": 0,
      "outputs": []
    },
    {
      "cell_type": "code",
      "metadata": {
        "trusted": true,
        "id": "am2_qFhWNkQY",
        "colab_type": "code",
        "colab": {}
      },
      "source": [
        "query = 'i am intereted in data science and machine learning. do you have any tips for me?'"
      ],
      "execution_count": 0,
      "outputs": []
    },
    {
      "cell_type": "code",
      "metadata": {
        "trusted": true,
        "_uuid": "03ccf273d3761f7cfd65098b14fb38d295231a39",
        "id": "NVPvMP1ANkQa",
        "colab_type": "code",
        "colab": {}
      },
      "source": [
        "tfidf_cos_sim, tfidf, vocab, tfidf_matrix = get_tfidf_matrix(s)\n",
        "t_q_indices = tf_relevant_q_indices(query, tfidf, tfidf_matrix)\n",
        "\n",
        "fast_cos_sim, fscl, femb = get_emb_mat(s, fembeddings_index, 300)\n",
        "f_q_indices = relevant_q_indices(query, fembeddings_index, 300, fscl, femb)\n",
        "\n",
        "glove_cos_sim, gscl, gemb = get_emb_mat(s, gembeddings_index, 50)\n",
        "g_q_indices = relevant_q_indices(query, gembeddings_index, 50, gscl, gemb)\n",
        "\n",
        "use_cos_sim, uscl, uemb = get_use_matrix(s)\n",
        "u_q_indices = use_relevant_q_indices(query, uscl, uemb)"
      ],
      "execution_count": 0,
      "outputs": []
    },
    {
      "cell_type": "code",
      "metadata": {
        "trusted": true,
        "_uuid": "81839821b9d7d67ae4383a407375db23705fc0ea",
        "id": "b91XA1k2NkQc",
        "colab_type": "code",
        "colab": {
          "base_uri": "https://localhost:8080/",
          "height": 86
        },
        "outputId": "7148753b-4517-4a68-b039-532d23f56159"
      },
      "source": [
        "t_q_indices, f_q_indices, g_q_indices, u_q_indices"
      ],
      "execution_count": 53,
      "outputs": [
        {
          "output_type": "execute_result",
          "data": {
            "text/plain": [
              "(array([ 49, 831, 751, 847, 518, 488, 675,   9, 552, 592]),\n",
              " array([ 49,  46, 531, 488, 518, 416, 909, 351, 284, 398]),\n",
              " array([127, 651, 416,  46, 436, 297, 971,  49, 798, 199]),\n",
              " array([ 49,  46,  14,   4, 740, 284, 531, 894, 609, 260]))"
            ]
          },
          "metadata": {
            "tags": []
          },
          "execution_count": 53
        }
      ]
    },
    {
      "cell_type": "markdown",
      "metadata": {
        "_uuid": "816746300bf2fb51b91b4fbaebc48102f06caef3",
        "id": "8WVxxvJoNkQf",
        "colab_type": "text"
      },
      "source": [
        "Notice how all four models recommended different questions but there is still some overlap of indices of questions recommended.\n",
        "\n",
        "A weight is then assigned to each question based on Borda count. `questions_id`that appears first has a weight of 1 and a decrement of 0.1 is applied to the subsequent `questions_id`, i.e., the second question has a weight of 0.9, third 0.8 and so on."
      ]
    },
    {
      "cell_type": "code",
      "metadata": {
        "trusted": true,
        "_uuid": "dbf8f8da7b4fcf37ff07f01dc535050485c32a38",
        "_kg_hide-input": false,
        "id": "JoCIndPKNkQg",
        "colab_type": "code",
        "colab": {}
      },
      "source": [
        "def build_q_occ(q_indices):\n",
        "    d = {}\n",
        "    for _q_indices in q_indices:\n",
        "        score_weight = 1\n",
        "        for idx in _q_indices:\n",
        "            if idx in d:\n",
        "                d[idx] += score_weight\n",
        "            else:\n",
        "                d[idx] = score_weight\n",
        "            score_weight -= 0.1 # Borda count\n",
        "    return sorted(d.items(), key=lambda kv: kv[1], reverse=True)"
      ],
      "execution_count": 0,
      "outputs": []
    },
    {
      "cell_type": "code",
      "metadata": {
        "_kg_hide-input": true,
        "trusted": true,
        "id": "U8DSpdO8NkQj",
        "colab_type": "code",
        "colab": {}
      },
      "source": [
        "def print_questions(model, questions, q_indices, n=3):\n",
        "    print('Recommedation by {} ...'.format(model))\n",
        "    top_q_indices = q_indices[:n]\n",
        "    cnt = 1\n",
        "    for idx in top_q_indices:\n",
        "        print(cnt)\n",
        "        print(questions.iloc[idx]['questions_title'])\n",
        "        print(questions.iloc[idx]['questions_body'][:100])\n",
        "        if cnt == 3:\n",
        "            break\n",
        "        print('\\n')\n",
        "        cnt += 1\n",
        "    print('-----')"
      ],
      "execution_count": 0,
      "outputs": []
    },
    {
      "cell_type": "code",
      "metadata": {
        "trusted": true,
        "id": "3M1TRV4MNkQl",
        "colab_type": "code",
        "colab": {
          "base_uri": "https://localhost:8080/",
          "height": 1105
        },
        "outputId": "92e8e1d3-3f77-4733-9a2f-29d3ceef73fa"
      },
      "source": [
        "print_questions('TF-IDF', questions, t_q_indices)\n",
        "print_questions('FastText', questions, f_q_indices)\n",
        "print_questions('GloVe', questions, g_q_indices)\n",
        "print_questions('Universal Sentence Encoder', questions, u_q_indices)"
      ],
      "execution_count": 56,
      "outputs": [
        {
          "output_type": "stream",
          "text": [
            "Recommedation by TF-IDF ...\n",
            "1\n",
            "What is the difference between data science and machine learning?\n",
            "I've been looking into data science careers, and I know that it is closely related with machine lear\n",
            "\n",
            "\n",
            "2\n",
            "How did you complete a science college degree as an adult?\n",
            "I am pursuing a science degree after taking a few years away from school.  Knowing science and math \n",
            "\n",
            "\n",
            "3\n",
            "How to make your mind more creative?\n",
            "#creativity #learning #mental-exercise #creative #learning \n",
            "-----\n",
            "Recommedation by FastText ...\n",
            "1\n",
            "What is the difference between data science and machine learning?\n",
            "I've been looking into data science careers, and I know that it is closely related with machine lear\n",
            "\n",
            "\n",
            "2\n",
            "Best resources for developing in Information Security?\n",
            "Such as resources for learning specific programming/scripting languages (Python, Perl, bash), sites \n",
            "\n",
            "\n",
            "3\n",
            "Which program is best to start learning coding?\n",
            "I want to learn to code. Should I start with python, Java, etc. ?\n",
            "#coding \n",
            "#computer-science \n",
            "-----\n",
            "Recommedation by GloVe ...\n",
            "1\n",
            "What do you have to have to be a EMT\n",
            "#savealife\r\n",
            "#EMSislife\n",
            "\n",
            "\n",
            "2\n",
            "What is copywriting as a career, and what is your typical workflow?\n",
            "#copy #writing #write #marketing #advertising #adobe #outreach #graphic #design\n",
            "\n",
            "\n",
            "3\n",
            "What is the best coding language to know to become a computer programer?\n",
            "#computer #computer-engineering #computer-programming #coding \n",
            "-----\n",
            "Recommedation by Universal Sentence Encoder ...\n",
            "1\n",
            "What is the difference between data science and machine learning?\n",
            "I've been looking into data science careers, and I know that it is closely related with machine lear\n",
            "\n",
            "\n",
            "2\n",
            "Best resources for developing in Information Security?\n",
            "Such as resources for learning specific programming/scripting languages (Python, Perl, bash), sites \n",
            "\n",
            "\n",
            "3\n",
            "Can i be a biologist in Indianan. How much will i make. What else will i have to know.\n",
            "i am looking for a job that allows me to be a biologist that study all types of DNA and animals, pla\n",
            "-----\n"
          ],
          "name": "stdout"
        }
      ]
    },
    {
      "cell_type": "markdown",
      "metadata": {
        "_uuid": "94f40902e56c8606ffff966864202bc1dc8bf43a",
        "id": "x0Dgx4VSNkQn",
        "colab_type": "text"
      },
      "source": [
        "Combining all four models, we come up with the recommended questions below."
      ]
    },
    {
      "cell_type": "code",
      "metadata": {
        "trusted": true,
        "_uuid": "da7d0035c48fa31770e030ec95be65550581f99f",
        "id": "2CMvhPcHNkQo",
        "colab_type": "code",
        "colab": {
          "base_uri": "https://localhost:8080/",
          "height": 242
        },
        "outputId": "b2399190-56c3-410e-e6f1-c748e215d4d3"
      },
      "source": [
        "q_indices = (t_q_indices, f_q_indices, g_q_indices, u_q_indices)\n",
        "top_3_q_indices = build_q_occ(q_indices)[:3]\n",
        "\n",
        "print('All 4 models\\' recommendation')\n",
        "rec_q_indices = top_3_q_indices\n",
        "for idx_score in rec_q_indices:\n",
        "    print(questions.iloc[idx_score[0]]['questions_title'])\n",
        "    print(questions.iloc[idx_score[0]]['questions_body'][:100])\n",
        "    print('\\n')    "
      ],
      "execution_count": 57,
      "outputs": [
        {
          "output_type": "stream",
          "text": [
            "All 4 models' recommendation\n",
            "What is the difference between data science and machine learning?\n",
            "I've been looking into data science careers, and I know that it is closely related with machine lear\n",
            "\n",
            "\n",
            "Best resources for developing in Information Security?\n",
            "Such as resources for learning specific programming/scripting languages (Python, Perl, bash), sites \n",
            "\n",
            "\n",
            "What is the best coding language to know to become a computer programer?\n",
            "#computer #computer-engineering #computer-programming #coding \n",
            "\n",
            "\n"
          ],
          "name": "stdout"
        }
      ]
    },
    {
      "cell_type": "markdown",
      "metadata": {
        "id": "9M0DECo-NkQr",
        "colab_type": "text"
      },
      "source": [
        "## Evaluation Approach #2\n",
        "Clearly, the RecSys can then recommend professionals based on professionals who have answered the similar questions shown above. But I think the RecSys should be able to further improve its recommendation if each professional has its own `profile`. My motivation of coming with this approach is `questions_body` or `questions_title` might not reflect the essence of the questions but answers can. I attempt to construct a profile for professionals based on what `vocab` best describes them. Given a query, the RecSys can recommend relevant professionals based on their historical answers, again building upon the four models. "
      ]
    },
    {
      "cell_type": "code",
      "metadata": {
        "trusted": true,
        "_uuid": "449c9202fe07ba9ab7fac605a6187f57385f29b8",
        "_kg_hide-input": true,
        "id": "Ubtb0KhMNkQs",
        "colab_type": "code",
        "colab": {}
      },
      "source": [
        "#################################\n",
        "# Get indices of professionals and\n",
        "# build professionals' profiles\n",
        "#################################\n",
        "\n",
        "def get_q_id(questions, idx):\n",
        "    return questions.iloc[idx]['questions_id']\n",
        "\n",
        "def get_p_ids(qa, q_id):\n",
        "    # returns a list of professional_ids who\n",
        "    # have answered that question\n",
        "    return qa[qa['questions_id'] == q_id]['answers_author_id'].tolist()\n",
        "\n",
        "def p_profiles(p_ids, qa, mat):\n",
        "    all_scores = []\n",
        "    for p_id in p_ids:\n",
        "        p_avg_score = p_profile(p_id, qa, mat)\n",
        "        all_scores.append(p_avg_score)        \n",
        "    return all_scores    \n",
        "\n",
        "def p_profile(p_id, qa, mat):\n",
        "    l = qa[qa['answers_author_id'] == p_id].index\n",
        "    scores = []\n",
        "    \n",
        "    for idx in l:\n",
        "        try:\n",
        "            scores.append(mat[idx].toarray().flatten())\n",
        "        except:\n",
        "            scores.append(mat[idx].flatten())\n",
        "                        \n",
        "    scores = np.asarray(scores)\n",
        "    scores = np.mean(scores, axis=0)\n",
        "    return scores\n",
        "\n",
        "def get_p_relevant_words(scores, ans_vocab, top_n=10):\n",
        "    scores_idx = np.argsort(scores)[::-1][:top_n]\n",
        "\n",
        "    vocab = []\n",
        "    score = []\n",
        "    \n",
        "    for idx in scores_idx:\n",
        "        vocab.append(ans_vocab[idx])\n",
        "        score.append(scores[idx])\n",
        "    \n",
        "    vocab_score_df = pd.DataFrame({'vocab': vocab,\n",
        "                                   'score': score})\n",
        "    \n",
        "    return vocab_score_df"
      ],
      "execution_count": 0,
      "outputs": []
    },
    {
      "cell_type": "code",
      "metadata": {
        "trusted": true,
        "_uuid": "5e6effd220991505747404a27ce760f127ef979b",
        "_kg_hide-input": true,
        "id": "rLwaq_LGNkQu",
        "colab_type": "code",
        "colab": {}
      },
      "source": [
        "#################################\n",
        "# Returns the indices of 10 closest professionals \n",
        "# to a query based on professionals' profiles\n",
        "#################################\n",
        "\n",
        "def t_relevant_p_indices(query, ans_tf, p_scores_matrix):\n",
        "    ngram_tokens = query_to_tokens(query)\n",
        "\n",
        "    query_tf_score = ans_tf.transform(ngram_tokens).toarray()\n",
        "\n",
        "    query_score = np.mean(query_tf_score, axis=0).reshape(1, -1)\n",
        "    \n",
        "    return top_idx(query_score, p_scores_matrix)\n",
        "\n",
        "def relevant_p_indices(query, embeddings_index, n, scl, p_scores_matrix):\n",
        "    # clean the query\n",
        "    query = clean_query(query)\n",
        "    \n",
        "    # get the score from embeddings\n",
        "    query_score = generate_doc_vectors(query, embeddings_index, n).reshape(1,-1)\n",
        "    \n",
        "    # normalize query_score\n",
        "    query_score = scl.transform(query_score)\n",
        "    \n",
        "    return top_idx(query_score, p_scores_matrix)\n",
        "\n",
        "def u_relevant_p_indices(query, scl, p_scores_matrix):    \n",
        "    query = clean_query(query)\n",
        "    query_emb = hub_embed([query])\n",
        "\n",
        "    with tf.Session() as session:\n",
        "        session.run([tf.global_variables_initializer(), tf.tables_initializer()])\n",
        "        query_embeddings = session.run(query_emb)\n",
        "\n",
        "    query_score = scl.transform(query_embeddings)\n",
        "    \n",
        "    return top_idx(query_score, p_scores_matrix)"
      ],
      "execution_count": 0,
      "outputs": []
    },
    {
      "cell_type": "code",
      "metadata": {
        "trusted": true,
        "_kg_hide-input": true,
        "id": "Z3xz9DiQNkQ2",
        "colab_type": "code",
        "colab": {}
      },
      "source": [
        "qa = merging(questions, answers, 'questions_id', 'answers_question_id')\n",
        "\n",
        "# clean answers_body\n",
        "ans = process_text(qa, 'answers_body').values\n",
        "\n",
        "# create a list of professionals_ids\n",
        "p_ids = qa['answers_author_id'].unique().tolist()"
      ],
      "execution_count": 0,
      "outputs": []
    },
    {
      "cell_type": "markdown",
      "metadata": {
        "id": "_664J3mVNkQ4",
        "colab_type": "text"
      },
      "source": [
        "I start with constructing a profile for each professional using four different models."
      ]
    },
    {
      "cell_type": "code",
      "metadata": {
        "trusted": true,
        "_uuid": "1bf9b61a00d702c346b8f60fbe4245c907172514",
        "id": "H8jBb-eXNkQ4",
        "colab_type": "code",
        "colab": {}
      },
      "source": [
        "# Building profiles\n",
        "_, ans_tf, ans_vocab, ans_tfidf_matrix = get_tfidf_matrix(ans)\n",
        "t_p_scores = np.asarray(p_profiles(p_ids, qa, ans_tfidf_matrix))\n",
        "t_p_indices = t_relevant_p_indices(query, ans_tf, t_p_scores)\n",
        "\n",
        "_, fans_scl, fans_emb = get_emb_mat(ans, fembeddings_index, 300)\n",
        "f_p_scores = np.asarray(p_profiles(p_ids, qa, fans_emb))\n",
        "f_p_indices = relevant_p_indices(query, fembeddings_index, 300, fans_scl, f_p_scores)\n",
        "\n",
        "_, gans_scl, gans_emb = get_emb_mat(ans, gembeddings_index, 50)\n",
        "g_p_scores = np.asarray(p_profiles(p_ids, qa, gans_emb))\n",
        "g_p_indices = relevant_p_indices(query, gembeddings_index, 50, gans_scl, g_p_scores)\n",
        "\n",
        "_, uans_scl, uans_emb = get_use_matrix(ans)\n",
        "u_p_scores = np.asarray(p_profiles(p_ids, qa, uans_emb))\n",
        "u_p_indices = u_relevant_p_indices(query, uans_scl, u_p_scores)"
      ],
      "execution_count": 0,
      "outputs": []
    },
    {
      "cell_type": "code",
      "metadata": {
        "trusted": true,
        "_kg_hide-input": true,
        "id": "gWsSGU1wNkQ6",
        "colab_type": "code",
        "colab": {}
      },
      "source": [
        "def build_p_occ(p_indices):\n",
        "    d = {}\n",
        "    for _p_indices in p_indices:\n",
        "        score_weight = 1   \n",
        "        for i in _p_indices:\n",
        "            p = p_ids[i]\n",
        "            if p in d:\n",
        "                d[p] += score_weight\n",
        "            else:\n",
        "                d[p] = score_weight\n",
        "            score_weight -= 0.1\n",
        "\n",
        "    return sorted(d.items(), key=lambda kv: kv[1], reverse=True)"
      ],
      "execution_count": 0,
      "outputs": []
    },
    {
      "cell_type": "markdown",
      "metadata": {
        "id": "Ft-Rj9XDNkQ8",
        "colab_type": "text"
      },
      "source": [
        "Combining profiles built by all four models, the recommended professionals are as follows."
      ]
    },
    {
      "cell_type": "code",
      "metadata": {
        "trusted": true,
        "id": "7ZYeyeK2NkQ9",
        "colab_type": "code",
        "colab": {
          "base_uri": "https://localhost:8080/",
          "height": 225
        },
        "outputId": "c27abe65-a24a-44a1-9e5c-ae06e5cfd948"
      },
      "source": [
        "p_indices = (t_p_indices, f_p_indices, g_p_indices, u_p_indices)\n",
        "top_3_p_indices = build_p_occ(p_indices)[:3] \n",
        "\n",
        "for pid_score in top_3_p_indices:\n",
        "    print('professional_id: {}'.format(pid_score[0]))\n",
        "    p_headline = professionals[professionals['professionals_id'] == pid_score[0]]\\\n",
        "                                ['professionals_headline'].to_string()\n",
        "    print('Headline: {}'.format(p_headline))    \n",
        "    print('\\n')"
      ],
      "execution_count": 63,
      "outputs": [
        {
          "output_type": "stream",
          "text": [
            "professional_id: 3daa962dd713439eaf6df9e2966d9514\n",
            "Headline: 17859    Student at California State University-Los Ang...\n",
            "\n",
            "\n",
            "professional_id: 3ea0910f146e4bc1b0da625d49da320c\n",
            "Headline: 8037    Business Intelligence Manager\n",
            "\n",
            "\n",
            "professional_id: 2801dfbdd5914b65b3369ff3385bc16b\n",
            "Headline: 20402    Now available!All-rounder Mechanical Engineer ...\n",
            "\n",
            "\n"
          ],
          "name": "stdout"
        }
      ]
    },
    {
      "cell_type": "markdown",
      "metadata": {
        "_uuid": "17a066d3adf315d86cd46bf1fb2af232be7d1778",
        "id": "52lNd1zHNkQ_",
        "colab_type": "text"
      },
      "source": [
        "## Evaluation Approach #3\n",
        "When recommending questions to professionals, the final RecSys accounts for \n",
        "1. the similarity between query and other questions;\n",
        "2. the similarity between query and professionals' profiles (containing `vocab` and `score`) based on their historical answers.\n",
        "\n",
        "Now, Borda count is applied to the `professionals_id` based on the order they were suggested to construct our final dictionary `p_counts`, which consists of  `professionals_id` and `score_weight`. In order words, the RecSys includes professionals who have answered similar questions in the past and professionals who have profiles (historical answers) similar to the incoming query."
      ]
    },
    {
      "cell_type": "code",
      "metadata": {
        "trusted": true,
        "_kg_hide-input": true,
        "id": "5r4rxS71NkQ_",
        "colab_type": "code",
        "colab": {}
      },
      "source": [
        "#################################\n",
        "# Returns the ranking of professionals\n",
        "# from Approach 1 and Approach 2\n",
        "#################################\n",
        "\n",
        "def p_rank(questions, qa, q_indices, p_indices, n=5):\n",
        "    p_counts = {}\n",
        "\n",
        "    for _q_indices in q_indices:\n",
        "        score_weight = 1\n",
        "        for i in _q_indices:\n",
        "            for p in get_p_ids(qa, get_q_id(questions, i)):\n",
        "                if p in p_counts:\n",
        "                    p_counts[p] += score_weight\n",
        "                else:\n",
        "                    p_counts[p] = score_weight\n",
        "            score_weight -= 0.1        \n",
        "            \n",
        "    for _p_indices in p_indices:\n",
        "        score_weight = 1   \n",
        "        for i in _p_indices:\n",
        "            p = p_ids[i]\n",
        "            if p in p_counts:\n",
        "                p_counts[p] += score_weight\n",
        "            else:\n",
        "                p_counts[p] = score_weight\n",
        "            score_weight -= 0.1\n",
        "        \n",
        "    p_counts = sorted(p_counts.items(), key=lambda kv: kv[1], reverse=True)[:n]\n",
        "    return [p_count[0] for p_count in p_counts]"
      ],
      "execution_count": 0,
      "outputs": []
    },
    {
      "cell_type": "markdown",
      "metadata": {
        "_uuid": "f2385f1a12cd2289459b3b6f7665b714554d5ec7",
        "id": "3Rj7IZKKNkRC",
        "colab_type": "text"
      },
      "source": [
        "Based on the `p_count`, the RecSys now recommends the professionals based on the ranking and show the words most relevant to the professionals. "
      ]
    },
    {
      "cell_type": "code",
      "metadata": {
        "trusted": true,
        "_uuid": "069af3b60eca2d4207c616989bdf3fc6a47572fe",
        "_kg_hide-input": false,
        "id": "u7qeHaf2NkRE",
        "colab_type": "code",
        "colab": {}
      },
      "source": [
        "#################################\n",
        "# Recommend top 5 professionals\n",
        "# with their vocab_score \n",
        "#################################\n",
        "\n",
        "def who_to_rec(p_counts, professionals, qa, ans_vocab, ans_tfidf_matrix):        \n",
        "    count = 1\n",
        "    for p in p_counts[:3]:\n",
        "        print('Recommending rank {} professional'.format(count))\n",
        "\n",
        "        print('Headline: {}'.format(professionals[professionals['professionals_id'] == p]\\\n",
        "                                    ['professionals_headline'].tolist()[0]))\n",
        "\n",
        "        print('Top 3 highest scores words:')\n",
        "\n",
        "        p_scores = p_profile(p, qa, ans_tfidf_matrix)\n",
        "\n",
        "        print(get_p_relevant_words(p_scores, ans_vocab, 3))\n",
        "\n",
        "        print('\\n')\n",
        "\n",
        "        count += 1"
      ],
      "execution_count": 0,
      "outputs": []
    },
    {
      "cell_type": "code",
      "metadata": {
        "trusted": true,
        "id": "a8ZmquFpNkRH",
        "colab_type": "code",
        "colab": {
          "base_uri": "https://localhost:8080/",
          "height": 484
        },
        "outputId": "22b3ab36-6ffd-44bc-b45b-8a31a2654c1a"
      },
      "source": [
        "who_to_rec(p_rank(questions, qa, q_indices, p_indices), professionals, qa, ans_vocab, ans_tfidf_matrix)"
      ],
      "execution_count": 66,
      "outputs": [
        {
          "output_type": "stream",
          "text": [
            "Recommending rank 1 professional\n",
            "Headline: Student at California State University-Los Angeles\n",
            "Top 3 highest scores words:\n",
            "        vocab     score\n",
            "0  algorithms  0.487712\n",
            "1        data  0.478284\n",
            "2    includes  0.390998\n",
            "\n",
            "\n",
            "Recommending rank 2 professional\n",
            "Headline: Business Intelligence Manager\n",
            "Top 3 highest scores words:\n",
            "              vocab     score\n",
            "0  machine learning  0.422301\n",
            "1      data science  0.414403\n",
            "2           machine  0.400947\n",
            "\n",
            "\n",
            "Recommending rank 3 professional\n",
            "Headline: Data Scientist at Airbnb\n",
            "Top 3 highest scores words:\n",
            "              vocab     score\n",
            "0          requires  0.277327\n",
            "1  machine learning  0.261464\n",
            "2           problem  0.256825\n",
            "\n",
            "\n"
          ],
          "name": "stdout"
        }
      ]
    },
    {
      "cell_type": "markdown",
      "metadata": {
        "id": "5m-6ew59NkRK",
        "colab_type": "text"
      },
      "source": [
        "Notice how professionals recommended in Evaluation Approach #2 in `top_3_p_indices` are slightly different compared to Evaluation Approach #3 in `who_to_rec`.\n",
        "\n",
        "Below, I added the functions to build and run the RecSys. As mentioned earlier, the Universal Sentence Encoder will be left out to speed up the process."
      ]
    },
    {
      "cell_type": "code",
      "metadata": {
        "trusted": true,
        "_kg_hide-input": true,
        "id": "Kk0l-GPjNkRL",
        "colab_type": "code",
        "colab": {}
      },
      "source": [
        "#################################\n",
        "# Add a function to \"streamline\" \n",
        "# all the functions with just a query\n",
        "# returns a list of top 5 professionals\n",
        "#################################\n",
        "\n",
        "def build_RecSys(s, ans, qa, p_ids):    \n",
        "    \n",
        "    #################################\n",
        "    # questions similarity\n",
        "    #################################\n",
        "    _, tfidf, vocab, tfidf_matrix = get_tfidf_matrix(s)\n",
        "    _, fscl, femb = get_emb_mat(s, fembeddings_index, 300)\n",
        "    _, gscl, gemb = get_emb_mat(s, gembeddings_index, 50)\n",
        "    # _, uscl, uemb = get_use_matrix(s) \n",
        "\n",
        "    #################################\n",
        "    # professionals' profile\n",
        "    #################################\n",
        "    _, ans_tf, ans_vocab, ans_tfidf_matrix = get_tfidf_matrix(ans)\n",
        "    _, fans_scl, fans_emb = get_emb_mat(ans, fembeddings_index, 300)\n",
        "    _, gans_scl, gans_emb = get_emb_mat(ans, gembeddings_index, 50)\n",
        "    # _, uans_scl, uans_emb = get_use_matrix(ans)\n",
        "    \n",
        "    t_p_scores = np.asarray(p_profiles(p_ids, qa, ans_tfidf_matrix))\n",
        "    f_p_scores = np.asarray(p_profiles(p_ids, qa, fans_emb))\n",
        "    g_p_scores = np.asarray(p_profiles(p_ids, qa, gans_emb))\n",
        "    # u_p_scores = np.asarray(p_profiles(p_ids, qa, uans_emb))\n",
        "\n",
        "    return tfidf, tfidf_matrix, fscl, femb, gscl, gemb, ans_tf, fans_scl, gans_scl, t_p_scores, f_p_scores, g_p_scores, vocab\n",
        "\n",
        "    \n",
        "def run_RecSys(query, questions, qa, n, tfidf, tfidf_matrix, fscl, femb, gscl, gemb, ans_tf, fans_scl, gans_scl, t_p_scores, f_p_scores, g_p_scores):\n",
        "    \n",
        "    #################################\n",
        "    # questions similarity\n",
        "    #################################\n",
        "    \n",
        "    t_q_indices = tf_relevant_q_indices(query, tfidf, tfidf_matrix)\n",
        "    f_q_indices = relevant_q_indices(query, fembeddings_index, 300, fscl, femb)\n",
        "    g_q_indices = relevant_q_indices(query, gembeddings_index, 50, gscl, gemb)\n",
        "    # u_q_indices = use_relevant_q_indices(query, uscl, uemb)\n",
        "    \n",
        "    q_indices = (t_q_indices, f_q_indices, g_q_indices)\n",
        "    \n",
        "    #################################\n",
        "    # professionals' profile\n",
        "    #################################\n",
        "    \n",
        "    t_p_indices = t_relevant_p_indices(query, ans_tf, t_p_scores)\n",
        "    f_p_indices = relevant_p_indices(query, fembeddings_index, 300, fans_scl, f_p_scores)\n",
        "    g_p_indices = relevant_p_indices(query, gembeddings_index, 50, gans_scl, g_p_scores)\n",
        "    # u_p_indices = u_relevant_p_indices(query, uans_scl, u_p_scores)\n",
        "    \n",
        "    p_indices = (t_p_indices, f_p_indices, g_p_indices)\n",
        "    \n",
        "    combined_p_rank = p_rank(questions, qa, q_indices, p_indices, n)\n",
        "    \n",
        "    return combined_p_rank"
      ],
      "execution_count": 0,
      "outputs": []
    },
    {
      "cell_type": "markdown",
      "metadata": {
        "id": "RBThO5EyNkRQ",
        "colab_type": "text"
      },
      "source": [
        "## Evaluation Approach #4\n",
        "It is now time to answer the question: will the RecSys be performing better than CareerVillage's current RecSys? Before diving into the approach, let's explore questions that have been recommended by CareerVillage with some EDA. The `professionals` dataset has a total of 28,152 professionals registered but EDA shows that < 1,000 remain active.\n",
        "\n",
        "I would like to extend my gratitude to RodH for coming up with the following approach of filtering emails received and questions answered by emails."
      ]
    },
    {
      "cell_type": "code",
      "metadata": {
        "trusted": true,
        "_kg_hide-input": true,
        "id": "S-CkDfoFNkRQ",
        "colab_type": "code",
        "colab": {}
      },
      "source": [
        "match_email = merging(matches, emails, 'matches_email_id', 'emails_id')\n",
        "\n",
        "p_match_emails = match_email.groupby('emails_recipient_id').count()\n",
        "\n",
        "p_match_emails = pd.DataFrame(p_match_emails['matches_email_id'].copy()).reset_index()\n",
        "\n",
        "# p_match_emails.head()\n",
        "\n",
        "p_emails = merging(professionals, emails, 'professionals_id', 'emails_recipient_id')\n",
        "\n",
        "# p_emails.head()\n",
        "\n",
        "p_received_emails = p_emails.groupby('emails_recipient_id').count()\n",
        "\n",
        "p_received_emails = pd.DataFrame(p_received_emails['professionals_id'].copy()).reset_index()\n",
        "\n",
        "# p_received_emails.head()\n",
        "\n",
        "p_ans = answers.groupby('answers_author_id').count()\n",
        "\n",
        "p_ans_cnt = pd.DataFrame(p_ans['answers_id'].copy()).reset_index()"
      ],
      "execution_count": 0,
      "outputs": []
    },
    {
      "cell_type": "code",
      "metadata": {
        "trusted": true,
        "_kg_hide-input": true,
        "id": "-7VUjv8QNkRU",
        "colab_type": "code",
        "colab": {
          "base_uri": "https://localhost:8080/",
          "height": 198
        },
        "outputId": "1d1d84a1-e9c6-4a96-dba1-c683f651e11a"
      },
      "source": [
        "p_received_match = merging(p_match_emails, p_received_emails, 'emails_recipient_id', 'emails_recipient_id')\n",
        "\n",
        "p_received_match_ans = merging(p_received_match, p_ans_cnt, 'emails_recipient_id', 'answers_author_id')\n",
        "\n",
        "p_received_match_ans.drop('answers_author_id', axis=1, inplace=True)\n",
        "\n",
        "p_received_match_ans = p_received_match_ans.rename(columns={\"matches_email_id\": \"emails_received\", \n",
        "                                                             \"professionals_id\": \"questions_received\",\n",
        "                                                             \"answers_id\": \"questions_answered\"})\n",
        "\n",
        "p_received_match_ans.head()"
      ],
      "execution_count": 69,
      "outputs": [
        {
          "output_type": "execute_result",
          "data": {
            "text/html": [
              "<div>\n",
              "<style scoped>\n",
              "    .dataframe tbody tr th:only-of-type {\n",
              "        vertical-align: middle;\n",
              "    }\n",
              "\n",
              "    .dataframe tbody tr th {\n",
              "        vertical-align: top;\n",
              "    }\n",
              "\n",
              "    .dataframe thead th {\n",
              "        text-align: right;\n",
              "    }\n",
              "</style>\n",
              "<table border=\"1\" class=\"dataframe\">\n",
              "  <thead>\n",
              "    <tr style=\"text-align: right;\">\n",
              "      <th></th>\n",
              "      <th>emails_recipient_id</th>\n",
              "      <th>emails_received</th>\n",
              "      <th>questions_received</th>\n",
              "      <th>questions_answered</th>\n",
              "    </tr>\n",
              "  </thead>\n",
              "  <tbody>\n",
              "    <tr>\n",
              "      <th>0</th>\n",
              "      <td>00009a0f9bda43eba47104e9ac62aff5</td>\n",
              "      <td>15</td>\n",
              "      <td>14</td>\n",
              "      <td>3</td>\n",
              "    </tr>\n",
              "    <tr>\n",
              "      <th>1</th>\n",
              "      <td>000d4635e5da41e3bfd83677ee11dda4</td>\n",
              "      <td>2335</td>\n",
              "      <td>945</td>\n",
              "      <td>3</td>\n",
              "    </tr>\n",
              "    <tr>\n",
              "      <th>2</th>\n",
              "      <td>00271cc10e0245fba4a35e76e669c281</td>\n",
              "      <td>41</td>\n",
              "      <td>19</td>\n",
              "      <td>24</td>\n",
              "    </tr>\n",
              "    <tr>\n",
              "      <th>3</th>\n",
              "      <td>0046ab8089c04b3a8df3f8c28621a818</td>\n",
              "      <td>4</td>\n",
              "      <td>3</td>\n",
              "      <td>5</td>\n",
              "    </tr>\n",
              "    <tr>\n",
              "      <th>4</th>\n",
              "      <td>0053becb71d94164b014a5a7d9673210</td>\n",
              "      <td>247</td>\n",
              "      <td>117</td>\n",
              "      <td>2</td>\n",
              "    </tr>\n",
              "  </tbody>\n",
              "</table>\n",
              "</div>"
            ],
            "text/plain": [
              "                emails_recipient_id  ...  questions_answered\n",
              "0  00009a0f9bda43eba47104e9ac62aff5  ...                   3\n",
              "1  000d4635e5da41e3bfd83677ee11dda4  ...                   3\n",
              "2  00271cc10e0245fba4a35e76e669c281  ...                  24\n",
              "3  0046ab8089c04b3a8df3f8c28621a818  ...                   5\n",
              "4  0053becb71d94164b014a5a7d9673210  ...                   2\n",
              "\n",
              "[5 rows x 4 columns]"
            ]
          },
          "metadata": {
            "tags": []
          },
          "execution_count": 69
        }
      ]
    },
    {
      "cell_type": "code",
      "metadata": {
        "trusted": true,
        "id": "6Cp3UvFVNkRW",
        "colab_type": "code",
        "colab": {
          "base_uri": "https://localhost:8080/",
          "height": 173
        },
        "outputId": "8a323184-3295-45d9-8dbc-509ced553370"
      },
      "source": [
        "p_received_match_ans['pct'] = p_received_match_ans['questions_answered'] / p_received_match_ans['questions_received'] \n",
        "\n",
        "p_received_match_ans['pct'].describe()"
      ],
      "execution_count": 70,
      "outputs": [
        {
          "output_type": "execute_result",
          "data": {
            "text/plain": [
              "count    8623.000000\n",
              "mean        0.280648\n",
              "std         1.403672\n",
              "min         0.000511\n",
              "25%         0.016393\n",
              "50%         0.051136\n",
              "75%         0.190476\n",
              "max        83.181818\n",
              "Name: pct, dtype: float64"
            ]
          },
          "metadata": {
            "tags": []
          },
          "execution_count": 70
        }
      ]
    },
    {
      "cell_type": "code",
      "metadata": {
        "trusted": true,
        "_kg_hide-input": true,
        "id": "Twe_0EN7NkRY",
        "colab_type": "code",
        "colab": {}
      },
      "source": [
        "questions, answers = new_question_answers()\n",
        "qa = merging(questions, answers, 'questions_id', 'answers_question_id')"
      ],
      "execution_count": 0,
      "outputs": []
    },
    {
      "cell_type": "markdown",
      "metadata": {
        "id": "kMubUFFPNkRa",
        "colab_type": "text"
      },
      "source": [
        "Apparently, professionals in the 75% percentile and above have a response rate of close to 20%.\n",
        "\n",
        "Before I select a professional to conduct a further analysis, I intend to look for some professionals who have good track record, i.e., those who answered more than 20 questions and has an average response time of less than 5 days."
      ]
    },
    {
      "cell_type": "code",
      "metadata": {
        "trusted": true,
        "_kg_hide-input": true,
        "id": "a2jK68RfNkRa",
        "colab_type": "code",
        "colab": {}
      },
      "source": [
        "questions, answers = new_question_answers()\n",
        "qa = merging(questions, answers, 'questions_id', 'answers_question_id')\n",
        "\n",
        "qa['answers_date_added'] = pd.to_datetime(qa['answers_date_added'])\n",
        "qa['answers_date_added'] = pd.DatetimeIndex([i.replace(tzinfo=None) for i in qa['answers_date_added']])\n",
        "\n",
        "qa['questions_date_added'] = pd.to_datetime(qa['questions_date_added'])\n",
        "qa['questions_date_added'] = pd.DatetimeIndex([i.replace(tzinfo=None) for i in qa['questions_date_added']])\n",
        "\n",
        "qa['resp_time'] = (qa['answers_date_added'] - qa['questions_date_added']).dt.days"
      ],
      "execution_count": 0,
      "outputs": []
    },
    {
      "cell_type": "code",
      "metadata": {
        "trusted": true,
        "id": "qhIc6XCbNkRb",
        "colab_type": "code",
        "colab": {
          "base_uri": "https://localhost:8080/",
          "height": 35
        },
        "outputId": "8b14e2b8-a46a-4b34-b0f2-a575d98240cb"
      },
      "source": [
        "qa['cnt'] = 1\n",
        "p_cnt = qa.groupby('answers_author_id')['cnt'].sum()\n",
        "p_cnti = p_cnt[p_cnt > 20].index\n",
        "p_cnti = p_cnti.tolist()\n",
        "\n",
        "p_resp_time = qa.groupby('answers_author_id')['resp_time'].mean()\n",
        "p_resp_timei = p_resp_time[p_resp_time < 5].index\n",
        "p_resp_timei = p_resp_timei.tolist()\n",
        "\n",
        "its = list(set(p_cnti).intersection(set(p_resp_timei)))\n",
        "\n",
        "print('Number of professionals who answered more than 20 questions and have an average response time of less than 5 days: {}'.format(len(its)))"
      ],
      "execution_count": 75,
      "outputs": [
        {
          "output_type": "stream",
          "text": [
            "Number of professionals who answered more than 20 questions and have an average response time of less than 5 days: 11\n"
          ],
          "name": "stdout"
        }
      ]
    },
    {
      "cell_type": "markdown",
      "metadata": {
        "id": "urtRE4jRNkRd",
        "colab_type": "text"
      },
      "source": [
        "Unfortunately, there are only 11 professionals who meet both criteria. Nevertheless, this is sufficient for me to conduct an analysis. In the section below, I will show both successful and failed cases of the RecSys."
      ]
    },
    {
      "cell_type": "code",
      "metadata": {
        "trusted": true,
        "id": "cOMfajDtNkRd",
        "colab_type": "code",
        "colab": {}
      },
      "source": [
        "SUCCESS_P_ID = '96bbbdd06a334805a0501034d9df1aa4' \n",
        "FAILED_P_ID = '7667c23d26ab409ca3e49758f5367925'"
      ],
      "execution_count": 0,
      "outputs": []
    },
    {
      "cell_type": "code",
      "metadata": {
        "trusted": true,
        "_kg_hide-input": true,
        "id": "G6ixTDSaNkRf",
        "colab_type": "code",
        "colab": {}
      },
      "source": [
        "#################################\n",
        "# For a given professional,\n",
        "# check how many questions have been suggested by CV\n",
        "# and how many of them have been answered\n",
        "#################################\n",
        "\n",
        "def suggest_vs_ans(TEST_P_ID):\n",
        "    print('Professional\\'s headline: {}\\n'.format(professionals[professionals['professionals_id'] == TEST_P_ID]\\\n",
        "                                                ['professionals_headline'].tolist()[0]))\n",
        "    \n",
        "    p_emails_TEST = p_emails[p_emails['professionals_id'] == TEST_P_ID] # 27\n",
        "\n",
        "    df = merging(p_emails_TEST, match_email, 'emails_id', 'matches_email_id')\n",
        "\n",
        "    q_suggested = df['matches_question_id'].tolist()\n",
        "\n",
        "    q_suggested_l = questions[questions['questions_id'].isin(q_suggested)]\n",
        "\n",
        "    q_answered_l = qa[qa['answers_author_id'] == TEST_P_ID]\n",
        "\n",
        "    print('CareerVillage suggested {} questions'.format(q_suggested_l.shape[0]))\n",
        "    print('Professional answered {} questions'.format(q_answered_l.shape[0]))\n",
        "\n",
        "    overlap = set(q_suggested_l['questions_id'].tolist()).intersection(set(q_answered_l['questions_id'].tolist()))\n",
        "\n",
        "    print('{} question(s) suggested were answered'.format(len(overlap)))\n",
        "    \n",
        "    return q_suggested_l, q_answered_l\n",
        "\n",
        "#################################\n",
        "# Create a TEST_qa which includes \n",
        "# TEST_P_ID's answers in a period\n",
        "# and validate result with VALID_qa\n",
        "#################################\n",
        "\n",
        "def test_valid_split(TEST_P_ID, dates):\n",
        "    \n",
        "    TEST_start, TEST_end, VALID_start, VALID_end = dates\n",
        "    \n",
        "    TEST_qa = qa[(qa['answers_date_added'] >= TEST_start) &\n",
        "                 (qa['answers_date_added'] < TEST_end)].reset_index()\n",
        "\n",
        "    VALID_qa = qa[(qa['answers_date_added'] >= VALID_start) &\n",
        "                  (qa['answers_date_added'] < VALID_end)].reset_index()\n",
        "    \n",
        "\n",
        "    TEST_qa_p = TEST_qa[TEST_qa['answers_author_id'] == TEST_P_ID].drop_duplicates(subset=['questions_id'])\n",
        "\n",
        "    VALID_qa = VALID_qa[VALID_qa['answers_author_id'] == TEST_P_ID].drop_duplicates(subset=['questions_id'])\n",
        "    \n",
        "    print('TEST_P_ID has {0} out of {1} entries in TEST_qa'.format(TEST_qa_p.shape[0], TEST_qa.shape[0]))\n",
        "    print('TEST_P_ID has {0} entries in VALID_qa'.format(VALID_qa.shape[0]))\n",
        "    \n",
        "    return TEST_qa, VALID_qa\n",
        "\n",
        "#################################\n",
        "# For each question in VALID_qa,\n",
        "# check whether will the question\n",
        "# be recommended by TF-IDF\n",
        "#################################\n",
        "\n",
        "def calc_hit_rate(correct_idx, VALID_qa, TEST_ans_tf, TEST_t_p_scores):\n",
        "    VALID_qa['questions_title_body'] = VALID_qa['questions_title'] + \\\n",
        "                                       str(' ') + \\\n",
        "                                       VALID_qa['questions_body']\n",
        "    \n",
        "    len_VALID_qa = VALID_qa.shape[0]\n",
        "    \n",
        "    hit_rate = 0\n",
        "\n",
        "    for k, v in VALID_qa.iterrows():\n",
        "        query = v['questions_title_body']\n",
        "\n",
        "        t_p_indices = list(t_relevant_p_indices(query, TEST_ans_tf, TEST_t_p_scores))\n",
        "\n",
        "        if correct_idx in t_p_indices:\n",
        "            hit_rate += 1\n",
        "\n",
        "    success_rate = hit_rate / len_VALID_qa * 100\n",
        "    \n",
        "    print('Success rate of RecSys out of {} questions is {:.1f}%.'.format(len_VALID_qa, (success_rate)))\n",
        "\n",
        "#################################\n",
        "# Get examples of questions suggested\n",
        "# by CV and questions answered by TEST_P_ID\n",
        "#################################\n",
        "\n",
        "def print_egs(q_suggested_l, q_answered_l, n=5):\n",
        "    print('Examples of questions suggested by CV:')\n",
        "    cnt = 1\n",
        "    for q_eg in q_suggested_l.sort_values('questions_date_added')['questions_title'].tolist()[:n]:\n",
        "        print('{0}. {1}'.format(cnt, q_eg))\n",
        "        cnt += 1\n",
        "\n",
        "    cnt = 1\n",
        "    print('\\nExamples of questions answered by TEST_P_ID:')\n",
        "    for q_eg in q_answered_l.sort_values('answers_date_added')['questions_title'].tolist()[:n]:\n",
        "        print('{0}. {1}'.format(cnt, q_eg))\n",
        "        cnt += 1"
      ],
      "execution_count": 0,
      "outputs": []
    },
    {
      "cell_type": "code",
      "metadata": {
        "trusted": true,
        "id": "GDFELGkPNkRk",
        "colab_type": "code",
        "colab": {
          "base_uri": "https://localhost:8080/",
          "height": 104
        },
        "outputId": "6891a799-e77b-41d6-be24-7f06b20c36c7"
      },
      "source": [
        "q_suggested_l, q_answered_l = suggest_vs_ans(FAILED_P_ID)"
      ],
      "execution_count": 78,
      "outputs": [
        {
          "output_type": "stream",
          "text": [
            "Professional's headline: Commercial Sales at Dell\n",
            "\n",
            "CareerVillage suggested 99 questions\n",
            "Professional answered 71 questions\n",
            "0 question(s) suggested were answered\n"
          ],
          "name": "stdout"
        }
      ]
    },
    {
      "cell_type": "markdown",
      "metadata": {
        "id": "oUH5ulahNkRm",
        "colab_type": "text"
      },
      "source": [
        "Interestingly, the professionals answered 71 questions, none of which has been suggested by CareerVillage. Why is this the case?"
      ]
    },
    {
      "cell_type": "code",
      "metadata": {
        "trusted": true,
        "id": "_hxCKqhGNkRp",
        "colab_type": "code",
        "colab": {
          "base_uri": "https://localhost:8080/",
          "height": 262
        },
        "outputId": "3c4ac2db-d566-4f60-e41c-27960bb69f84"
      },
      "source": [
        "print_egs(q_suggested_l, q_answered_l)"
      ],
      "execution_count": 79,
      "outputs": [
        {
          "output_type": "stream",
          "text": [
            "Examples of questions suggested by CV:\n",
            "1. On average how much does someone with a Computer Science degree make right out of school?\n",
            "2. information technology or computer science which of these hard in math?\n",
            "3. why do you like technology and try programing a computer?\n",
            "4. I'm interested in a career in information technology. Are there jobs in aviation you suggest I look into?\n",
            "5. What subjects are required for computer programming and computer engineering  and what jobs will you get with those careers?\n",
            "\n",
            "Examples of questions answered by TEST_P_ID:\n",
            "1. Should I live on campus or should I save money by living in an apartment around the town or city of the university?\n",
            "2. In what ways is technology utilized by doctors?\n",
            "3. what are some of the requirements to becoming a radiology tech\n",
            "4. what courses are affiliated with a major in marketing?\n",
            "5. What is the best college to attend to play football.\n"
          ],
          "name": "stdout"
        }
      ]
    },
    {
      "cell_type": "markdown",
      "metadata": {
        "id": "gPc0DvI8NkRr",
        "colab_type": "text"
      },
      "source": [
        "As seen above, the questions suggested were in fact, **relevant** to the professional's expertise, which revolves around computer science and IT. But the questions answered by `TEST_P_ID` are somewhat different from his or her expertise, including questions about doctor, radiology, and football.\n",
        "\n",
        "Below, I will separate the `qa` into two sections: `TEST_qa`, which includes `qa` before 2016-5-20 and `VALID_qa`, which includes `qa` after 2016-5-20. I will build the `professional_profiles` on the `TEST_qa` and validate the results on `VALID_qa`."
      ]
    },
    {
      "cell_type": "code",
      "metadata": {
        "trusted": true,
        "id": "kFnwibXKNkRs",
        "colab_type": "code",
        "colab": {
          "base_uri": "https://localhost:8080/",
          "height": 52
        },
        "outputId": "9ca96b47-638f-4f42-8298-ae81ab8fd2d1"
      },
      "source": [
        "FAILED_dates = [pd.datetime(2016,5,1), pd.datetime(2016,5,20), pd.datetime(2016,5,20), pd.datetime(2016,5,30)] # failed\n",
        "TEST_qa, VALID_qa = test_valid_split(FAILED_P_ID, FAILED_dates)"
      ],
      "execution_count": 80,
      "outputs": [
        {
          "output_type": "stream",
          "text": [
            "TEST_P_ID has 48 out of 2387 entries in TEST_qa\n",
            "TEST_P_ID has 22 entries in VALID_qa\n"
          ],
          "name": "stdout"
        }
      ]
    },
    {
      "cell_type": "code",
      "metadata": {
        "trusted": true,
        "id": "U6AaeXHENkRw",
        "colab_type": "code",
        "colab": {}
      },
      "source": [
        "# Building profiles for all professionals in the given period\n",
        "TEST_p_ids = TEST_qa['answers_author_id'].unique().tolist()\n",
        "\n",
        "TEST_ans = process_text(TEST_qa, 'answers_body')\n",
        "\n",
        "_, TEST_ans_tf, TEST_ans_vocab, TEST_ans_tfidf_matrix = get_tfidf_matrix(TEST_ans)\n",
        "TEST_t_p_scores = np.asarray(p_profiles(TEST_p_ids, TEST_qa, TEST_ans_tfidf_matrix))"
      ],
      "execution_count": 0,
      "outputs": []
    },
    {
      "cell_type": "code",
      "metadata": {
        "trusted": true,
        "id": "CWuPFwTqNkRz",
        "colab_type": "code",
        "colab": {
          "base_uri": "https://localhost:8080/",
          "height": 348
        },
        "outputId": "530206be-13b7-4367-85e1-373a27c12247"
      },
      "source": [
        "# Get relevant words for TEST_P_ID\n",
        "TEST_p_scores = p_profile(FAILED_P_ID, TEST_qa, TEST_ans_tfidf_matrix)\n",
        "\n",
        "get_p_relevant_words(TEST_p_scores, TEST_ans_vocab)"
      ],
      "execution_count": 82,
      "outputs": [
        {
          "output_type": "execute_result",
          "data": {
            "text/html": [
              "<div>\n",
              "<style scoped>\n",
              "    .dataframe tbody tr th:only-of-type {\n",
              "        vertical-align: middle;\n",
              "    }\n",
              "\n",
              "    .dataframe tbody tr th {\n",
              "        vertical-align: top;\n",
              "    }\n",
              "\n",
              "    .dataframe thead th {\n",
              "        text-align: right;\n",
              "    }\n",
              "</style>\n",
              "<table border=\"1\" class=\"dataframe\">\n",
              "  <thead>\n",
              "    <tr style=\"text-align: right;\">\n",
              "      <th></th>\n",
              "      <th>vocab</th>\n",
              "      <th>score</th>\n",
              "    </tr>\n",
              "  </thead>\n",
              "  <tbody>\n",
              "    <tr>\n",
              "      <th>0</th>\n",
              "      <td>work</td>\n",
              "      <td>0.032170</td>\n",
              "    </tr>\n",
              "    <tr>\n",
              "      <th>1</th>\n",
              "      <td>scholarship</td>\n",
              "      <td>0.029565</td>\n",
              "    </tr>\n",
              "    <tr>\n",
              "      <th>2</th>\n",
              "      <td>school</td>\n",
              "      <td>0.029484</td>\n",
              "    </tr>\n",
              "    <tr>\n",
              "      <th>3</th>\n",
              "      <td>minor</td>\n",
              "      <td>0.027157</td>\n",
              "    </tr>\n",
              "    <tr>\n",
              "      <th>4</th>\n",
              "      <td>good</td>\n",
              "      <td>0.026003</td>\n",
              "    </tr>\n",
              "    <tr>\n",
              "      <th>5</th>\n",
              "      <td>networking</td>\n",
              "      <td>0.024611</td>\n",
              "    </tr>\n",
              "    <tr>\n",
              "      <th>6</th>\n",
              "      <td>want</td>\n",
              "      <td>0.023531</td>\n",
              "    </tr>\n",
              "    <tr>\n",
              "      <th>7</th>\n",
              "      <td>good luck</td>\n",
              "      <td>0.023390</td>\n",
              "    </tr>\n",
              "    <tr>\n",
              "      <th>8</th>\n",
              "      <td>yes</td>\n",
              "      <td>0.022994</td>\n",
              "    </tr>\n",
              "    <tr>\n",
              "      <th>9</th>\n",
              "      <td>english</td>\n",
              "      <td>0.022666</td>\n",
              "    </tr>\n",
              "  </tbody>\n",
              "</table>\n",
              "</div>"
            ],
            "text/plain": [
              "         vocab     score\n",
              "0         work  0.032170\n",
              "1  scholarship  0.029565\n",
              "2       school  0.029484\n",
              "3        minor  0.027157\n",
              "4         good  0.026003\n",
              "5   networking  0.024611\n",
              "6         want  0.023531\n",
              "7    good luck  0.023390\n",
              "8          yes  0.022994\n",
              "9      english  0.022666"
            ]
          },
          "metadata": {
            "tags": []
          },
          "execution_count": 82
        }
      ]
    },
    {
      "cell_type": "markdown",
      "metadata": {
        "id": "gqW7KKa2NkR3",
        "colab_type": "text"
      },
      "source": [
        "Unsurprisingly, the `vocab` that describes `TEST_P_ID` is too varied. Let's see the results from RecSys, I start by ignoring the cold start problem first (I will propose a solution to deal with cold start later) and build a `profile` for `TEST_P_ID` based on 48 questions answered. By calling `calc_hit_rate`, it will return how many of the questions answered by `TEST_P_ID` would be suggested by the RecSys."
      ]
    },
    {
      "cell_type": "code",
      "metadata": {
        "trusted": true,
        "id": "pNt0RyneNkR4",
        "colab_type": "code",
        "colab": {
          "base_uri": "https://localhost:8080/",
          "height": 35
        },
        "outputId": "a82d326e-fa2f-4bb8-99bb-92a88d909404"
      },
      "source": [
        "calc_hit_rate(TEST_p_ids.index(FAILED_P_ID), VALID_qa, TEST_ans_tf, TEST_t_p_scores)"
      ],
      "execution_count": 83,
      "outputs": [
        {
          "output_type": "stream",
          "text": [
            "Success rate of RecSys out of 22 questions is 4.5%.\n"
          ],
          "name": "stdout"
        }
      ]
    },
    {
      "cell_type": "markdown",
      "metadata": {
        "trusted": true,
        "id": "NW_7V2xXNkR5",
        "colab_type": "text"
      },
      "source": [
        "Our RecSys only recommend 1 question that has been answered by `TEST_P_ID`. \n",
        "\n",
        "This might be due to some reasons. I speculate that when professionals log onto careervillage.org, the landing page is not personalized to the professionals' expertise. They end up answering some random questions. I suppose a solution to this issue is to personalize the landing page apart from sending targeted emails. \n",
        "\n",
        "Let's explore a (partly) successful case of the RecSys."
      ]
    },
    {
      "cell_type": "code",
      "metadata": {
        "trusted": true,
        "id": "373jlVrHNkR6",
        "colab_type": "code",
        "colab": {
          "base_uri": "https://localhost:8080/",
          "height": 104
        },
        "outputId": "f3397ac8-8b8a-4dde-d15a-94f7e9fd77e1"
      },
      "source": [
        "q_suggested_l, q_answered_l = suggest_vs_ans(SUCCESS_P_ID)"
      ],
      "execution_count": 84,
      "outputs": [
        {
          "output_type": "stream",
          "text": [
            "Professional's headline: Experienced Higher Educational Professional & Certified Appreciative Advisor\n",
            "\n",
            "CareerVillage suggested 120 questions\n",
            "Professional answered 86 questions\n",
            "15 question(s) suggested were answered\n"
          ],
          "name": "stdout"
        }
      ]
    },
    {
      "cell_type": "markdown",
      "metadata": {
        "id": "G8pTDDCUNkR7",
        "colab_type": "text"
      },
      "source": [
        "This professional has been doing pretty well, answered 15 out of the 120 questions suggested by CareerVillage! Let's take a look at the some examples of the questions suggested by CareerVillage and answered by `TEST_P_ID`."
      ]
    },
    {
      "cell_type": "code",
      "metadata": {
        "trusted": true,
        "id": "YNNHvYHBNkR8",
        "colab_type": "code",
        "colab": {
          "base_uri": "https://localhost:8080/",
          "height": 276
        },
        "outputId": "34bde7f9-c49d-452f-a39e-c47f056aac66"
      },
      "source": [
        "print_egs(q_suggested_l, q_answered_l, 6)"
      ],
      "execution_count": 85,
      "outputs": [
        {
          "output_type": "stream",
          "text": [
            "Examples of questions suggested by CV:\n",
            "1. Is it acceptable to pursue a STEM major at a liberal arts college?\n",
            "2. What do college directors look at?\n",
            "3. What's the difference between co-ed and all women's?\n",
            "4. Does anyone know about the academic/social environment at Harvard University?\n",
            "5. Should I double major if I want to go into music education?\n",
            "6. What classes are good to take in college to be a riding instructor?\n",
            "\n",
            "Examples of questions answered by TEST_P_ID:\n",
            "1. Should i try different jobs that are completely unrelated to my degree or go and find one that i really wanted?\n",
            "2. i would like to know the job opportunities for an IT student?\n",
            "3. Is it acceptable to pursue a STEM major at a liberal arts college?\n",
            "4. Best college to become a veterinarian?\n",
            "5. I want to study aeronautic enginering bt i m biology student ,so can i study it ?\n",
            "6. What do college directors look at?\n"
          ],
          "name": "stdout"
        }
      ]
    },
    {
      "cell_type": "markdown",
      "metadata": {
        "id": "IKbnkECiNkR_",
        "colab_type": "text"
      },
      "source": [
        "The question \"Is it acceptable to pursue a STEM major at a liberal arts college?\" has been suggested and answered by `TEST_P_ID`. Overall, suggested questions and questions answered are in line - they relate to `TEST_P_ID`. \n",
        "\n",
        "Below, I will separate the `qa` into two sections: `TEST_qa`, which includes `qa` before 2016-3-7 and `VALID_qa`, which includes `qa` after 2016-3-7. I will build the `professional_profiles` on the `TEST_qa` and validate the results on `VALID_qa`."
      ]
    },
    {
      "cell_type": "code",
      "metadata": {
        "trusted": true,
        "id": "iz9qeeDONkR_",
        "colab_type": "code",
        "colab": {
          "base_uri": "https://localhost:8080/",
          "height": 52
        },
        "outputId": "5215fdc3-1286-463f-ae8c-c952fca574e4"
      },
      "source": [
        "SUCCESS_dates = [pd.datetime(2016,12,1), pd.datetime(2017,3,7), pd.datetime(2017,3,7), pd.datetime(2017,3,9)] # success\n",
        "TEST_qa, VALID_qa = test_valid_split(SUCCESS_P_ID, SUCCESS_dates)"
      ],
      "execution_count": 86,
      "outputs": [
        {
          "output_type": "stream",
          "text": [
            "TEST_P_ID has 11 out of 2819 entries in TEST_qa\n",
            "TEST_P_ID has 6 entries in VALID_qa\n"
          ],
          "name": "stdout"
        }
      ]
    },
    {
      "cell_type": "code",
      "metadata": {
        "trusted": true,
        "id": "pfcPaLHQNkSB",
        "colab_type": "code",
        "colab": {}
      },
      "source": [
        "# Building profiles for all professionals in the given period\n",
        "TEST_p_ids = TEST_qa['answers_author_id'].unique().tolist()\n",
        "\n",
        "TEST_ans = process_text(TEST_qa, 'answers_body')\n",
        "\n",
        "_, TEST_ans_tf, TEST_ans_vocab, TEST_ans_tfidf_matrix = get_tfidf_matrix(TEST_ans)\n",
        "TEST_t_p_scores = np.asarray(p_profiles(TEST_p_ids, TEST_qa, TEST_ans_tfidf_matrix))"
      ],
      "execution_count": 0,
      "outputs": []
    },
    {
      "cell_type": "code",
      "metadata": {
        "trusted": true,
        "id": "4hN9O7oUNkSD",
        "colab_type": "code",
        "colab": {
          "base_uri": "https://localhost:8080/",
          "height": 348
        },
        "outputId": "a8bcc8ec-1421-4028-b641-4ef3563f068c"
      },
      "source": [
        "# Get relevant words for TEST_P_ID\n",
        "TEST_p_scores = p_profile(SUCCESS_P_ID, TEST_qa, TEST_ans_tfidf_matrix)\n",
        "\n",
        "get_p_relevant_words(TEST_p_scores, TEST_ans_vocab)"
      ],
      "execution_count": 88,
      "outputs": [
        {
          "output_type": "execute_result",
          "data": {
            "text/html": [
              "<div>\n",
              "<style scoped>\n",
              "    .dataframe tbody tr th:only-of-type {\n",
              "        vertical-align: middle;\n",
              "    }\n",
              "\n",
              "    .dataframe tbody tr th {\n",
              "        vertical-align: top;\n",
              "    }\n",
              "\n",
              "    .dataframe thead th {\n",
              "        text-align: right;\n",
              "    }\n",
              "</style>\n",
              "<table border=\"1\" class=\"dataframe\">\n",
              "  <thead>\n",
              "    <tr style=\"text-align: right;\">\n",
              "      <th></th>\n",
              "      <th>vocab</th>\n",
              "      <th>score</th>\n",
              "    </tr>\n",
              "  </thead>\n",
              "  <tbody>\n",
              "    <tr>\n",
              "      <th>0</th>\n",
              "      <td>school</td>\n",
              "      <td>0.064186</td>\n",
              "    </tr>\n",
              "    <tr>\n",
              "      <th>1</th>\n",
              "      <td>thanks question</td>\n",
              "      <td>0.063406</td>\n",
              "    </tr>\n",
              "    <tr>\n",
              "      <th>2</th>\n",
              "      <td>thanks</td>\n",
              "      <td>0.059343</td>\n",
              "    </tr>\n",
              "    <tr>\n",
              "      <th>3</th>\n",
              "      <td>question</td>\n",
              "      <td>0.052838</td>\n",
              "    </tr>\n",
              "    <tr>\n",
              "      <th>4</th>\n",
              "      <td>labor</td>\n",
              "      <td>0.047436</td>\n",
              "    </tr>\n",
              "    <tr>\n",
              "      <th>5</th>\n",
              "      <td>labor statistics</td>\n",
              "      <td>0.041809</td>\n",
              "    </tr>\n",
              "    <tr>\n",
              "      <th>6</th>\n",
              "      <td>bureau labor</td>\n",
              "      <td>0.041466</td>\n",
              "    </tr>\n",
              "    <tr>\n",
              "      <th>7</th>\n",
              "      <td>gpa</td>\n",
              "      <td>0.041452</td>\n",
              "    </tr>\n",
              "    <tr>\n",
              "      <th>8</th>\n",
              "      <td>hi</td>\n",
              "      <td>0.041349</td>\n",
              "    </tr>\n",
              "    <tr>\n",
              "      <th>9</th>\n",
              "      <td>veterinary</td>\n",
              "      <td>0.040397</td>\n",
              "    </tr>\n",
              "  </tbody>\n",
              "</table>\n",
              "</div>"
            ],
            "text/plain": [
              "              vocab     score\n",
              "0            school  0.064186\n",
              "1   thanks question  0.063406\n",
              "2            thanks  0.059343\n",
              "3          question  0.052838\n",
              "4             labor  0.047436\n",
              "5  labor statistics  0.041809\n",
              "6      bureau labor  0.041466\n",
              "7               gpa  0.041452\n",
              "8                hi  0.041349\n",
              "9        veterinary  0.040397"
            ]
          },
          "metadata": {
            "tags": []
          },
          "execution_count": 88
        }
      ]
    },
    {
      "cell_type": "code",
      "metadata": {
        "trusted": true,
        "id": "uFXXdcamNkSE",
        "colab_type": "code",
        "colab": {
          "base_uri": "https://localhost:8080/",
          "height": 35
        },
        "outputId": "59c4374d-8fae-41a1-95dc-fec27465913e"
      },
      "source": [
        "calc_hit_rate(TEST_p_ids.index(SUCCESS_P_ID), VALID_qa, TEST_ans_tf, TEST_t_p_scores)"
      ],
      "execution_count": 89,
      "outputs": [
        {
          "output_type": "stream",
          "text": [
            "Success rate of RecSys out of 6 questions is 16.7%.\n"
          ],
          "name": "stdout"
        }
      ]
    },
    {
      "cell_type": "markdown",
      "metadata": {
        "id": "VMfQYzc3NkSF",
        "colab_type": "text"
      },
      "source": [
        "The RecSys managed to recommend 1 out of the 6 questions answered by `TEST_P_ID` and the question - \"What do college directors look at?\" was not suggested by CareerVillage but suggested by the RecSys. Even though the `vocab_score` does not give a indication of `TEST_P_ID`'s expertise (due to cold start problem since we only builed the profile on 11 questions), it is still an improvement!\n",
        "\n",
        "# 4. Future recommendations\n",
        "## Recommendation #1: Option to modify profile\n",
        "Although I am building a RecSys that helps to recommend relevant questions to professionals, I am thinking of having professionals to improve the RecSys. This approach is especially useful when a professional intends to answer questions he or she is interested in. For instance, the IT professional above could be interested in and have some knowledge about \"marketing\" or have experiences in the role in the past.\n",
        "\n",
        "I suggest adding the option of allowing professionals to \"update\" their profile. After displaying the `vocab_score`, professionals are given the option to weigh certain word that they think describe themselves better or words they are more interested in answering heavier. This recommendation could also help resolve the issue we had in Evaluation Approach #4 when professionals have been answering questions not quite related to their expertise.\n",
        "\n",
        "I will illustrate this idea with only the TF-IDF model to speed things up."
      ]
    },
    {
      "cell_type": "code",
      "metadata": {
        "trusted": true,
        "_uuid": "7d9fb50baf52a4709b8eda3cbfab3ed7e67f7ced",
        "id": "JAfneKAwNkSF",
        "colab_type": "code",
        "colab": {}
      },
      "source": [
        "def vocab_scores_update(scores, vocab_score_df, indices, ans_vocab, top_n=10):\n",
        "    new_weight = 0.5 / len(indices) \n",
        "\n",
        "    scores_idx = np.argsort(scores)[::-1][:top_n]\n",
        "    \n",
        "    total_scores = sum(scores)\n",
        "                    \n",
        "    for idx in indices: \n",
        "        original_weight = scores[scores_idx[idx]] / total_scores\n",
        "        scores[scores_idx[idx]] = new_weight * scores[scores_idx[idx]] / original_weight\n",
        "        \n",
        "    return scores"
      ],
      "execution_count": 0,
      "outputs": []
    },
    {
      "cell_type": "markdown",
      "metadata": {
        "_uuid": "e00404227a2daff6dc7697df06697600ad853cc8",
        "id": "sn5-AaouNkSG",
        "colab_type": "text"
      },
      "source": [
        "First, enter a query to see who are the professionals being suggested."
      ]
    },
    {
      "cell_type": "code",
      "metadata": {
        "trusted": true,
        "_uuid": "60c7124af4694b2e41e80574d5e3d6b76f1bd36c",
        "id": "030EbJQNNkSG",
        "colab_type": "code",
        "colab": {}
      },
      "source": [
        "query = 'i am interested in pursuing a career in professional football. i enjoy playing football as a kid and want to be in the nfl'"
      ],
      "execution_count": 0,
      "outputs": []
    },
    {
      "cell_type": "code",
      "metadata": {
        "trusted": true,
        "id": "0_jvb2C0NkSJ",
        "colab_type": "code",
        "colab": {}
      },
      "source": [
        "questions, answers = new_question_answers()\n",
        "\n",
        "questions = questions[:1000]\n",
        "qa = merging(questions, answers, 'questions_id', 'answers_question_id')\n",
        "\n",
        "# clean answers_body\n",
        "ans = process_text(qa, 'answers_body').values\n",
        "\n",
        "# create a list of professionals_ids\n",
        "p_ids = qa['answers_author_id'].unique().tolist()"
      ],
      "execution_count": 0,
      "outputs": []
    },
    {
      "cell_type": "code",
      "metadata": {
        "trusted": true,
        "_uuid": "aa90b41ba6a37db152037b81a431133a58527e10",
        "id": "alb3kSJMNkSL",
        "colab_type": "code",
        "colab": {
          "base_uri": "https://localhost:8080/",
          "height": 121
        },
        "outputId": "b3871da9-5c88-41e4-df67-95e5bab25a24"
      },
      "source": [
        "_, ans_tf, ans_vocab, ans_tfidf_matrix = get_tfidf_matrix(ans)\n",
        "t_p_scores = np.asarray(p_profiles(p_ids, qa, ans_tfidf_matrix))\n",
        "\n",
        "t_p_indices = t_relevant_p_indices(query, ans_tf, t_p_scores)\n",
        "\n",
        "ps = [p_ids[pid] for pid in t_p_indices][:5]\n",
        "\n",
        "print('Top 5 relevant professionals:')\n",
        "ps"
      ],
      "execution_count": 93,
      "outputs": [
        {
          "output_type": "stream",
          "text": [
            "Top 5 relevant professionals:\n"
          ],
          "name": "stdout"
        },
        {
          "output_type": "execute_result",
          "data": {
            "text/plain": [
              "['d7576ac17e9542ffb3935457c6a71c76',\n",
              " '0d134d3f07a2408a88983d9069c625e6',\n",
              " '6acc953bfe9549cfb3ffd6642b5a7f1c',\n",
              " 'f3cec1b7b77a428ab7f71a39557ea741',\n",
              " 'a7bf251a290b418e923e8f04a67b7ebb']"
            ]
          },
          "metadata": {
            "tags": []
          },
          "execution_count": 93
        }
      ]
    },
    {
      "cell_type": "code",
      "metadata": {
        "trusted": true,
        "id": "FZYtl8R4NkSN",
        "colab_type": "code",
        "colab": {
          "base_uri": "https://localhost:8080/",
          "height": 305
        },
        "outputId": "def9baa7-bfd4-476d-fd89-614da799012f"
      },
      "source": [
        "professionals[professionals['professionals_id'].isin(ps)]"
      ],
      "execution_count": 94,
      "outputs": [
        {
          "output_type": "execute_result",
          "data": {
            "text/html": [
              "<div>\n",
              "<style scoped>\n",
              "    .dataframe tbody tr th:only-of-type {\n",
              "        vertical-align: middle;\n",
              "    }\n",
              "\n",
              "    .dataframe tbody tr th {\n",
              "        vertical-align: top;\n",
              "    }\n",
              "\n",
              "    .dataframe thead th {\n",
              "        text-align: right;\n",
              "    }\n",
              "</style>\n",
              "<table border=\"1\" class=\"dataframe\">\n",
              "  <thead>\n",
              "    <tr style=\"text-align: right;\">\n",
              "      <th></th>\n",
              "      <th>professionals_id</th>\n",
              "      <th>professionals_location</th>\n",
              "      <th>professionals_industry</th>\n",
              "      <th>professionals_headline</th>\n",
              "      <th>professionals_date_joined</th>\n",
              "    </tr>\n",
              "  </thead>\n",
              "  <tbody>\n",
              "    <tr>\n",
              "      <th>2449</th>\n",
              "      <td>d7576ac17e9542ffb3935457c6a71c76</td>\n",
              "      <td>Wilmington, Delaware</td>\n",
              "      <td>Nonprofit Organization Management</td>\n",
              "      <td>Senior Sports Director YMCA</td>\n",
              "      <td>2015-11-01 18:19:14 UTC+0000</td>\n",
              "    </tr>\n",
              "    <tr>\n",
              "      <th>6900</th>\n",
              "      <td>6acc953bfe9549cfb3ffd6642b5a7f1c</td>\n",
              "      <td>Romford, England, United Kingdom</td>\n",
              "      <td>Information Technology and Services</td>\n",
              "      <td>Principal Architect - IC&amp;C</td>\n",
              "      <td>2016-05-26 09:03:55 UTC+0000</td>\n",
              "    </tr>\n",
              "    <tr>\n",
              "      <th>7733</th>\n",
              "      <td>0d134d3f07a2408a88983d9069c625e6</td>\n",
              "      <td>Albuquerque, New Mexico</td>\n",
              "      <td>Broadcast Media</td>\n",
              "      <td>Media Relations Director/Event Coordinator at ...</td>\n",
              "      <td>2016-08-17 19:04:54 UTC+0000</td>\n",
              "    </tr>\n",
              "    <tr>\n",
              "      <th>22789</th>\n",
              "      <td>f3cec1b7b77a428ab7f71a39557ea741</td>\n",
              "      <td>Missoula, Montana</td>\n",
              "      <td>Telecommunications</td>\n",
              "      <td>Senior Vendor Manager</td>\n",
              "      <td>2018-09-04 18:24:14 UTC+0000</td>\n",
              "    </tr>\n",
              "    <tr>\n",
              "      <th>24454</th>\n",
              "      <td>a7bf251a290b418e923e8f04a67b7ebb</td>\n",
              "      <td>Seattle, Washington</td>\n",
              "      <td>Software engineering</td>\n",
              "      <td>Software Development Engineer</td>\n",
              "      <td>2018-10-23 04:15:44 UTC+0000</td>\n",
              "    </tr>\n",
              "  </tbody>\n",
              "</table>\n",
              "</div>"
            ],
            "text/plain": [
              "                       professionals_id  ...     professionals_date_joined\n",
              "2449   d7576ac17e9542ffb3935457c6a71c76  ...  2015-11-01 18:19:14 UTC+0000\n",
              "6900   6acc953bfe9549cfb3ffd6642b5a7f1c  ...  2016-05-26 09:03:55 UTC+0000\n",
              "7733   0d134d3f07a2408a88983d9069c625e6  ...  2016-08-17 19:04:54 UTC+0000\n",
              "22789  f3cec1b7b77a428ab7f71a39557ea741  ...  2018-09-04 18:24:14 UTC+0000\n",
              "24454  a7bf251a290b418e923e8f04a67b7ebb  ...  2018-10-23 04:15:44 UTC+0000\n",
              "\n",
              "[5 rows x 5 columns]"
            ]
          },
          "metadata": {
            "tags": []
          },
          "execution_count": 94
        }
      ]
    },
    {
      "cell_type": "markdown",
      "metadata": {
        "_uuid": "23f7d958a964156ebc212b6c88bf2248e7bede8b",
        "id": "AK7HC43-NkSO",
        "colab_type": "text"
      },
      "source": [
        "From the recommendation above, observe that 5 professionals have been recommended in that order. Given the option to \"update\" the score, I try to show that if `0d134d3f07a2408a88983d9069c625e6` were to update his or her profile, the RecSys will suggest `0d134d3f07a2408a88983d9069c625e6` as the first choice. Notice that `0d134d3f07a2408a88983d9069c625e6` is from the broadcast media industry but perhaps, is knowledeable about football.\n",
        "\n",
        "Let's see the `vocab` and `score` for this professional."
      ]
    },
    {
      "cell_type": "code",
      "metadata": {
        "trusted": true,
        "_uuid": "8c1eb7b733cb7a0b8e30f35bef8fce16d13ebe07",
        "id": "oFY7Bl-aNkSP",
        "colab_type": "code",
        "colab": {
          "base_uri": "https://localhost:8080/",
          "height": 348
        },
        "outputId": "59dbf65a-0b8c-4a46-eefa-b91a6d1fa341"
      },
      "source": [
        "TEST_P_ID = '0d134d3f07a2408a88983d9069c625e6'\n",
        "\n",
        "TEST_P_SCORES = p_profile(TEST_P_ID, qa, ans_tfidf_matrix)    \n",
        "\n",
        "score_profile = get_p_relevant_words(TEST_P_SCORES, ans_vocab) \n",
        "\n",
        "score_profile"
      ],
      "execution_count": 95,
      "outputs": [
        {
          "output_type": "execute_result",
          "data": {
            "text/html": [
              "<div>\n",
              "<style scoped>\n",
              "    .dataframe tbody tr th:only-of-type {\n",
              "        vertical-align: middle;\n",
              "    }\n",
              "\n",
              "    .dataframe tbody tr th {\n",
              "        vertical-align: top;\n",
              "    }\n",
              "\n",
              "    .dataframe thead th {\n",
              "        text-align: right;\n",
              "    }\n",
              "</style>\n",
              "<table border=\"1\" class=\"dataframe\">\n",
              "  <thead>\n",
              "    <tr style=\"text-align: right;\">\n",
              "      <th></th>\n",
              "      <th>vocab</th>\n",
              "      <th>score</th>\n",
              "    </tr>\n",
              "  </thead>\n",
              "  <tbody>\n",
              "    <tr>\n",
              "      <th>0</th>\n",
              "      <td>athletics</td>\n",
              "      <td>0.280136</td>\n",
              "    </tr>\n",
              "    <tr>\n",
              "      <th>1</th>\n",
              "      <td>sports</td>\n",
              "      <td>0.265478</td>\n",
              "    </tr>\n",
              "    <tr>\n",
              "      <th>2</th>\n",
              "      <td>making connections</td>\n",
              "      <td>0.253399</td>\n",
              "    </tr>\n",
              "    <tr>\n",
              "      <th>3</th>\n",
              "      <td>connections</td>\n",
              "      <td>0.186775</td>\n",
              "    </tr>\n",
              "    <tr>\n",
              "      <th>4</th>\n",
              "      <td>department</td>\n",
              "      <td>0.175040</td>\n",
              "    </tr>\n",
              "    <tr>\n",
              "      <th>5</th>\n",
              "      <td>nfl</td>\n",
              "      <td>0.140068</td>\n",
              "    </tr>\n",
              "    <tr>\n",
              "      <th>6</th>\n",
              "      <td>sure ask</td>\n",
              "      <td>0.140068</td>\n",
              "    </tr>\n",
              "    <tr>\n",
              "      <th>7</th>\n",
              "      <td>administration college</td>\n",
              "      <td>0.140068</td>\n",
              "    </tr>\n",
              "    <tr>\n",
              "      <th>8</th>\n",
              "      <td>information director</td>\n",
              "      <td>0.140068</td>\n",
              "    </tr>\n",
              "    <tr>\n",
              "      <th>9</th>\n",
              "      <td>professional sports</td>\n",
              "      <td>0.140068</td>\n",
              "    </tr>\n",
              "  </tbody>\n",
              "</table>\n",
              "</div>"
            ],
            "text/plain": [
              "                    vocab     score\n",
              "0               athletics  0.280136\n",
              "1                  sports  0.265478\n",
              "2      making connections  0.253399\n",
              "3             connections  0.186775\n",
              "4              department  0.175040\n",
              "5                     nfl  0.140068\n",
              "6                sure ask  0.140068\n",
              "7  administration college  0.140068\n",
              "8    information director  0.140068\n",
              "9     professional sports  0.140068"
            ]
          },
          "metadata": {
            "tags": []
          },
          "execution_count": 95
        }
      ]
    },
    {
      "cell_type": "markdown",
      "metadata": {
        "_uuid": "daac9d35257635d122b77a977691dc48d5dc3292",
        "id": "KXbIRDMeNkSS",
        "colab_type": "text"
      },
      "source": [
        "Now assume that he or she intends to modify the score profile by increasing the weight assigned to `nfl`, I then update the score profile as follows. "
      ]
    },
    {
      "cell_type": "code",
      "metadata": {
        "trusted": true,
        "_uuid": "59ac82066c185574fec8669c8c7a26d573a66083",
        "id": "I3Y5ynVLNkSS",
        "colab_type": "code",
        "colab": {
          "base_uri": "https://localhost:8080/",
          "height": 348
        },
        "outputId": "77ef7493-879e-4319-81a4-a95716c79229"
      },
      "source": [
        "update = vocab_scores_update(TEST_P_SCORES, score_profile, [5], ans_vocab)\n",
        "\n",
        "get_p_relevant_words(update, ans_vocab)"
      ],
      "execution_count": 96,
      "outputs": [
        {
          "output_type": "execute_result",
          "data": {
            "text/html": [
              "<div>\n",
              "<style scoped>\n",
              "    .dataframe tbody tr th:only-of-type {\n",
              "        vertical-align: middle;\n",
              "    }\n",
              "\n",
              "    .dataframe tbody tr th {\n",
              "        vertical-align: top;\n",
              "    }\n",
              "\n",
              "    .dataframe thead th {\n",
              "        text-align: right;\n",
              "    }\n",
              "</style>\n",
              "<table border=\"1\" class=\"dataframe\">\n",
              "  <thead>\n",
              "    <tr style=\"text-align: right;\">\n",
              "      <th></th>\n",
              "      <th>vocab</th>\n",
              "      <th>score</th>\n",
              "    </tr>\n",
              "  </thead>\n",
              "  <tbody>\n",
              "    <tr>\n",
              "      <th>0</th>\n",
              "      <td>nfl</td>\n",
              "      <td>3.973817</td>\n",
              "    </tr>\n",
              "    <tr>\n",
              "      <th>1</th>\n",
              "      <td>athletics</td>\n",
              "      <td>0.280136</td>\n",
              "    </tr>\n",
              "    <tr>\n",
              "      <th>2</th>\n",
              "      <td>sports</td>\n",
              "      <td>0.265478</td>\n",
              "    </tr>\n",
              "    <tr>\n",
              "      <th>3</th>\n",
              "      <td>making connections</td>\n",
              "      <td>0.253399</td>\n",
              "    </tr>\n",
              "    <tr>\n",
              "      <th>4</th>\n",
              "      <td>connections</td>\n",
              "      <td>0.186775</td>\n",
              "    </tr>\n",
              "    <tr>\n",
              "      <th>5</th>\n",
              "      <td>department</td>\n",
              "      <td>0.175040</td>\n",
              "    </tr>\n",
              "    <tr>\n",
              "      <th>6</th>\n",
              "      <td>sure ask</td>\n",
              "      <td>0.140068</td>\n",
              "    </tr>\n",
              "    <tr>\n",
              "      <th>7</th>\n",
              "      <td>administration college</td>\n",
              "      <td>0.140068</td>\n",
              "    </tr>\n",
              "    <tr>\n",
              "      <th>8</th>\n",
              "      <td>information director</td>\n",
              "      <td>0.140068</td>\n",
              "    </tr>\n",
              "    <tr>\n",
              "      <th>9</th>\n",
              "      <td>professional sports</td>\n",
              "      <td>0.140068</td>\n",
              "    </tr>\n",
              "  </tbody>\n",
              "</table>\n",
              "</div>"
            ],
            "text/plain": [
              "                    vocab     score\n",
              "0                     nfl  3.973817\n",
              "1               athletics  0.280136\n",
              "2                  sports  0.265478\n",
              "3      making connections  0.253399\n",
              "4             connections  0.186775\n",
              "5              department  0.175040\n",
              "6                sure ask  0.140068\n",
              "7  administration college  0.140068\n",
              "8    information director  0.140068\n",
              "9     professional sports  0.140068"
            ]
          },
          "metadata": {
            "tags": []
          },
          "execution_count": 96
        }
      ]
    },
    {
      "cell_type": "code",
      "metadata": {
        "trusted": true,
        "_uuid": "f66678b2f4c2048f8b6d07946aba804de97ada48",
        "id": "RTDdLXTVNkSW",
        "colab_type": "code",
        "colab": {
          "base_uri": "https://localhost:8080/",
          "height": 121
        },
        "outputId": "d74ede2c-0a57-4772-92bb-22d85f68bd4f"
      },
      "source": [
        "t_p_scores[t_p_indices[1]] = update\n",
        "\n",
        "updated_t_p_indices = t_relevant_p_indices(query, ans_tf, t_p_scores)\n",
        "\n",
        "ps = [p_ids[pid] for pid in updated_t_p_indices][:5]\n",
        "\n",
        "print('Top 5 relevant professionals after update:')\n",
        "ps"
      ],
      "execution_count": 97,
      "outputs": [
        {
          "output_type": "stream",
          "text": [
            "Top 5 relevant professionals after update:\n"
          ],
          "name": "stdout"
        },
        {
          "output_type": "execute_result",
          "data": {
            "text/plain": [
              "['0d134d3f07a2408a88983d9069c625e6',\n",
              " 'd7576ac17e9542ffb3935457c6a71c76',\n",
              " '6acc953bfe9549cfb3ffd6642b5a7f1c',\n",
              " 'f3cec1b7b77a428ab7f71a39557ea741',\n",
              " 'a7bf251a290b418e923e8f04a67b7ebb']"
            ]
          },
          "metadata": {
            "tags": []
          },
          "execution_count": 97
        }
      ]
    },
    {
      "cell_type": "markdown",
      "metadata": {
        "_uuid": "1410547c6ea5078366e3f6f55b9f3c75f37f36a7",
        "id": "WmOcOVmuNkSZ",
        "colab_type": "text"
      },
      "source": [
        "The approach is working! `0d134d3f07a2408a88983d9069c625e6` is now ranked first. Essentially, this approach furnishes some form of interpretability on how is the `query` recommended to the professionals through their respective `score_profile`. This allows professionals to manually tune questions they are more interested in answering to help our RecSys suggests better questions and build a relevant profile.\n",
        "\n",
        "Of course, the RecSys will also be able to update the `score_profile` automatically for each professional after he or she answers a query with a given example below. Say a professional has been asked about UI UX and provided a response below."
      ]
    },
    {
      "cell_type": "code",
      "metadata": {
        "trusted": true,
        "_uuid": "b97cef38c87253ddddd628cda3aed2397513c89a",
        "id": "G0235tZ5NkSa",
        "colab_type": "code",
        "colab": {
          "base_uri": "https://localhost:8080/",
          "height": 121
        },
        "outputId": "b29c2260-2274-4e33-979e-ef191c06e962"
      },
      "source": [
        "query = 'i am interested in ui ux design. suggestions please'\n",
        "\n",
        "t_p_indices = t_relevant_p_indices(query, ans_tf, t_p_scores)\n",
        "\n",
        "print('Top 5 relevant professionals:')\n",
        "[p_ids[pid] for pid in t_p_indices][:5]"
      ],
      "execution_count": 98,
      "outputs": [
        {
          "output_type": "stream",
          "text": [
            "Top 5 relevant professionals:\n"
          ],
          "name": "stdout"
        },
        {
          "output_type": "execute_result",
          "data": {
            "text/plain": [
              "['e3162efbb9e14208a16d03a4ac0e939c',\n",
              " 'ad4031fc394a4b59874964c23d791f0a',\n",
              " 'a3fae772a6cf4cb195da37458e937572',\n",
              " 'fc8675180eee4e2985bb2ccfaf712241',\n",
              " '2f749b47824f432f917280db5e574d68']"
            ]
          },
          "metadata": {
            "tags": []
          },
          "execution_count": 98
        }
      ]
    },
    {
      "cell_type": "markdown",
      "metadata": {
        "id": "aqtWZreVNkSf",
        "colab_type": "text"
      },
      "source": [
        "Say the 3rd suggested professional `a3fae772a6cf4cb195da37458e937572` provided the following response. "
      ]
    },
    {
      "cell_type": "code",
      "metadata": {
        "trusted": true,
        "id": "a8YNSezlNkSg",
        "colab_type": "code",
        "colab": {
          "base_uri": "https://localhost:8080/",
          "height": 348
        },
        "outputId": "7e05b4dd-5670-45e4-9dd7-3736504d7be2"
      },
      "source": [
        "TEST_P_ID = 'a3fae772a6cf4cb195da37458e937572'\n",
        "\n",
        "TEST_P_SCORES = p_profile(TEST_P_ID, qa, ans_tfidf_matrix)    \n",
        "\n",
        "score_profile = get_p_relevant_words(TEST_P_SCORES, ans_vocab) \n",
        "\n",
        "score_profile"
      ],
      "execution_count": 99,
      "outputs": [
        {
          "output_type": "execute_result",
          "data": {
            "text/html": [
              "<div>\n",
              "<style scoped>\n",
              "    .dataframe tbody tr th:only-of-type {\n",
              "        vertical-align: middle;\n",
              "    }\n",
              "\n",
              "    .dataframe tbody tr th {\n",
              "        vertical-align: top;\n",
              "    }\n",
              "\n",
              "    .dataframe thead th {\n",
              "        text-align: right;\n",
              "    }\n",
              "</style>\n",
              "<table border=\"1\" class=\"dataframe\">\n",
              "  <thead>\n",
              "    <tr style=\"text-align: right;\">\n",
              "      <th></th>\n",
              "      <th>vocab</th>\n",
              "      <th>score</th>\n",
              "    </tr>\n",
              "  </thead>\n",
              "  <tbody>\n",
              "    <tr>\n",
              "      <th>0</th>\n",
              "      <td>ux</td>\n",
              "      <td>0.145119</td>\n",
              "    </tr>\n",
              "    <tr>\n",
              "      <th>1</th>\n",
              "      <td>experience</td>\n",
              "      <td>0.117759</td>\n",
              "    </tr>\n",
              "    <tr>\n",
              "      <th>2</th>\n",
              "      <td>world experience</td>\n",
              "      <td>0.114951</td>\n",
              "    </tr>\n",
              "    <tr>\n",
              "      <th>3</th>\n",
              "      <td>ui</td>\n",
              "      <td>0.104430</td>\n",
              "    </tr>\n",
              "    <tr>\n",
              "      <th>4</th>\n",
              "      <td>real world</td>\n",
              "      <td>0.100761</td>\n",
              "    </tr>\n",
              "    <tr>\n",
              "      <th>5</th>\n",
              "      <td>user</td>\n",
              "      <td>0.098170</td>\n",
              "    </tr>\n",
              "    <tr>\n",
              "      <th>6</th>\n",
              "      <td>thought process</td>\n",
              "      <td>0.090622</td>\n",
              "    </tr>\n",
              "    <tr>\n",
              "      <th>7</th>\n",
              "      <td>hi anna</td>\n",
              "      <td>0.089557</td>\n",
              "    </tr>\n",
              "    <tr>\n",
              "      <th>8</th>\n",
              "      <td>degree subject</td>\n",
              "      <td>0.086805</td>\n",
              "    </tr>\n",
              "    <tr>\n",
              "      <th>9</th>\n",
              "      <td>product</td>\n",
              "      <td>0.085093</td>\n",
              "    </tr>\n",
              "  </tbody>\n",
              "</table>\n",
              "</div>"
            ],
            "text/plain": [
              "              vocab     score\n",
              "0                ux  0.145119\n",
              "1        experience  0.117759\n",
              "2  world experience  0.114951\n",
              "3                ui  0.104430\n",
              "4        real world  0.100761\n",
              "5              user  0.098170\n",
              "6   thought process  0.090622\n",
              "7           hi anna  0.089557\n",
              "8    degree subject  0.086805\n",
              "9           product  0.085093"
            ]
          },
          "metadata": {
            "tags": []
          },
          "execution_count": 99
        }
      ]
    },
    {
      "cell_type": "code",
      "metadata": {
        "trusted": true,
        "id": "kssO6JePNkSh",
        "colab_type": "code",
        "colab": {}
      },
      "source": [
        "response = 'hi there. it is awesome to know that you are interested in the field of ui ux design. i work as a ui ux designed and my job involves coming up with design that will attract users or make them stay more engaged with the app.'"
      ],
      "execution_count": 0,
      "outputs": []
    },
    {
      "cell_type": "code",
      "metadata": {
        "trusted": true,
        "_uuid": "7dcdde79279e1bf7dd2cde979e41e4a2737b407f",
        "_kg_hide-input": true,
        "id": "WOCVFPj-NkSj",
        "colab_type": "code",
        "colab": {}
      },
      "source": [
        "def resp_p_profile(p_id, qa, mat, response):\n",
        "    \n",
        "    resp_tokens = query_to_tokens(response)\n",
        "\n",
        "    resp_tf_score = ans_tf.transform(resp_tokens).toarray()\n",
        "\n",
        "    resp_score = np.mean(resp_tf_score, axis=0).reshape(1, -1).flatten()\n",
        "    \n",
        "    l = qa[qa['answers_author_id'] == p_id].index\n",
        "    original_scores = []\n",
        "    \n",
        "    for idx in l:\n",
        "        try:\n",
        "            original_scores.append(mat[idx].toarray().flatten())\n",
        "        except:\n",
        "            original_scores.append(mat[idx].flatten())\n",
        "                            \n",
        "    final_scores = np.vstack((resp_score, np.asarray(original_scores)))    \n",
        "    final_scores = np.mean(final_scores, axis=0)\n",
        "    return final_scores"
      ],
      "execution_count": 0,
      "outputs": []
    },
    {
      "cell_type": "code",
      "metadata": {
        "trusted": true,
        "_uuid": "7f7d5707d868ca9020a9b8f2d81d8d061a5011b1",
        "id": "_nSVXJV6NkSl",
        "colab_type": "code",
        "colab": {
          "base_uri": "https://localhost:8080/",
          "height": 348
        },
        "outputId": "bcd8242f-a19f-4c0b-f617-be097492ba25"
      },
      "source": [
        "t_p_scores[p_ids.index(TEST_P_ID)] = resp_p_profile(TEST_P_ID, qa, ans_tfidf_matrix, response)\n",
        "\n",
        "score_profile = get_p_relevant_words(t_p_scores[p_ids.index(TEST_P_ID)], ans_vocab) \n",
        "\n",
        "score_profile"
      ],
      "execution_count": 102,
      "outputs": [
        {
          "output_type": "execute_result",
          "data": {
            "text/html": [
              "<div>\n",
              "<style scoped>\n",
              "    .dataframe tbody tr th:only-of-type {\n",
              "        vertical-align: middle;\n",
              "    }\n",
              "\n",
              "    .dataframe tbody tr th {\n",
              "        vertical-align: top;\n",
              "    }\n",
              "\n",
              "    .dataframe thead th {\n",
              "        text-align: right;\n",
              "    }\n",
              "</style>\n",
              "<table border=\"1\" class=\"dataframe\">\n",
              "  <thead>\n",
              "    <tr style=\"text-align: right;\">\n",
              "      <th></th>\n",
              "      <th>vocab</th>\n",
              "      <th>score</th>\n",
              "    </tr>\n",
              "  </thead>\n",
              "  <tbody>\n",
              "    <tr>\n",
              "      <th>0</th>\n",
              "      <td>ux</td>\n",
              "      <td>0.135846</td>\n",
              "    </tr>\n",
              "    <tr>\n",
              "      <th>1</th>\n",
              "      <td>ui</td>\n",
              "      <td>0.107358</td>\n",
              "    </tr>\n",
              "    <tr>\n",
              "      <th>2</th>\n",
              "      <td>experience</td>\n",
              "      <td>0.088319</td>\n",
              "    </tr>\n",
              "    <tr>\n",
              "      <th>3</th>\n",
              "      <td>world experience</td>\n",
              "      <td>0.086213</td>\n",
              "    </tr>\n",
              "    <tr>\n",
              "      <th>4</th>\n",
              "      <td>real world</td>\n",
              "      <td>0.075571</td>\n",
              "    </tr>\n",
              "    <tr>\n",
              "      <th>5</th>\n",
              "      <td>design</td>\n",
              "      <td>0.074658</td>\n",
              "    </tr>\n",
              "    <tr>\n",
              "      <th>6</th>\n",
              "      <td>user</td>\n",
              "      <td>0.073628</td>\n",
              "    </tr>\n",
              "    <tr>\n",
              "      <th>7</th>\n",
              "      <td>thought process</td>\n",
              "      <td>0.067966</td>\n",
              "    </tr>\n",
              "    <tr>\n",
              "      <th>8</th>\n",
              "      <td>make</td>\n",
              "      <td>0.067448</td>\n",
              "    </tr>\n",
              "    <tr>\n",
              "      <th>9</th>\n",
              "      <td>hi anna</td>\n",
              "      <td>0.067168</td>\n",
              "    </tr>\n",
              "  </tbody>\n",
              "</table>\n",
              "</div>"
            ],
            "text/plain": [
              "              vocab     score\n",
              "0                ux  0.135846\n",
              "1                ui  0.107358\n",
              "2        experience  0.088319\n",
              "3  world experience  0.086213\n",
              "4        real world  0.075571\n",
              "5            design  0.074658\n",
              "6              user  0.073628\n",
              "7   thought process  0.067966\n",
              "8              make  0.067448\n",
              "9           hi anna  0.067168"
            ]
          },
          "metadata": {
            "tags": []
          },
          "execution_count": 102
        }
      ]
    },
    {
      "cell_type": "markdown",
      "metadata": {
        "id": "qM9iy0l0NkSn",
        "colab_type": "text"
      },
      "source": [
        "Observe how `ui` leaped from the 4th position to the 2nd. \n",
        "\n",
        "## Recommendation #2: Three-day email notification\n",
        "My second recommendation is to add a three-day email notification setting. I will illustrate this experiment over a three-day period. First, I randomly assign an email notification setting of daily and every 3-day (can be extended to weekly or monthly) to all the professionals in `p_ids`. \n",
        "\n",
        "On day 1, I look at the questions posted and recommend 5 professionals to each question. If the professionals happen to be in the group of `three_day_noti` we recommend the question to the professionals and mark them in `dont_ask`, which is equivalent to removing them from our suggested pool. If the professionals happen to be in group of `daily_noti` we keep them.\n",
        "\n",
        "Repeat the same process for day 2 and day 3. \n",
        "\n",
        "Since there is a considerable amount of questions being asked from 2017-3-20 to 2017-3-23. I will select these 3 days as my validation set. `TRAIN_qa` will then include questions one month before 2017-3-20."
      ]
    },
    {
      "cell_type": "code",
      "metadata": {
        "trusted": true,
        "_kg_hide-input": false,
        "id": "0sAcG1b9NkSn",
        "colab_type": "code",
        "colab": {
          "base_uri": "https://localhost:8080/",
          "height": 69
        },
        "outputId": "9bb6cc09-bf22-487a-e216-9dea48e367cd"
      },
      "source": [
        "import datetime\n",
        "\n",
        "questions, answers = new_question_answers()\n",
        "\n",
        "questions['questions_date_added'] = pd.to_datetime(questions['questions_date_added'])\n",
        "questions['questions_date_added']  = pd.DatetimeIndex([i.replace(tzinfo=None) for i in questions['questions_date_added']])\n",
        "\n",
        "# answers_date_added\n",
        "\n",
        "questions_d1 = questions[(questions['questions_date_added'] >= pd.datetime(2017, 3, 20)) &\n",
        "                         (questions['questions_date_added'] < pd.datetime(2017, 3, 21))]\n",
        "\n",
        "questions_d2 = questions[(questions['questions_date_added'] >= pd.datetime(2017, 3, 21)) &\n",
        "                         (questions['questions_date_added'] < pd.datetime(2017, 3, 22))]\n",
        "\n",
        "questions_d3 = questions[(questions['questions_date_added'] >= pd.datetime(2017, 3, 22)) &\n",
        "                         (questions['questions_date_added'] < pd.datetime(2017, 3, 23))]\n",
        "\n",
        "print('Number of questions on day 1:', questions_d1.shape[0])\n",
        "print('Number of questions on day 2:', questions_d2.shape[0])\n",
        "print('Number of questions on day 3:', questions_d3.shape[0])"
      ],
      "execution_count": 105,
      "outputs": [
        {
          "output_type": "stream",
          "text": [
            "Number of questions on day 1: 27\n",
            "Number of questions on day 2: 10\n",
            "Number of questions on day 3: 23\n"
          ],
          "name": "stdout"
        }
      ]
    },
    {
      "cell_type": "code",
      "metadata": {
        "trusted": true,
        "_kg_hide-input": false,
        "id": "Q2ycY4LtNkSp",
        "colab_type": "code",
        "colab": {}
      },
      "source": [
        "questions = questions[(questions['questions_date_added'] >= pd.datetime(2017, 2, 20)) &\n",
        "                      (questions['questions_date_added'] < pd.datetime(2017, 3, 20))].reset_index()\n",
        "\n",
        "questions['questions_title_body'] = questions['questions_title'] + \\\n",
        "                                     str(' ') + \\\n",
        "                                     questions['questions_body']\n",
        "\n",
        "s = process_text(questions, 'questions_title_body').values\n",
        "\n",
        "TRAIN_qa = merging(questions, answers, 'questions_id', 'answers_question_id')"
      ],
      "execution_count": 0,
      "outputs": []
    },
    {
      "cell_type": "code",
      "metadata": {
        "trusted": true,
        "id": "DAqgSYg1NkSr",
        "colab_type": "code",
        "colab": {
          "base_uri": "https://localhost:8080/",
          "height": 521
        },
        "outputId": "500fb312-3871-4874-cfdb-9a042dbae283"
      },
      "source": [
        "questions_d1[questions_d1['questions_author_id'] == 'c17fb778ae734737b08f607e75a87460'][['questions_author_id', 'questions_date_added', 'questions_title', 'questions_body']]"
      ],
      "execution_count": 107,
      "outputs": [
        {
          "output_type": "execute_result",
          "data": {
            "text/html": [
              "<div>\n",
              "<style scoped>\n",
              "    .dataframe tbody tr th:only-of-type {\n",
              "        vertical-align: middle;\n",
              "    }\n",
              "\n",
              "    .dataframe tbody tr th {\n",
              "        vertical-align: top;\n",
              "    }\n",
              "\n",
              "    .dataframe thead th {\n",
              "        text-align: right;\n",
              "    }\n",
              "</style>\n",
              "<table border=\"1\" class=\"dataframe\">\n",
              "  <thead>\n",
              "    <tr style=\"text-align: right;\">\n",
              "      <th></th>\n",
              "      <th>questions_author_id</th>\n",
              "      <th>questions_date_added</th>\n",
              "      <th>questions_title</th>\n",
              "      <th>questions_body</th>\n",
              "    </tr>\n",
              "  </thead>\n",
              "  <tbody>\n",
              "    <tr>\n",
              "      <th>1120</th>\n",
              "      <td>c17fb778ae734737b08f607e75a87460</td>\n",
              "      <td>2017-03-20 14:22:28</td>\n",
              "      <td>What does the cpa do for an accounting student?</td>\n",
              "      <td>Accounting student at Towson university #finan...</td>\n",
              "    </tr>\n",
              "    <tr>\n",
              "      <th>4011</th>\n",
              "      <td>c17fb778ae734737b08f607e75a87460</td>\n",
              "      <td>2017-03-20 14:23:02</td>\n",
              "      <td>Does an accounting student need to go to gradu...</td>\n",
              "      <td>Accounting student at Towson university  #acco...</td>\n",
              "    </tr>\n",
              "    <tr>\n",
              "      <th>7686</th>\n",
              "      <td>c17fb778ae734737b08f607e75a87460</td>\n",
              "      <td>2017-03-20 14:25:44</td>\n",
              "      <td>What are the benefits of of getting a masters ...</td>\n",
              "      <td>Accounting student at Towson university  #acco...</td>\n",
              "    </tr>\n",
              "    <tr>\n",
              "      <th>9110</th>\n",
              "      <td>c17fb778ae734737b08f607e75a87460</td>\n",
              "      <td>2017-03-20 14:29:12</td>\n",
              "      <td>Are their any other tests besides the cpa for ...</td>\n",
              "      <td>Accounting student at Towson university #accou...</td>\n",
              "    </tr>\n",
              "    <tr>\n",
              "      <th>10249</th>\n",
              "      <td>c17fb778ae734737b08f607e75a87460</td>\n",
              "      <td>2017-03-20 14:21:15</td>\n",
              "      <td>How does one go about getting an internship?</td>\n",
              "      <td>Accounting student at Towson university  #acco...</td>\n",
              "    </tr>\n",
              "    <tr>\n",
              "      <th>15943</th>\n",
              "      <td>c17fb778ae734737b08f607e75a87460</td>\n",
              "      <td>2017-03-20 14:24:25</td>\n",
              "      <td>Does an accounting student need a masters?</td>\n",
              "      <td>Accounting student at Towson university  #acco...</td>\n",
              "    </tr>\n",
              "    <tr>\n",
              "      <th>16692</th>\n",
              "      <td>c17fb778ae734737b08f607e75a87460</td>\n",
              "      <td>2017-03-20 14:21:50</td>\n",
              "      <td>Are their internships for specific majors?</td>\n",
              "      <td>Accounting student at Towson university  #acco...</td>\n",
              "    </tr>\n",
              "    <tr>\n",
              "      <th>16939</th>\n",
              "      <td>c17fb778ae734737b08f607e75a87460</td>\n",
              "      <td>2017-03-20 14:23:33</td>\n",
              "      <td>What are the benefits of going to graduate sch...</td>\n",
              "      <td>Accounting student at Towson university  #acco...</td>\n",
              "    </tr>\n",
              "    <tr>\n",
              "      <th>20352</th>\n",
              "      <td>c17fb778ae734737b08f607e75a87460</td>\n",
              "      <td>2017-03-20 14:28:19</td>\n",
              "      <td>What steps can a student take to figure out wh...</td>\n",
              "      <td>Accounting student at Towson university  #acco...</td>\n",
              "    </tr>\n",
              "    <tr>\n",
              "      <th>21070</th>\n",
              "      <td>c17fb778ae734737b08f607e75a87460</td>\n",
              "      <td>2017-03-20 14:27:29</td>\n",
              "      <td>What different types of accounting fields are ...</td>\n",
              "      <td>Accounting student at Towson university  #acco...</td>\n",
              "    </tr>\n",
              "  </tbody>\n",
              "</table>\n",
              "</div>"
            ],
            "text/plain": [
              "                    questions_author_id  ...                                     questions_body\n",
              "1120   c17fb778ae734737b08f607e75a87460  ...  Accounting student at Towson university #finan...\n",
              "4011   c17fb778ae734737b08f607e75a87460  ...  Accounting student at Towson university  #acco...\n",
              "7686   c17fb778ae734737b08f607e75a87460  ...  Accounting student at Towson university  #acco...\n",
              "9110   c17fb778ae734737b08f607e75a87460  ...  Accounting student at Towson university #accou...\n",
              "10249  c17fb778ae734737b08f607e75a87460  ...  Accounting student at Towson university  #acco...\n",
              "15943  c17fb778ae734737b08f607e75a87460  ...  Accounting student at Towson university  #acco...\n",
              "16692  c17fb778ae734737b08f607e75a87460  ...  Accounting student at Towson university  #acco...\n",
              "16939  c17fb778ae734737b08f607e75a87460  ...  Accounting student at Towson university  #acco...\n",
              "20352  c17fb778ae734737b08f607e75a87460  ...  Accounting student at Towson university  #acco...\n",
              "21070  c17fb778ae734737b08f607e75a87460  ...  Accounting student at Towson university  #acco...\n",
              "\n",
              "[10 rows x 4 columns]"
            ]
          },
          "metadata": {
            "tags": []
          },
          "execution_count": 107
        }
      ]
    },
    {
      "cell_type": "markdown",
      "metadata": {
        "id": "51cvA1nXNkSs",
        "colab_type": "text"
      },
      "source": [
        "Interestingly, `c17fb778ae734737b08f607e75a87460` asked 10 questions about accounting on 2017-3-20. Let's see who are the top 5 professionals who have been answering his questions in `TRAIN_qa`. I now expect these professionals to be \"spammed\" with emails."
      ]
    },
    {
      "cell_type": "code",
      "metadata": {
        "trusted": true,
        "id": "_UqMSHWZNkSs",
        "colab_type": "code",
        "colab": {
          "base_uri": "https://localhost:8080/",
          "height": 121
        },
        "outputId": "f6924850-6c7a-4f87-e712-41ebf6a22f4f"
      },
      "source": [
        "spam = TRAIN_qa[TRAIN_qa['questions_author_id'] == 'c17fb778ae734737b08f607e75a87460']['answers_author_id'].value_counts()[:5].index.tolist()\n",
        "\n",
        "print('Top 5 professionals that have answered questions by c17fb778ae734737b08f607e75a87460:')\n",
        "spam"
      ],
      "execution_count": 108,
      "outputs": [
        {
          "output_type": "stream",
          "text": [
            "Top 5 professionals that have answered questions by c17fb778ae734737b08f607e75a87460:\n"
          ],
          "name": "stdout"
        },
        {
          "output_type": "execute_result",
          "data": {
            "text/plain": [
              "['65e4642bc86b4e20a7c134a93b95fdfd',\n",
              " '69f58de8657d4cd4abd8f13724eec865',\n",
              " 'b5f3915fba7c482d8b2ff6cf3b90d192',\n",
              " '32c2201166cd429c8bfc771493c0def3',\n",
              " 'be5d23056fcb4f1287c823beec5291e1']"
            ]
          },
          "metadata": {
            "tags": []
          },
          "execution_count": 108
        }
      ]
    },
    {
      "cell_type": "code",
      "metadata": {
        "trusted": true,
        "_kg_hide-input": false,
        "id": "lq7DDWvgNkSt",
        "colab_type": "code",
        "colab": {}
      },
      "source": [
        "# clean answers_body\n",
        "ans = process_text(TRAIN_qa, 'answers_body').values\n",
        "\n",
        "# create a list of professionals_ids\n",
        "p_ids = TRAIN_qa['answers_author_id'].unique().tolist()"
      ],
      "execution_count": 0,
      "outputs": []
    },
    {
      "cell_type": "code",
      "metadata": {
        "trusted": true,
        "id": "hqBo1gDHNkSv",
        "colab_type": "code",
        "colab": {
          "base_uri": "https://localhost:8080/",
          "height": 52
        },
        "outputId": "84bc0059-ed84-4414-de3a-8cbfe0f3ae2b"
      },
      "source": [
        "print('Number of professionals in the period: {}'.format(len(p_ids))) \n",
        "print('Number of questions in the period: {}'.format(s.shape[0])) "
      ],
      "execution_count": 110,
      "outputs": [
        {
          "output_type": "stream",
          "text": [
            "Number of professionals in the period: 543\n",
            "Number of questions in the period: 393\n"
          ],
          "name": "stdout"
        }
      ]
    },
    {
      "cell_type": "code",
      "metadata": {
        "trusted": true,
        "id": "lG_VOe5ENkSx",
        "colab_type": "code",
        "colab": {}
      },
      "source": [
        "# randomly assign notification settings\n",
        "np.random.seed(seed=42)\n",
        "\n",
        "daily_noti = list(np.random.choice([0, 1], len(p_ids), replace=True))\n",
        "\n",
        "noti_freq = pd.DataFrame({'professionals_id': p_ids,\n",
        "                          'daily_noti': daily_noti})\n",
        "\n",
        "noti_freq.head()\n",
        "\n",
        "daily_p = noti_freq[noti_freq['daily_noti'] == 1].index.tolist()\n",
        "three_d_p = noti_freq[noti_freq['daily_noti'] == 0].index.tolist()"
      ],
      "execution_count": 0,
      "outputs": []
    },
    {
      "cell_type": "code",
      "metadata": {
        "trusted": true,
        "_kg_hide-input": true,
        "id": "V0D2uqz-NkS0",
        "colab_type": "code",
        "colab": {}
      },
      "source": [
        "_ = gc.collect()"
      ],
      "execution_count": 0,
      "outputs": []
    },
    {
      "cell_type": "code",
      "metadata": {
        "trusted": true,
        "id": "N9wY731LNkS1",
        "colab_type": "code",
        "colab": {
          "base_uri": "https://localhost:8080/",
          "height": 52
        },
        "outputId": "4cb2f4bb-e594-4cfd-d580-c0c8264b57e8"
      },
      "source": [
        "%%time\n",
        "tfidf, tfidf_matrix, fscl, femb, gscl, gemb, ans_tf, fans_scl, gans_scl, t_p_scores, f_p_scores, g_p_scores, VOCAB = build_RecSys(s, ans, TRAIN_qa, p_ids)"
      ],
      "execution_count": 113,
      "outputs": [
        {
          "output_type": "stream",
          "text": [
            "CPU times: user 2.66 s, sys: 297 ms, total: 2.96 s\n",
            "Wall time: 2.58 s\n"
          ],
          "name": "stdout"
        }
      ]
    },
    {
      "cell_type": "code",
      "metadata": {
        "trusted": true,
        "_kg_hide-input": true,
        "id": "2fI-XwVWNkS4",
        "colab_type": "code",
        "colab": {}
      },
      "source": [
        "#################################\n",
        "# Assigns 5 professionals to \n",
        "# each question in df\n",
        "#################################\n",
        "\n",
        "def assign(df, qa, questions, dont_ask):\n",
        "    df['questions_title_body'] = df['questions_title'] + \\\n",
        "                                 str(' ') + \\\n",
        "                                 df['questions_body']\n",
        "    \n",
        "    pid_qid_match = [[] for i in range(len(p_ids))]\n",
        "    \n",
        "    skip = []\n",
        "    \n",
        "    for k, v in df.iterrows():\n",
        "        query = v['questions_title_body']\n",
        "        qid = v['questions_id']\n",
        "        \n",
        "        recommended_p = run_RecSys(query, questions, qa, 10, \n",
        "                                   tfidf, tfidf_matrix, \n",
        "                                   fscl, femb, gscl, gemb, \n",
        "                                   ans_tf, fans_scl, gans_scl, \n",
        "                                   t_p_scores, f_p_scores, g_p_scores)\n",
        "        \n",
        "        cnt = 0\n",
        "        for pid in recommended_p:    \n",
        "            \n",
        "            if cnt >= 5: \n",
        "                break\n",
        "            \n",
        "            # get professional_id's idx\n",
        "            p_idx = p_ids.index(pid)\n",
        "            \n",
        "            if p_idx not in dont_ask:\n",
        "                if len(pid_qid_match[p_idx]) < 5:                    \n",
        "                    pid_qid_match[p_idx].append(qid)\n",
        "                    cnt += 1\n",
        "\n",
        "            if p_idx in three_d_p and p_idx not in skip:\n",
        "                skip.append(p_idx)\n",
        "                \n",
        "    for p_idx in skip:\n",
        "        dont_ask.append(p_idx)\n",
        "\n",
        "    return pid_qid_match, dont_ask"
      ],
      "execution_count": 0,
      "outputs": []
    },
    {
      "cell_type": "code",
      "metadata": {
        "trusted": true,
        "id": "qenVnodKNkS6",
        "colab_type": "code",
        "colab": {}
      },
      "source": [
        "dont_ask = []\n",
        "match_d1, dont_ask = assign(questions_d1, TRAIN_qa, questions, dont_ask)"
      ],
      "execution_count": 0,
      "outputs": []
    },
    {
      "cell_type": "code",
      "metadata": {
        "trusted": true,
        "id": "YZ5nRMbSNkS7",
        "colab_type": "code",
        "colab": {
          "base_uri": "https://localhost:8080/",
          "height": 104
        },
        "outputId": "4bf56c3e-b5a6-4f77-84f6-553024415fce"
      },
      "source": [
        "for pid in spam:\n",
        "    print(\"{} has been targeted with {} questions\".format(pid, len(match_d1[p_ids.index(pid)])))"
      ],
      "execution_count": 116,
      "outputs": [
        {
          "output_type": "stream",
          "text": [
            "65e4642bc86b4e20a7c134a93b95fdfd has been targeted with 5 questions\n",
            "69f58de8657d4cd4abd8f13724eec865 has been targeted with 5 questions\n",
            "b5f3915fba7c482d8b2ff6cf3b90d192 has been targeted with 4 questions\n",
            "32c2201166cd429c8bfc771493c0def3 has been targeted with 5 questions\n",
            "be5d23056fcb4f1287c823beec5291e1 has been targeted with 5 questions\n"
          ],
          "name": "stdout"
        }
      ]
    },
    {
      "cell_type": "markdown",
      "metadata": {
        "id": "3-Cw9HaFNkS8",
        "colab_type": "text"
      },
      "source": [
        "As expected, the above professionals have answered most questions asked by `c17fb778ae734737b08f607e75a87460` in `TRAIN_qa`. Hence, they have been \"spammed\" with questions by `c17fb778ae734737b08f607e75a87460` in `match_d1`. Some of them even received 10 or more questions but I cap the number of questions at 5.\n",
        "\n",
        "Repeat the same process for day 2 and day 3 as described."
      ]
    },
    {
      "cell_type": "code",
      "metadata": {
        "trusted": true,
        "id": "u6A8RMlQNkS9",
        "colab_type": "code",
        "colab": {}
      },
      "source": [
        "match_d2, dont_ask = assign(questions_d2, TRAIN_qa, questions, dont_ask)\n",
        "match_d3, dont_ask = assign(questions_d3, TRAIN_qa, questions, dont_ask)"
      ],
      "execution_count": 0,
      "outputs": []
    },
    {
      "cell_type": "code",
      "metadata": {
        "trusted": true,
        "id": "xpXvfYOXNkS9",
        "colab_type": "code",
        "colab": {}
      },
      "source": [
        "noti_freq['d1'] = pd.Series((v for v in match_d1)) \n",
        "noti_freq['d2'] = pd.Series((v for v in match_d2)) \n",
        "noti_freq['d3'] = pd.Series((v for v in match_d3)) "
      ],
      "execution_count": 0,
      "outputs": []
    },
    {
      "cell_type": "code",
      "metadata": {
        "trusted": true,
        "id": "KYj_i_CJNkTF",
        "colab_type": "code",
        "colab": {
          "base_uri": "https://localhost:8080/",
          "height": 198
        },
        "outputId": "13d2cd4e-ab3b-46f6-d6df-9a754a7cd4b6"
      },
      "source": [
        "noti_freq[5:10]"
      ],
      "execution_count": 119,
      "outputs": [
        {
          "output_type": "execute_result",
          "data": {
            "text/html": [
              "<div>\n",
              "<style scoped>\n",
              "    .dataframe tbody tr th:only-of-type {\n",
              "        vertical-align: middle;\n",
              "    }\n",
              "\n",
              "    .dataframe tbody tr th {\n",
              "        vertical-align: top;\n",
              "    }\n",
              "\n",
              "    .dataframe thead th {\n",
              "        text-align: right;\n",
              "    }\n",
              "</style>\n",
              "<table border=\"1\" class=\"dataframe\">\n",
              "  <thead>\n",
              "    <tr style=\"text-align: right;\">\n",
              "      <th></th>\n",
              "      <th>professionals_id</th>\n",
              "      <th>daily_noti</th>\n",
              "      <th>d1</th>\n",
              "      <th>d2</th>\n",
              "      <th>d3</th>\n",
              "    </tr>\n",
              "  </thead>\n",
              "  <tbody>\n",
              "    <tr>\n",
              "      <th>5</th>\n",
              "      <td>e63f3a1af51b4e55b9adfac918805e71</td>\n",
              "      <td>1</td>\n",
              "      <td>[]</td>\n",
              "      <td>[]</td>\n",
              "      <td>[]</td>\n",
              "    </tr>\n",
              "    <tr>\n",
              "      <th>6</th>\n",
              "      <td>05ab77d4c6a141b999044ebbf5415b0d</td>\n",
              "      <td>0</td>\n",
              "      <td>[602034908a104b309deeef3572b9465e, 687dbbdee04...</td>\n",
              "      <td>[]</td>\n",
              "      <td>[]</td>\n",
              "    </tr>\n",
              "    <tr>\n",
              "      <th>7</th>\n",
              "      <td>42deada7c50c4859a34615d70193317e</td>\n",
              "      <td>0</td>\n",
              "      <td>[]</td>\n",
              "      <td>[]</td>\n",
              "      <td>[]</td>\n",
              "    </tr>\n",
              "    <tr>\n",
              "      <th>8</th>\n",
              "      <td>b8b77df14ad94e7bb64f14eeffb72d9b</td>\n",
              "      <td>0</td>\n",
              "      <td>[42cb4b71d7d54ee78ebab3f04d2e267f, 3bb414c9849...</td>\n",
              "      <td>[]</td>\n",
              "      <td>[]</td>\n",
              "    </tr>\n",
              "    <tr>\n",
              "      <th>9</th>\n",
              "      <td>82ff5bea8ab5459b8f36663d9e7e6828</td>\n",
              "      <td>1</td>\n",
              "      <td>[]</td>\n",
              "      <td>[]</td>\n",
              "      <td>[]</td>\n",
              "    </tr>\n",
              "  </tbody>\n",
              "</table>\n",
              "</div>"
            ],
            "text/plain": [
              "                   professionals_id  daily_noti  ...  d2  d3\n",
              "5  e63f3a1af51b4e55b9adfac918805e71           1  ...  []  []\n",
              "6  05ab77d4c6a141b999044ebbf5415b0d           0  ...  []  []\n",
              "7  42deada7c50c4859a34615d70193317e           0  ...  []  []\n",
              "8  b8b77df14ad94e7bb64f14eeffb72d9b           0  ...  []  []\n",
              "9  82ff5bea8ab5459b8f36663d9e7e6828           1  ...  []  []\n",
              "\n",
              "[5 rows x 5 columns]"
            ]
          },
          "metadata": {
            "tags": []
          },
          "execution_count": 119
        }
      ]
    },
    {
      "cell_type": "markdown",
      "metadata": {
        "trusted": true,
        "id": "YB2efa0sNkTG",
        "colab_type": "text"
      },
      "source": [
        "Here I display some parts of the `noti_freq` which shows the question assigned to each professional on `d1`, `d2`, and `d3`. \n",
        "\n",
        "Given this proposed solution, each professional who signed up for a 3-day notification setting will not be spammed.\n",
        "\n",
        "I will perform a cross-checking below to show that questions suggested are in fact, relevant."
      ]
    },
    {
      "cell_type": "code",
      "metadata": {
        "trusted": true,
        "id": "uIAmI8jjNkTG",
        "colab_type": "code",
        "colab": {
          "base_uri": "https://localhost:8080/",
          "height": 55
        },
        "outputId": "d008878d-8083-405f-fa03-d2cc06fea3c9"
      },
      "source": [
        "TRAIN_qa[TRAIN_qa['answers_author_id'] == 'b8b77df14ad94e7bb64f14eeffb72d9b']['answers_body'].tolist()[0]"
      ],
      "execution_count": 120,
      "outputs": [
        {
          "output_type": "execute_result",
          "data": {
            "text/plain": [
              "'<p>Sometimes they are but if you want to work for nonprofits, you should be targeting them. Dont wait for them to target you..you will have to hold your breath on this one. Instead do a search for the agencies http://grantspace.org/tools/knowledge-base/Funding-Research/Statistics/number-of-nonprofits-in-the-u.s. Find out what department you want to work in and contact the local contact about your interest. Have your resume ready. Read their reports for an idea about their challenges. Then tell them how you can be of service to them. Highlight your skills that address activities listed in their strategic plans. </p>'"
            ]
          },
          "metadata": {
            "tags": []
          },
          "execution_count": 120
        }
      ]
    },
    {
      "cell_type": "code",
      "metadata": {
        "trusted": true,
        "id": "9ribCrQQNkTK",
        "colab_type": "code",
        "colab": {
          "base_uri": "https://localhost:8080/",
          "height": 55
        },
        "outputId": "1a62c512-98b1-4ca6-fc79-2f028193daef"
      },
      "source": [
        "questions_d1[questions_d1['questions_id'] == '42cb4b71d7d54ee78ebab3f04d2e267f']['questions_title_body'].tolist()[0]"
      ],
      "execution_count": 121,
      "outputs": [
        {
          "output_type": "execute_result",
          "data": {
            "text/plain": [
              "\"How to find international affairs volunteering? I don't want to go to abroad just like some international conference in local. #volunteering #international-affairs \""
            ]
          },
          "metadata": {
            "tags": []
          },
          "execution_count": 121
        }
      ]
    },
    {
      "cell_type": "markdown",
      "metadata": {
        "id": "S3h_NrMoNkTO",
        "colab_type": "text"
      },
      "source": [
        "Apparently, questions recommended to the above professional is quite relevant - volunteering and nonprofits. Great!\n",
        "\n",
        "## Recommendation #3: Reducing spam by students\n",
        "Should we handle spam by students?"
      ]
    },
    {
      "cell_type": "code",
      "metadata": {
        "trusted": true,
        "id": "hhtKq1hhNkTP",
        "colab_type": "code",
        "colab": {
          "base_uri": "https://localhost:8080/",
          "height": 288
        },
        "outputId": "45773ab8-ac90-4c6a-8cfb-4696e62ce173"
      },
      "source": [
        "questions, answers = new_question_answers()\n",
        "\n",
        "questions['questions_date_added'] = pd.to_datetime(questions['questions_date_added']).dt.date\n",
        "\n",
        "questions = questions[(questions['questions_date_added'] >= datetime.date(2017, 3, 1)) &\n",
        "                      (questions['questions_date_added'] < datetime.date(2017, 4, 1))].reset_index()\n",
        "\n",
        "questions['questions_cnt'] = 1\n",
        "\n",
        "students_q_cnt = pd.DataFrame(questions.groupby(['questions_author_id', 'questions_date_added'])['questions_cnt'].\n",
        "                              sum()).reset_index()\n",
        "\n",
        "students_q_cnt[students_q_cnt['questions_cnt'] > 5]"
      ],
      "execution_count": 122,
      "outputs": [
        {
          "output_type": "execute_result",
          "data": {
            "text/html": [
              "<div>\n",
              "<style scoped>\n",
              "    .dataframe tbody tr th:only-of-type {\n",
              "        vertical-align: middle;\n",
              "    }\n",
              "\n",
              "    .dataframe tbody tr th {\n",
              "        vertical-align: top;\n",
              "    }\n",
              "\n",
              "    .dataframe thead th {\n",
              "        text-align: right;\n",
              "    }\n",
              "</style>\n",
              "<table border=\"1\" class=\"dataframe\">\n",
              "  <thead>\n",
              "    <tr style=\"text-align: right;\">\n",
              "      <th></th>\n",
              "      <th>questions_author_id</th>\n",
              "      <th>questions_date_added</th>\n",
              "      <th>questions_cnt</th>\n",
              "    </tr>\n",
              "  </thead>\n",
              "  <tbody>\n",
              "    <tr>\n",
              "      <th>163</th>\n",
              "      <td>c17fb778ae734737b08f607e75a87460</td>\n",
              "      <td>2017-03-14</td>\n",
              "      <td>10</td>\n",
              "    </tr>\n",
              "    <tr>\n",
              "      <th>164</th>\n",
              "      <td>c17fb778ae734737b08f607e75a87460</td>\n",
              "      <td>2017-03-20</td>\n",
              "      <td>10</td>\n",
              "    </tr>\n",
              "    <tr>\n",
              "      <th>165</th>\n",
              "      <td>c17fb778ae734737b08f607e75a87460</td>\n",
              "      <td>2017-03-30</td>\n",
              "      <td>10</td>\n",
              "    </tr>\n",
              "    <tr>\n",
              "      <th>201</th>\n",
              "      <td>ef401e9115574bad94b773b4244f37cc</td>\n",
              "      <td>2017-03-04</td>\n",
              "      <td>10</td>\n",
              "    </tr>\n",
              "    <tr>\n",
              "      <th>203</th>\n",
              "      <td>ef401e9115574bad94b773b4244f37cc</td>\n",
              "      <td>2017-03-15</td>\n",
              "      <td>9</td>\n",
              "    </tr>\n",
              "    <tr>\n",
              "      <th>205</th>\n",
              "      <td>ef401e9115574bad94b773b4244f37cc</td>\n",
              "      <td>2017-03-20</td>\n",
              "      <td>7</td>\n",
              "    </tr>\n",
              "    <tr>\n",
              "      <th>206</th>\n",
              "      <td>ef401e9115574bad94b773b4244f37cc</td>\n",
              "      <td>2017-03-25</td>\n",
              "      <td>10</td>\n",
              "    </tr>\n",
              "    <tr>\n",
              "      <th>208</th>\n",
              "      <td>f034ff450b604898a6e3b72cf3d8c518</td>\n",
              "      <td>2017-03-24</td>\n",
              "      <td>7</td>\n",
              "    </tr>\n",
              "  </tbody>\n",
              "</table>\n",
              "</div>"
            ],
            "text/plain": [
              "                  questions_author_id questions_date_added  questions_cnt\n",
              "163  c17fb778ae734737b08f607e75a87460           2017-03-14             10\n",
              "164  c17fb778ae734737b08f607e75a87460           2017-03-20             10\n",
              "165  c17fb778ae734737b08f607e75a87460           2017-03-30             10\n",
              "201  ef401e9115574bad94b773b4244f37cc           2017-03-04             10\n",
              "203  ef401e9115574bad94b773b4244f37cc           2017-03-15              9\n",
              "205  ef401e9115574bad94b773b4244f37cc           2017-03-20              7\n",
              "206  ef401e9115574bad94b773b4244f37cc           2017-03-25             10\n",
              "208  f034ff450b604898a6e3b72cf3d8c518           2017-03-24              7"
            ]
          },
          "metadata": {
            "tags": []
          },
          "execution_count": 122
        }
      ]
    },
    {
      "cell_type": "markdown",
      "metadata": {
        "id": "p4T3uQrSNkTR",
        "colab_type": "text"
      },
      "source": [
        "Some students, 3 of them shown here, have been asking more than 5 questions in a single day. As long as the number of relevant professionals is large amount, the RecSys will be able to handle such situation by assigning questions to other than the top 5 professionals. Otherwise, CareerVillage should setup a system to reduce spam by students by limiting number of questions asked.\n",
        "\n",
        "## Recommendation #4: \"Shifting\" questions \n",
        "\n",
        "We would like to tackle the problems CareerVillage is facing, mainly the feedback from professionals. Some are as follows:\n",
        "\n",
        "* \"I waited around but never got matched to anything.\"\n",
        "* \"This is way too much email. I get something like almost every day!\"\n",
        "\n",
        "I think churn might originate in two extreme cases: \"superstar\" professionals (a.k.a. professionals who received too many emails) and \"marginal\" professionals (a.k.a. professionals who seldom receive emails) I will approach both professionals differently. I suggest capping the number of questions in the former case and recommending a question to the \"marginal\" professionals who have not received any question in the past 2 days.\n",
        "\n",
        "In the later case, I will convert the questions the \"marginal\" professional has answered in the past into what I have been calling `query` to look for similar questions in the `questions_d3`. This is illustrated below."
      ]
    },
    {
      "cell_type": "code",
      "metadata": {
        "trusted": true,
        "id": "KQKtxsvYNkTT",
        "colab_type": "code",
        "colab": {}
      },
      "source": [
        "def match_best_q(curr_df, past_df, pid):\n",
        "    s = process_text(curr_df, 'questions_title_body')\n",
        "\n",
        "    # create similarity matrices for all questions\n",
        "    _, tfidf, vocab, tfidf_matrix = get_tfidf_matrix(s)\n",
        "    _, fscl, femb = get_emb_mat(s, fembeddings_index, 300)\n",
        "    _, gscl, gemb = get_emb_mat(s, gembeddings_index, 50)\n",
        "    \n",
        "    # get historical answers by pid\n",
        "    search = process_text(past_df[past_df['answers_author_id'] == pid], 'questions_title_body')\n",
        "    \n",
        "    # search for closest question\n",
        "    t_q_indices = tf_relevant_q_indices(search, tfidf, tfidf_matrix)\n",
        "    f_q_indices = relevant_q_indices(search, fembeddings_index, 300, fscl, femb)\n",
        "    g_q_indices = relevant_q_indices(search, gembeddings_index, 50, gscl, gemb)\n",
        "    \n",
        "    q_indices = (t_q_indices, f_q_indices, g_q_indices)\n",
        "    \n",
        "    return build_q_occ(q_indices)[0][0]"
      ],
      "execution_count": 0,
      "outputs": []
    },
    {
      "cell_type": "code",
      "metadata": {
        "trusted": true,
        "id": "u9gVwrbUNkTU",
        "colab_type": "code",
        "colab": {
          "base_uri": "https://localhost:8080/",
          "height": 55
        },
        "outputId": "bfb5a332-2c09-4a65-f6b6-1840b1061a69"
      },
      "source": [
        "NO_MATCH_P = '42deada7c50c4859a34615d70193317e'\n",
        "\n",
        "best_q_idx = match_best_q(questions_d3, TRAIN_qa, NO_MATCH_P)\n",
        "\n",
        "questions_d3.iloc[best_q_idx]['questions_title_body']"
      ],
      "execution_count": 124,
      "outputs": [
        {
          "output_type": "execute_result",
          "data": {
            "text/plain": [
              "\"What are some traits/characteristics that doctors must keep in order to work successfully? I've been told that to become a medical doctor, you must have many good traits such as patience and dedication, which I do hold currently, but what are other crucial ones needed when working in this career field? #doctor #medical #work-life-balance #knowledge #student-development #personality #trait\""
            ]
          },
          "metadata": {
            "tags": []
          },
          "execution_count": 124
        }
      ]
    },
    {
      "cell_type": "code",
      "metadata": {
        "trusted": true,
        "id": "9CezAir2NkTV",
        "colab_type": "code",
        "colab": {
          "base_uri": "https://localhost:8080/",
          "height": 35
        },
        "outputId": "1673c75f-2a19-4f2a-f3a9-b60d3b723267"
      },
      "source": [
        "headline = professionals[professionals['professionals_id'] == NO_MATCH_P]['professionals_headline'].tolist()[0]\n",
        "print('NO_MATCH_P is a ', headline)"
      ],
      "execution_count": 125,
      "outputs": [
        {
          "output_type": "stream",
          "text": [
            "NO_MATCH_P is a  Manager of Corporate and Foundation Giving\n"
          ],
          "name": "stdout"
        }
      ]
    },
    {
      "cell_type": "markdown",
      "metadata": {
        "trusted": true,
        "id": "U18oU4pENkTX",
        "colab_type": "text"
      },
      "source": [
        "The reason some professionals are not recommended with any questions might be the cutoff for recommendation. Since my approach was to look for the top 5 professionals for each question, this fails to account for professionals who are in the 6th position. Solution to this is using a threshold for similarity score to recommend questions.\n",
        "\n",
        "Alternatively, I look for professionals who are \"spammed\" and close enough to `NO_MATCH_P` in terms of their profiles and recommend the questions from those professionals to `NO_MATCH_P`. I can also potentially remove the questions from professionals who are \"spammed\".\n",
        "\n",
        "Here, I look for professionals `no_match_pids` who have not received any question in the past 3 days and professionals `in_queue` who have been \"spammed\" for the past 3 days. \n",
        "\n",
        "Note: I define spam as having 3 or more questions suggested per day."
      ]
    },
    {
      "cell_type": "code",
      "metadata": {
        "trusted": true,
        "id": "xGdTR7FhNkTY",
        "colab_type": "code",
        "colab": {}
      },
      "source": [
        "no_match_df = noti_freq[(noti_freq['d1'].str.len() == 0) &\n",
        "                        (noti_freq['d2'].str.len() == 0) &\n",
        "                        (noti_freq['d3'].str.len() == 0)]\n",
        "\n",
        "no_match_pids = no_match_df.index.tolist()"
      ],
      "execution_count": 0,
      "outputs": []
    },
    {
      "cell_type": "code",
      "metadata": {
        "trusted": true,
        "id": "Rl8gLAEfNkTZ",
        "colab_type": "code",
        "colab": {}
      },
      "source": [
        "in_queue = set()\n",
        "\n",
        "all_matches = (match_d1, match_d2, match_d3)\n",
        "\n",
        "for match in all_matches:\n",
        "    for i in range(len(match)):\n",
        "        if len(match[i]) >= 3:\n",
        "            in_queue.add(i)"
      ],
      "execution_count": 0,
      "outputs": []
    },
    {
      "cell_type": "code",
      "metadata": {
        "trusted": true,
        "_kg_hide-input": true,
        "id": "g4zwF0DhNkTa",
        "colab_type": "code",
        "colab": {}
      },
      "source": [
        "#################################\n",
        "# For each curr_p_idx, look for similar\n",
        "# professionals who are in in_queue\n",
        "# by looking at the similarity of their profiles\n",
        "#################################\n",
        "\n",
        "def match_best_p(curr_p_idx, in_queue, ans):\n",
        "    select = []\n",
        "    \n",
        "    _, ans_tf, ans_vocab, ans_tfidf_matrix = get_tfidf_matrix(ans)\n",
        "    t_p_scores = np.asarray(p_profiles(p_ids, TRAIN_qa, ans_tfidf_matrix))\n",
        "    \n",
        "    t_neighbors = np.argsort(cosine_similarity(t_p_scores[curr_p_idx].reshape(1,-1),t_p_scores)).flatten()[::-1]\n",
        "    \n",
        "    for t_neighbor in t_neighbors:\n",
        "        if t_neighbor in in_queue:\n",
        "            select.append(t_neighbor)\n",
        "            break\n",
        "\n",
        "    _, fans_scl, fans_emb = get_emb_mat(ans, fembeddings_index, 300)\n",
        "    f_p_scores = np.asarray(p_profiles(p_ids, TRAIN_qa, fans_emb))\n",
        "    \n",
        "    f_neighbors = np.argsort(cosine_similarity(f_p_scores[curr_p_idx].reshape(1,-1),f_p_scores)).flatten()[::-1]\n",
        "    \n",
        "    for f_neighbor in f_neighbors:\n",
        "        if f_neighbor in in_queue:\n",
        "            select.append(f_neighbor)\n",
        "            break\n",
        "\n",
        "    _, gans_scl, gans_emb = get_emb_mat(ans, gembeddings_index, 50)\n",
        "    g_p_scores = np.asarray(p_profiles(p_ids, TRAIN_qa, gans_emb))\n",
        "    \n",
        "    g_neighbors = np.argsort(cosine_similarity(g_p_scores[curr_p_idx].reshape(1,-1),g_p_scores)).flatten()[::-1]\n",
        "    \n",
        "    for g_neighbor in g_neighbors:\n",
        "        if g_neighbor in in_queue:\n",
        "            select.append(g_neighbor)\n",
        "            break\n",
        "    \n",
        "    return select"
      ],
      "execution_count": 0,
      "outputs": []
    },
    {
      "cell_type": "code",
      "metadata": {
        "trusted": true,
        "id": "6siSQPUnNkTb",
        "colab_type": "code",
        "colab": {
          "base_uri": "https://localhost:8080/",
          "height": 52
        },
        "outputId": "7e2cd3e5-cbfa-4edf-f68a-17a4415ffff8"
      },
      "source": [
        "print('First 5 professionals with no match:')\n",
        "no_match_pids[:5]"
      ],
      "execution_count": 129,
      "outputs": [
        {
          "output_type": "stream",
          "text": [
            "First 5 professionals with no match:\n"
          ],
          "name": "stdout"
        },
        {
          "output_type": "execute_result",
          "data": {
            "text/plain": [
              "[1, 4, 5, 7, 9]"
            ]
          },
          "metadata": {
            "tags": []
          },
          "execution_count": 129
        }
      ]
    },
    {
      "cell_type": "markdown",
      "metadata": {
        "id": "PsAFD1A7NkTd",
        "colab_type": "text"
      },
      "source": [
        "Let us explore a random professional who has no match."
      ]
    },
    {
      "cell_type": "code",
      "metadata": {
        "trusted": true,
        "id": "WP918UP-NkTe",
        "colab_type": "code",
        "colab": {
          "base_uri": "https://localhost:8080/",
          "height": 115
        },
        "outputId": "5d1226d4-b4a4-4648-d3f1-cf55d3f35b7e"
      },
      "source": [
        "professionals[professionals['professionals_id'] == p_ids[1]]"
      ],
      "execution_count": 130,
      "outputs": [
        {
          "output_type": "execute_result",
          "data": {
            "text/html": [
              "<div>\n",
              "<style scoped>\n",
              "    .dataframe tbody tr th:only-of-type {\n",
              "        vertical-align: middle;\n",
              "    }\n",
              "\n",
              "    .dataframe tbody tr th {\n",
              "        vertical-align: top;\n",
              "    }\n",
              "\n",
              "    .dataframe thead th {\n",
              "        text-align: right;\n",
              "    }\n",
              "</style>\n",
              "<table border=\"1\" class=\"dataframe\">\n",
              "  <thead>\n",
              "    <tr style=\"text-align: right;\">\n",
              "      <th></th>\n",
              "      <th>professionals_id</th>\n",
              "      <th>professionals_location</th>\n",
              "      <th>professionals_industry</th>\n",
              "      <th>professionals_headline</th>\n",
              "      <th>professionals_date_joined</th>\n",
              "    </tr>\n",
              "  </thead>\n",
              "  <tbody>\n",
              "    <tr>\n",
              "      <th>4126</th>\n",
              "      <td>c0a9c84db7bb48dfa9852c67d449bd50</td>\n",
              "      <td>NaN</td>\n",
              "      <td>Health, Wellness and Fitness</td>\n",
              "      <td>Registered Dental Hygienist at Bruce Greenway ...</td>\n",
              "      <td>2016-02-25 02:37:33 UTC+0000</td>\n",
              "    </tr>\n",
              "  </tbody>\n",
              "</table>\n",
              "</div>"
            ],
            "text/plain": [
              "                      professionals_id  ...     professionals_date_joined\n",
              "4126  c0a9c84db7bb48dfa9852c67d449bd50  ...  2016-02-25 02:37:33 UTC+0000\n",
              "\n",
              "[1 rows x 5 columns]"
            ]
          },
          "metadata": {
            "tags": []
          },
          "execution_count": 130
        }
      ]
    },
    {
      "cell_type": "markdown",
      "metadata": {
        "id": "zER9MWQ4NkTe",
        "colab_type": "text"
      },
      "source": [
        "`c0a9c84db7bb48dfa9852c67d449bd50` is a professional in the Health and Wellness industry and has no match so far. Now, I look for the professionals who have been \"spammed\" and is closest to `c0a9c84db7bb48dfa9852c67d449bd50` in terms of `vocab_score`."
      ]
    },
    {
      "cell_type": "code",
      "metadata": {
        "trusted": true,
        "id": "62rllBNKNkTf",
        "colab_type": "code",
        "colab": {
          "base_uri": "https://localhost:8080/",
          "height": 86
        },
        "outputId": "61d897c3-9051-478f-d3ca-a1c62d647bdb"
      },
      "source": [
        "best_p_idx = match_best_p(1, in_queue, ans)\n",
        "\n",
        "# convert the p_idx into professionals_id\n",
        "best_p = []\n",
        "for p_idx in best_p_idx:\n",
        "    best_p.append(p_ids[p_idx])\n",
        "    \n",
        "print('Professionals closest score to c0a9c84db7bb48dfa9852c67d449bd50:')\n",
        "best_p    "
      ],
      "execution_count": 131,
      "outputs": [
        {
          "output_type": "stream",
          "text": [
            "Professionals closest score to c0a9c84db7bb48dfa9852c67d449bd50:\n"
          ],
          "name": "stdout"
        },
        {
          "output_type": "execute_result",
          "data": {
            "text/plain": [
              "['be5d23056fcb4f1287c823beec5291e1',\n",
              " '9e0cb2a2914c4d05be76c85e7ca356a7',\n",
              " '14ddc892914949a486185d4a5080c624']"
            ]
          },
          "metadata": {
            "tags": []
          },
          "execution_count": 131
        }
      ]
    },
    {
      "cell_type": "code",
      "metadata": {
        "trusted": true,
        "id": "_ueiPDxPNkTh",
        "colab_type": "code",
        "colab": {
          "base_uri": "https://localhost:8080/",
          "height": 193
        },
        "outputId": "2419be0f-ceb4-4e71-9449-0bbd6d3003ec"
      },
      "source": [
        "professionals[professionals['professionals_id'].isin(best_p)]"
      ],
      "execution_count": 132,
      "outputs": [
        {
          "output_type": "execute_result",
          "data": {
            "text/html": [
              "<div>\n",
              "<style scoped>\n",
              "    .dataframe tbody tr th:only-of-type {\n",
              "        vertical-align: middle;\n",
              "    }\n",
              "\n",
              "    .dataframe tbody tr th {\n",
              "        vertical-align: top;\n",
              "    }\n",
              "\n",
              "    .dataframe thead th {\n",
              "        text-align: right;\n",
              "    }\n",
              "</style>\n",
              "<table border=\"1\" class=\"dataframe\">\n",
              "  <thead>\n",
              "    <tr style=\"text-align: right;\">\n",
              "      <th></th>\n",
              "      <th>professionals_id</th>\n",
              "      <th>professionals_location</th>\n",
              "      <th>professionals_industry</th>\n",
              "      <th>professionals_headline</th>\n",
              "      <th>professionals_date_joined</th>\n",
              "    </tr>\n",
              "  </thead>\n",
              "  <tbody>\n",
              "    <tr>\n",
              "      <th>3581</th>\n",
              "      <td>be5d23056fcb4f1287c823beec5291e1</td>\n",
              "      <td>San Antonio, Texas</td>\n",
              "      <td>Legal Services</td>\n",
              "      <td>Employment Counselor  | Open Records Specialist</td>\n",
              "      <td>2016-01-21 03:23:22 UTC+0000</td>\n",
              "    </tr>\n",
              "    <tr>\n",
              "      <th>9545</th>\n",
              "      <td>9e0cb2a2914c4d05be76c85e7ca356a7</td>\n",
              "      <td>Philadelphia, Pennsylvania</td>\n",
              "      <td>Higher Education</td>\n",
              "      <td>Nationally Certified Counselor</td>\n",
              "      <td>2017-02-22 17:05:23 UTC+0000</td>\n",
              "    </tr>\n",
              "    <tr>\n",
              "      <th>19453</th>\n",
              "      <td>14ddc892914949a486185d4a5080c624</td>\n",
              "      <td>El Paso, Texas</td>\n",
              "      <td>Hospital and Health Care</td>\n",
              "      <td>Family Nurse Practitioner</td>\n",
              "      <td>2018-05-24 19:05:31 UTC+0000</td>\n",
              "    </tr>\n",
              "  </tbody>\n",
              "</table>\n",
              "</div>"
            ],
            "text/plain": [
              "                       professionals_id  ...     professionals_date_joined\n",
              "3581   be5d23056fcb4f1287c823beec5291e1  ...  2016-01-21 03:23:22 UTC+0000\n",
              "9545   9e0cb2a2914c4d05be76c85e7ca356a7  ...  2017-02-22 17:05:23 UTC+0000\n",
              "19453  14ddc892914949a486185d4a5080c624  ...  2018-05-24 19:05:31 UTC+0000\n",
              "\n",
              "[3 rows x 5 columns]"
            ]
          },
          "metadata": {
            "tags": []
          },
          "execution_count": 132
        }
      ]
    },
    {
      "cell_type": "markdown",
      "metadata": {
        "trusted": true,
        "id": "NddCjZTsNkTi",
        "colab_type": "text"
      },
      "source": [
        "Great! It seems like the RecSys is able to return the above professionals. This implies that we can \"shift\" the questions from the above professionals (since they have been spammed) to `c0a9c84db7bb48dfa9852c67d449bd50`. This helps in reducing the \"questions traffic\" for the professionals above and keeping `c0a9c84db7bb48dfa9852c67d449bd50` engaged with the platform.\n",
        "\n",
        "## Recommendation #5: Handling cold start by tags\n",
        "To handle the cold start problem, we suggest our new professional to select some of his or her favorite tags. (It is unlikely we can build a profile immediately for the professional by asking he or her to enter answers to a bunch of relevant and irrelevant questions.) Hence, I figured that TF-IDF is the best candidate to parse the `tags` selected by our new professional. \n",
        "\n",
        "Before diving into the approach, I perform some EDA to see if professinals only answer questions that have tags they follow."
      ]
    },
    {
      "cell_type": "code",
      "metadata": {
        "_kg_hide-input": true,
        "trusted": true,
        "id": "PacUxvjUNkTi",
        "colab_type": "code",
        "colab": {}
      },
      "source": [
        "del professionals;\n",
        "professionals = pd.read_csv(PATH + '/professionals.csv.zip', compression='zip')\n",
        "\n",
        "tag_users_name = merging(tag_users, tags, 'tag_users_tag_id', 'tags_tag_id')\n",
        "\n",
        "tag_users_name.head()\n",
        "\n",
        "grouped = tag_users_name.groupby('tag_users_user_id')['tags_tag_name'].apply(lambda x: \"%s\" % ', '.join(x))\n",
        "p_follow_tags = merging(professionals, pd.DataFrame(grouped), \"professionals_id\", \"tag_users_user_id\")\n",
        "\n",
        "p_follow_tags = p_follow_tags[['professionals_id', 'tags_tag_name']].copy()\n",
        "p_follow_tags = p_follow_tags.rename(columns={'professionals_id': 'professionals_id',\n",
        "                                              'tags_tag_name': 'tags_followed'})"
      ],
      "execution_count": 0,
      "outputs": []
    },
    {
      "cell_type": "code",
      "metadata": {
        "trusted": true,
        "id": "vuPIiDj4NkTj",
        "colab_type": "code",
        "colab": {
          "base_uri": "https://localhost:8080/",
          "height": 198
        },
        "outputId": "3abbf9c7-a19e-4189-bdc3-492c89dcc06c"
      },
      "source": [
        "p_follow_tags.head()"
      ],
      "execution_count": 136,
      "outputs": [
        {
          "output_type": "execute_result",
          "data": {
            "text/html": [
              "<div>\n",
              "<style scoped>\n",
              "    .dataframe tbody tr th:only-of-type {\n",
              "        vertical-align: middle;\n",
              "    }\n",
              "\n",
              "    .dataframe tbody tr th {\n",
              "        vertical-align: top;\n",
              "    }\n",
              "\n",
              "    .dataframe thead th {\n",
              "        text-align: right;\n",
              "    }\n",
              "</style>\n",
              "<table border=\"1\" class=\"dataframe\">\n",
              "  <thead>\n",
              "    <tr style=\"text-align: right;\">\n",
              "      <th></th>\n",
              "      <th>professionals_id</th>\n",
              "      <th>tags_followed</th>\n",
              "    </tr>\n",
              "  </thead>\n",
              "  <tbody>\n",
              "    <tr>\n",
              "      <th>0</th>\n",
              "      <td>0c673e046d824ec0ad0ebe012a0673e4</td>\n",
              "      <td>consulting, consulting, consulting, consulting...</td>\n",
              "    </tr>\n",
              "    <tr>\n",
              "      <th>1</th>\n",
              "      <td>102fb92c28034ad988b593d0111cb4bb</td>\n",
              "      <td>design, design, design, design, design, design</td>\n",
              "    </tr>\n",
              "    <tr>\n",
              "      <th>2</th>\n",
              "      <td>5a4a16842ec64430ac3f916aacf35fe1</td>\n",
              "      <td>architecture, architecture, architecture, arch...</td>\n",
              "    </tr>\n",
              "    <tr>\n",
              "      <th>3</th>\n",
              "      <td>81999d5ad93549dab55636a545e84f2a</td>\n",
              "      <td>aviation, aviation, aviation, aviation, aviati...</td>\n",
              "    </tr>\n",
              "    <tr>\n",
              "      <th>4</th>\n",
              "      <td>7d425e8d7cfb4fe7b0702fff4d6d84e7</td>\n",
              "      <td>teaching, politics, teacher, latin-america, po...</td>\n",
              "    </tr>\n",
              "  </tbody>\n",
              "</table>\n",
              "</div>"
            ],
            "text/plain": [
              "                   professionals_id                                      tags_followed\n",
              "0  0c673e046d824ec0ad0ebe012a0673e4  consulting, consulting, consulting, consulting...\n",
              "1  102fb92c28034ad988b593d0111cb4bb     design, design, design, design, design, design\n",
              "2  5a4a16842ec64430ac3f916aacf35fe1  architecture, architecture, architecture, arch...\n",
              "3  81999d5ad93549dab55636a545e84f2a  aviation, aviation, aviation, aviation, aviati...\n",
              "4  7d425e8d7cfb4fe7b0702fff4d6d84e7  teaching, politics, teacher, latin-america, po..."
            ]
          },
          "metadata": {
            "tags": []
          },
          "execution_count": 136
        }
      ]
    },
    {
      "cell_type": "code",
      "metadata": {
        "trusted": true,
        "_kg_hide-input": true,
        "id": "JFP1AxrENkTl",
        "colab_type": "code",
        "colab": {}
      },
      "source": [
        "def combine_tags(df):\n",
        "    grouped = df.groupby('questions_id')['tags_tag_name'].apply(lambda x: \"%s\" % ', '.join(x))\n",
        "    df_c = merging(questions, pd.DataFrame(grouped), \"questions_id\", \"questions_id\")\n",
        "    return df_c"
      ],
      "execution_count": 0,
      "outputs": []
    },
    {
      "cell_type": "code",
      "metadata": {
        "trusted": true,
        "_kg_hide-input": true,
        "id": "PXM_zh2YNkTm",
        "colab_type": "code",
        "colab": {}
      },
      "source": [
        "ttq = merging(tags, tag_questions, \"tags_tag_id\", \"tag_questions_tag_id\")\n",
        "\n",
        "qttq = merging(questions, ttq, \"questions_id\", \"tag_questions_question_id\")\n",
        "\n",
        "qttq.head()\n",
        "\n",
        "questions_tags = combine_tags(qttq)\n",
        "\n",
        "questions_tags_answers = merging(answers, questions_tags, \"answers_question_id\", \"questions_id\")\n",
        "\n",
        "professionals_tags = questions_tags_answers[['answers_author_id', 'tags_tag_name']]\n",
        "\n",
        "professionals_tags = professionals_tags.drop_duplicates()\n",
        "\n",
        "professionals_tags = professionals_tags.groupby('answers_author_id')['tags_tag_name'].apply(lambda x: \"%s\" % ', '.join(x))\n",
        "\n",
        "professionals_tags = pd.DataFrame(professionals_tags).reset_index()"
      ],
      "execution_count": 0,
      "outputs": []
    },
    {
      "cell_type": "markdown",
      "metadata": {
        "id": "Bdao8NFvNkTo",
        "colab_type": "text"
      },
      "source": [
        "The above shows `tags` the professionals follow and the below shows `tags` from questions the professionals have been answering."
      ]
    },
    {
      "cell_type": "code",
      "metadata": {
        "trusted": true,
        "id": "QVx6PCaKNkTo",
        "colab_type": "code",
        "colab": {
          "base_uri": "https://localhost:8080/",
          "height": 198
        },
        "outputId": "550aa83c-4e1c-4114-f4ed-d492458ed101"
      },
      "source": [
        "professionals_tags.head()"
      ],
      "execution_count": 139,
      "outputs": [
        {
          "output_type": "execute_result",
          "data": {
            "text/html": [
              "<div>\n",
              "<style scoped>\n",
              "    .dataframe tbody tr th:only-of-type {\n",
              "        vertical-align: middle;\n",
              "    }\n",
              "\n",
              "    .dataframe tbody tr th {\n",
              "        vertical-align: top;\n",
              "    }\n",
              "\n",
              "    .dataframe thead th {\n",
              "        text-align: right;\n",
              "    }\n",
              "</style>\n",
              "<table border=\"1\" class=\"dataframe\">\n",
              "  <thead>\n",
              "    <tr style=\"text-align: right;\">\n",
              "      <th></th>\n",
              "      <th>answers_author_id</th>\n",
              "      <th>tags_tag_name</th>\n",
              "    </tr>\n",
              "  </thead>\n",
              "  <tbody>\n",
              "    <tr>\n",
              "      <th>0</th>\n",
              "      <td>00009a0f9bda43eba47104e9ac62aff5</td>\n",
              "      <td>photography, digital-media</td>\n",
              "    </tr>\n",
              "    <tr>\n",
              "      <th>1</th>\n",
              "      <td>0126facaedba48199f6af1141f84f791</td>\n",
              "      <td>internships, research, chemistry, academic-adv...</td>\n",
              "    </tr>\n",
              "    <tr>\n",
              "      <th>2</th>\n",
              "      <td>0182076c27374f37be2d36648c8cade0</td>\n",
              "      <td>accounting</td>\n",
              "    </tr>\n",
              "    <tr>\n",
              "      <th>3</th>\n",
              "      <td>02a21c26ce44473eb1c98e21918b22c5</td>\n",
              "      <td>career, artist, fine-art, community-college, f...</td>\n",
              "    </tr>\n",
              "    <tr>\n",
              "      <th>4</th>\n",
              "      <td>02d74200af144e69b02e687430fa0102</td>\n",
              "      <td>college, business, career-counseling, writing,...</td>\n",
              "    </tr>\n",
              "  </tbody>\n",
              "</table>\n",
              "</div>"
            ],
            "text/plain": [
              "                  answers_author_id                                      tags_tag_name\n",
              "0  00009a0f9bda43eba47104e9ac62aff5                         photography, digital-media\n",
              "1  0126facaedba48199f6af1141f84f791  internships, research, chemistry, academic-adv...\n",
              "2  0182076c27374f37be2d36648c8cade0                                         accounting\n",
              "3  02a21c26ce44473eb1c98e21918b22c5  career, artist, fine-art, community-college, f...\n",
              "4  02d74200af144e69b02e687430fa0102  college, business, career-counseling, writing,..."
            ]
          },
          "metadata": {
            "tags": []
          },
          "execution_count": 139
        }
      ]
    },
    {
      "cell_type": "code",
      "metadata": {
        "trusted": true,
        "id": "6KJwQX2bNkTp",
        "colab_type": "code",
        "colab": {
          "base_uri": "https://localhost:8080/",
          "height": 198
        },
        "outputId": "980cee14-e940-451e-d64f-f189d790d3de"
      },
      "source": [
        "all_tags = merging(p_follow_tags, professionals_tags, 'professionals_id', 'answers_author_id')\n",
        "\n",
        "all_tags.drop('professionals_id', axis=1, inplace=True)\n",
        "\n",
        "all_tags.head()"
      ],
      "execution_count": 140,
      "outputs": [
        {
          "output_type": "execute_result",
          "data": {
            "text/html": [
              "<div>\n",
              "<style scoped>\n",
              "    .dataframe tbody tr th:only-of-type {\n",
              "        vertical-align: middle;\n",
              "    }\n",
              "\n",
              "    .dataframe tbody tr th {\n",
              "        vertical-align: top;\n",
              "    }\n",
              "\n",
              "    .dataframe thead th {\n",
              "        text-align: right;\n",
              "    }\n",
              "</style>\n",
              "<table border=\"1\" class=\"dataframe\">\n",
              "  <thead>\n",
              "    <tr style=\"text-align: right;\">\n",
              "      <th></th>\n",
              "      <th>tags_followed</th>\n",
              "      <th>answers_author_id</th>\n",
              "      <th>tags_tag_name</th>\n",
              "    </tr>\n",
              "  </thead>\n",
              "  <tbody>\n",
              "    <tr>\n",
              "      <th>0</th>\n",
              "      <td>marketing, pr, public-relations, marketing-com...</td>\n",
              "      <td>4a8013c3a0364793b99b0b94f0afff01</td>\n",
              "      <td>career-counseling, career-choice, journalism, ...</td>\n",
              "    </tr>\n",
              "    <tr>\n",
              "      <th>1</th>\n",
              "      <td>digital-media, digital-media, media-planning, ...</td>\n",
              "      <td>37b504f5e71e46c6a7b793b13dedf5ec</td>\n",
              "      <td>broadcast-journalism, magazine, digital-media,...</td>\n",
              "    </tr>\n",
              "    <tr>\n",
              "      <th>2</th>\n",
              "      <td>computer-software, computer-software, programm...</td>\n",
              "      <td>e3529e64e70643b6889353db79eeea3e</td>\n",
              "      <td>software, software-engineering, software-devel...</td>\n",
              "    </tr>\n",
              "    <tr>\n",
              "      <th>3</th>\n",
              "      <td>business-intelligence, project-management, str...</td>\n",
              "      <td>c24c75dfc86d410fb692a34d370cd6be</td>\n",
              "      <td>business, medicine, teaching, law, management,...</td>\n",
              "    </tr>\n",
              "    <tr>\n",
              "      <th>4</th>\n",
              "      <td>coaching, athlete, college, college-major, edu...</td>\n",
              "      <td>3d8847ddc8d04185976a9e78b190ebdb</td>\n",
              "      <td>united-states-government, sports, football, tr...</td>\n",
              "    </tr>\n",
              "  </tbody>\n",
              "</table>\n",
              "</div>"
            ],
            "text/plain": [
              "                                       tags_followed  ...                                      tags_tag_name\n",
              "0  marketing, pr, public-relations, marketing-com...  ...  career-counseling, career-choice, journalism, ...\n",
              "1  digital-media, digital-media, media-planning, ...  ...  broadcast-journalism, magazine, digital-media,...\n",
              "2  computer-software, computer-software, programm...  ...  software, software-engineering, software-devel...\n",
              "3  business-intelligence, project-management, str...  ...  business, medicine, teaching, law, management,...\n",
              "4  coaching, athlete, college, college-major, edu...  ...  united-states-government, sports, football, tr...\n",
              "\n",
              "[5 rows x 3 columns]"
            ]
          },
          "metadata": {
            "tags": []
          },
          "execution_count": 140
        }
      ]
    },
    {
      "cell_type": "markdown",
      "metadata": {
        "id": "oEjx-OEjNkTr",
        "colab_type": "text"
      },
      "source": [
        "Unexpected finding! Professionals do not only answer questions that have tags they follow. By recommending only questions based on tags, we missed out the \"implicit\" question tags professionals have been answering. Let's move on to recommending professionals based on tags."
      ]
    },
    {
      "cell_type": "code",
      "metadata": {
        "trusted": true,
        "_kg_hide-input": true,
        "id": "hi-fmx7-NkTr",
        "colab_type": "code",
        "colab": {}
      },
      "source": [
        "tags_p_ids = all_tags['answers_author_id'].tolist()\n",
        "\n",
        "all_tags['all_tags'] = all_tags['tags_followed'] + str(' ') + all_tags['tags_tag_name']\n",
        "\n",
        "clean_tags = process_text(all_tags, 'all_tags').values\n",
        "\n",
        "# _, tags_scl, tags_emb = get_use_matrix(clean_tags)\n",
        "# tags_scores = np.asarray(p_profiles(tags_p_ids, all_tags, tags_emb))\n",
        "\n",
        "_, tags_tf, tags_vocab, tags_tfidf_matrix = get_tfidf_matrix(clean_tags)\n",
        "tags_scores = np.asarray(p_profiles(tags_p_ids, all_tags, tags_tfidf_matrix))"
      ],
      "execution_count": 0,
      "outputs": []
    },
    {
      "cell_type": "code",
      "metadata": {
        "trusted": true,
        "id": "7akjt5CQNkTt",
        "colab_type": "code",
        "colab": {
          "base_uri": "https://localhost:8080/",
          "height": 35
        },
        "outputId": "0a5fd9c4-ca02-4f00-f89d-4f690011512e"
      },
      "source": [
        "cold_start_tags = '#animation, #graphics design'\n",
        "\n",
        "# similar_p_tags_idx = u_relevant_p_indices(cold_start_tags, tags_scl, tags_scores)\n",
        "\n",
        "similar_p_tags_idx = t_relevant_p_indices(cold_start_tags, tags_tf, tags_scores)\n",
        "\n",
        "similar_p_tags_idx"
      ],
      "execution_count": 142,
      "outputs": [
        {
          "output_type": "execute_result",
          "data": {
            "text/plain": [
              "array([ 15, 118, 328, 117, 457, 292, 327,  99,  85, 391])"
            ]
          },
          "metadata": {
            "tags": []
          },
          "execution_count": 142
        }
      ]
    },
    {
      "cell_type": "code",
      "metadata": {
        "trusted": true,
        "id": "eKeuHDelNkTu",
        "colab_type": "code",
        "colab": {
          "base_uri": "https://localhost:8080/",
          "height": 52
        },
        "outputId": "90199d21-8ffa-4914-b5b2-fc52d9e8ae80"
      },
      "source": [
        "most_similar_idx = similar_p_tags_idx[0]\n",
        "professionals[professionals['professionals_id'] == tags_p_ids[most_similar_idx]]['professionals_headline']"
      ],
      "execution_count": 143,
      "outputs": [
        {
          "output_type": "execute_result",
          "data": {
            "text/plain": [
              "1532    Senior Animator at EA\n",
              "Name: professionals_headline, dtype: object"
            ]
          },
          "metadata": {
            "tags": []
          },
          "execution_count": 143
        }
      ]
    },
    {
      "cell_type": "markdown",
      "metadata": {
        "id": "f9Aam_nHNkTv",
        "colab_type": "text"
      },
      "source": [
        "## Recommendation #6: Keeping track of questions that are unanswered\n",
        "I would like to recommend keeping track of questions that are unanswered for 3 days since they are posted. Next, using `professionals`' login session, I would like to determine who are the professionals that are active in the current time period and recommend the unanswered questions to most relevant professionals among them all. Unfortunately, I have no access to login sessions. Hence, this part is left unimplemented."
      ]
    },
    {
      "cell_type": "code",
      "metadata": {
        "trusted": true,
        "id": "nGide9d_NkTv",
        "colab_type": "code",
        "colab": {}
      },
      "source": [
        "# TODO"
      ],
      "execution_count": 0,
      "outputs": []
    },
    {
      "cell_type": "markdown",
      "metadata": {
        "trusted": true,
        "_uuid": "1cf58dbc8fc6a5d64ef8a041fce7ade062b27533",
        "id": "GbcAz2RyNkTw",
        "colab_type": "text"
      },
      "source": [
        "# 5. Metadata\n",
        "## 5.1 Location\n",
        "After some EDA, we come to realize that the pool of students is certainly diverse. This led to concerns about how some questions are very much pertained to a certain location. For instance, Priyanka asked about the life in the military in India. How can we handle this?"
      ]
    },
    {
      "cell_type": "code",
      "metadata": {
        "trusted": true,
        "_uuid": "4e194aa2da57726c2d84f249b1ca935077a65da3",
        "_kg_hide-input": true,
        "id": "FaBJ98ZMNkTw",
        "colab_type": "code",
        "colab": {}
      },
      "source": [
        "usa_states = [\"Alabama\",\"Alaska\",\"Arizona\",\"Arkansas\",\"California\",\"Colorado\",\n",
        "              \"Connecticut\",\"Delaware\",\"Florida\",\"Georgia\",\"Hawaii\",\"Idaho\",\"Illinois\",\n",
        "              \"Indiana\",\"Iowa\",\"Kansas\",\"Kentucky\",\"Louisiana\",\"Maine\",\"Maryland\",\n",
        "              \"Massachusetts\",\"Michigan\",\"Minnesota\",\"Mississippi\",\"Missouri\",\"Montana\",\n",
        "              \"Nebraska\",\"Nevada\",\"New Hampshire\",\"New Jersey\",\"New Mexico\",\"New York\",\n",
        "              \"North Carolina\",\"North Dakota\",\"Ohio\",\"Oklahoma\",\"Oregon\",\"Pennsylvania\",\n",
        "              \"Rhode Island\",\"South Carolina\",\"South Dakota\",\"Tennessee\",\"Texas\",\"Utah\",\n",
        "              \"Vermont\",\"Virginia\",\"Washington\",\"West Virginia\",\"Wisconsin\",\"Wyoming\"]"
      ],
      "execution_count": 0,
      "outputs": []
    },
    {
      "cell_type": "code",
      "metadata": {
        "trusted": true,
        "_uuid": "fd75227f2c4c7e9ccd695bc2c8c5a9796c392bf2",
        "_kg_hide-input": false,
        "id": "XGtRbvgGNkTx",
        "colab_type": "code",
        "colab": {}
      },
      "source": [
        "def location_to_country(df, col, ids):\n",
        "    df[col] = df[col].fillna('')\n",
        "    \n",
        "    # for USA\n",
        "    _usa = df[df[col].str.count(',') == 1]\n",
        "\n",
        "    _usa[col] = _usa[col].str.split(',').str[1]\n",
        "    _usa[col] = _usa[col].str.lstrip() \n",
        "\n",
        "    _usa = _usa[_usa[col].isin(usa_states)][[ids, col]]\n",
        "    \n",
        "    _usa[col] = 'USA'\n",
        "\n",
        "    _usa = _usa.rename(columns={ids: ids, \n",
        "                                col: 'country'})\n",
        "    \n",
        "    # for other countries\n",
        "    _other = df[df[col].str.count(',') == 2]\n",
        "\n",
        "    _other[col] = _other[col].str.split(',').str[2]\n",
        "    _other[col] = _other[col].str.lstrip() \n",
        "\n",
        "    _other = _other[[ids, col]]\n",
        "\n",
        "    _other = _other.rename(columns={ids: ids, \n",
        "                                    col: 'country'})\n",
        "\n",
        "    return _usa, _other"
      ],
      "execution_count": 0,
      "outputs": []
    },
    {
      "cell_type": "markdown",
      "metadata": {
        "id": "iieiZdTkNkTy",
        "colab_type": "text"
      },
      "source": [
        "We relabel every state in the US to USA since `professionals_location` and `students_location` are referring to the state rather than the country. This will help us better handle questions raised from different countries. A problem I encounter is my inability to capture all US states, especially `Greater Los Angeles Area` since I could not split it properly. A suggestion is perhaps to standardize selection options for countries and states."
      ]
    },
    {
      "cell_type": "code",
      "metadata": {
        "trusted": true,
        "id": "UDOZI9r2NkTz",
        "colab_type": "code",
        "colab": {
          "base_uri": "https://localhost:8080/",
          "height": 198
        },
        "outputId": "d9c37a64-75ee-4c55-87ea-ef8d40f20e5d"
      },
      "source": [
        "usa_heros, etc_heros = location_to_country(professionals, 'professionals_location', 'professionals_id')\n",
        "\n",
        "heros_country = pd.concat([usa_heros, etc_heros])\n",
        "\n",
        "heros_country.head() "
      ],
      "execution_count": 147,
      "outputs": [
        {
          "output_type": "execute_result",
          "data": {
            "text/html": [
              "<div>\n",
              "<style scoped>\n",
              "    .dataframe tbody tr th:only-of-type {\n",
              "        vertical-align: middle;\n",
              "    }\n",
              "\n",
              "    .dataframe tbody tr th {\n",
              "        vertical-align: top;\n",
              "    }\n",
              "\n",
              "    .dataframe thead th {\n",
              "        text-align: right;\n",
              "    }\n",
              "</style>\n",
              "<table border=\"1\" class=\"dataframe\">\n",
              "  <thead>\n",
              "    <tr style=\"text-align: right;\">\n",
              "      <th></th>\n",
              "      <th>professionals_id</th>\n",
              "      <th>country</th>\n",
              "    </tr>\n",
              "  </thead>\n",
              "  <tbody>\n",
              "    <tr>\n",
              "      <th>2</th>\n",
              "      <td>0c673e046d824ec0ad0ebe012a0673e4</td>\n",
              "      <td>USA</td>\n",
              "    </tr>\n",
              "    <tr>\n",
              "      <th>3</th>\n",
              "      <td>977428d851b24183b223be0eb8619a8c</td>\n",
              "      <td>USA</td>\n",
              "    </tr>\n",
              "    <tr>\n",
              "      <th>10</th>\n",
              "      <td>7d425e8d7cfb4fe7b0702fff4d6d84e7</td>\n",
              "      <td>USA</td>\n",
              "    </tr>\n",
              "    <tr>\n",
              "      <th>15</th>\n",
              "      <td>68ecc66323b8418092fdd724aaf5be94</td>\n",
              "      <td>USA</td>\n",
              "    </tr>\n",
              "    <tr>\n",
              "      <th>18</th>\n",
              "      <td>971937860c164896a0771bf502bad482</td>\n",
              "      <td>USA</td>\n",
              "    </tr>\n",
              "  </tbody>\n",
              "</table>\n",
              "</div>"
            ],
            "text/plain": [
              "                    professionals_id country\n",
              "2   0c673e046d824ec0ad0ebe012a0673e4     USA\n",
              "3   977428d851b24183b223be0eb8619a8c     USA\n",
              "10  7d425e8d7cfb4fe7b0702fff4d6d84e7     USA\n",
              "15  68ecc66323b8418092fdd724aaf5be94     USA\n",
              "18  971937860c164896a0771bf502bad482     USA"
            ]
          },
          "metadata": {
            "tags": []
          },
          "execution_count": 147
        }
      ]
    },
    {
      "cell_type": "code",
      "metadata": {
        "trusted": true,
        "id": "wOe-Tc2zNkT1",
        "colab_type": "code",
        "colab": {
          "base_uri": "https://localhost:8080/",
          "height": 405
        },
        "outputId": "001c79e0-b6f2-449e-cca7-72d86c982aef"
      },
      "source": [
        "heros_country_val_cnt = heros_country['country'].value_counts()[1:10]\n",
        "\n",
        "plt.figure(figsize=(8,6))\n",
        "sns.barplot(heros_country_val_cnt.index, \n",
        "            heros_country_val_cnt.values)\n",
        "plt.title('Professionals and their Countries excluding USA')\n",
        "plt.ylabel('Count')\n",
        "plt.xlabel('Countries')\n",
        "plt.show()"
      ],
      "execution_count": 148,
      "outputs": [
        {
          "output_type": "display_data",
          "data": {
            "image/png": "[encoded data removed]",
            "text/plain": [
              "<Figure size 576x432 with 1 Axes>"
            ]
          },
          "metadata": {
            "tags": []
          }
        }
      ]
    },
    {
      "cell_type": "markdown",
      "metadata": {
        "id": "iXXW_9S5NkT2",
        "colab_type": "text"
      },
      "source": [
        "Excluding USA, which has around 14,000 professionals, we observe how the professionals come from other countries too!"
      ]
    },
    {
      "cell_type": "code",
      "metadata": {
        "trusted": true,
        "_uuid": "fea970f511407fdc1d87e3f70ab22728c4fd3b42",
        "id": "_O7pggHINkT2",
        "colab_type": "code",
        "colab": {
          "base_uri": "https://localhost:8080/",
          "height": 198
        },
        "outputId": "ea3973ce-606e-4a3e-d978-ebde1c500ab6"
      },
      "source": [
        "usa_students, etc_students = location_to_country(students, 'students_location', 'students_id')\n",
        "\n",
        "students_country = pd.concat([usa_students, etc_students])\n",
        "\n",
        "students_country.head()"
      ],
      "execution_count": 149,
      "outputs": [
        {
          "output_type": "execute_result",
          "data": {
            "text/html": [
              "<div>\n",
              "<style scoped>\n",
              "    .dataframe tbody tr th:only-of-type {\n",
              "        vertical-align: middle;\n",
              "    }\n",
              "\n",
              "    .dataframe tbody tr th {\n",
              "        vertical-align: top;\n",
              "    }\n",
              "\n",
              "    .dataframe thead th {\n",
              "        text-align: right;\n",
              "    }\n",
              "</style>\n",
              "<table border=\"1\" class=\"dataframe\">\n",
              "  <thead>\n",
              "    <tr style=\"text-align: right;\">\n",
              "      <th></th>\n",
              "      <th>students_id</th>\n",
              "      <th>country</th>\n",
              "    </tr>\n",
              "  </thead>\n",
              "  <tbody>\n",
              "    <tr>\n",
              "      <th>59</th>\n",
              "      <td>9658267bc2564a85bad1e802de5fb597</td>\n",
              "      <td>USA</td>\n",
              "    </tr>\n",
              "    <tr>\n",
              "      <th>78</th>\n",
              "      <td>d49795757f274dd690bdce3936edea20</td>\n",
              "      <td>USA</td>\n",
              "    </tr>\n",
              "    <tr>\n",
              "      <th>97</th>\n",
              "      <td>fae3c431698a418882c4204e5f3ee244</td>\n",
              "      <td>USA</td>\n",
              "    </tr>\n",
              "    <tr>\n",
              "      <th>104</th>\n",
              "      <td>2e67080928c74a4d863b2bcc60921152</td>\n",
              "      <td>USA</td>\n",
              "    </tr>\n",
              "    <tr>\n",
              "      <th>124</th>\n",
              "      <td>94f41c4228e2452aa8ddf786d02b06c0</td>\n",
              "      <td>USA</td>\n",
              "    </tr>\n",
              "  </tbody>\n",
              "</table>\n",
              "</div>"
            ],
            "text/plain": [
              "                          students_id country\n",
              "59   9658267bc2564a85bad1e802de5fb597     USA\n",
              "78   d49795757f274dd690bdce3936edea20     USA\n",
              "97   fae3c431698a418882c4204e5f3ee244     USA\n",
              "104  2e67080928c74a4d863b2bcc60921152     USA\n",
              "124  94f41c4228e2452aa8ddf786d02b06c0     USA"
            ]
          },
          "metadata": {
            "tags": []
          },
          "execution_count": 149
        }
      ]
    },
    {
      "cell_type": "code",
      "metadata": {
        "trusted": true,
        "id": "RZNJPWyBNkT4",
        "colab_type": "code",
        "colab": {
          "base_uri": "https://localhost:8080/",
          "height": 405
        },
        "outputId": "8dbbd93b-b3e3-492a-9ecd-7e1e2b142dbe"
      },
      "source": [
        "students_country_val_cnt = students_country['country'].value_counts()[1:10]\n",
        "\n",
        "plt.figure(figsize=(8,6))\n",
        "sns.barplot(students_country_val_cnt.index, \n",
        "            students_country_val_cnt.values)\n",
        "plt.title('Students and their Countries excluding USA')\n",
        "plt.ylabel('Count')\n",
        "plt.xlabel('Countries excluding USA')\n",
        "plt.show()"
      ],
      "execution_count": 150,
      "outputs": [
        {
          "output_type": "display_data",
          "data": {
            "image/png": "[encoded data removed]",
            "text/plain": [
              "<Figure size 576x432 with 1 Axes>"
            ]
          },
          "metadata": {
            "tags": []
          }
        }
      ]
    },
    {
      "cell_type": "markdown",
      "metadata": {
        "id": "JJcYD2xiNkT6",
        "colab_type": "text"
      },
      "source": [
        "Same goes for students. Many of them come from India and they might be asking questions specific to their country. Let's create a model that takes this into account."
      ]
    },
    {
      "cell_type": "markdown",
      "metadata": {
        "id": "qG2mAEwXNkT6",
        "colab_type": "text"
      },
      "source": [
        "## 5.2 Answer scores\n",
        "This could be an approach to determine quality of answers and professional's reputation."
      ]
    },
    {
      "cell_type": "code",
      "metadata": {
        "trusted": true,
        "id": "F2B04YerNkT6",
        "colab_type": "code",
        "colab": {
          "base_uri": "https://localhost:8080/",
          "height": 480
        },
        "outputId": "7e7ba9cb-bd6c-4634-f295-23519ef69ada"
      },
      "source": [
        "questions, answers = new_question_answers()\n",
        "\n",
        "qa = merging(questions, answers, 'questions_id', 'answers_question_id')\n",
        "\n",
        "qa_ans_scores = merging(qa, answer_scores, 'answers_id', 'id')\n",
        "\n",
        "qa_ans_scores.head().T"
      ],
      "execution_count": 151,
      "outputs": [
        {
          "output_type": "execute_result",
          "data": {
            "text/html": [
              "<div>\n",
              "<style scoped>\n",
              "    .dataframe tbody tr th:only-of-type {\n",
              "        vertical-align: middle;\n",
              "    }\n",
              "\n",
              "    .dataframe tbody tr th {\n",
              "        vertical-align: top;\n",
              "    }\n",
              "\n",
              "    .dataframe thead th {\n",
              "        text-align: right;\n",
              "    }\n",
              "</style>\n",
              "<table border=\"1\" class=\"dataframe\">\n",
              "  <thead>\n",
              "    <tr style=\"text-align: right;\">\n",
              "      <th></th>\n",
              "      <th>0</th>\n",
              "      <th>1</th>\n",
              "      <th>2</th>\n",
              "      <th>3</th>\n",
              "      <th>4</th>\n",
              "    </tr>\n",
              "  </thead>\n",
              "  <tbody>\n",
              "    <tr>\n",
              "      <th>questions_id</th>\n",
              "      <td>332a511f1569444485cf7a7a556a5e54</td>\n",
              "      <td>eb80205482e4424cad8f16bc25aa2d9c</td>\n",
              "      <td>eb80205482e4424cad8f16bc25aa2d9c</td>\n",
              "      <td>4ec31632938a40b98909416bdd0decff</td>\n",
              "      <td>2f6a9a99d9b24e5baa50d40d0ba50a75</td>\n",
              "    </tr>\n",
              "    <tr>\n",
              "      <th>questions_author_id</th>\n",
              "      <td>8f6f374ffd834d258ab69d376dd998f5</td>\n",
              "      <td>acccbda28edd4362ab03fb8b6fd2d67b</td>\n",
              "      <td>acccbda28edd4362ab03fb8b6fd2d67b</td>\n",
              "      <td>f2c179a563024ccc927399ce529094b5</td>\n",
              "      <td>2c30ffba444e40eabb4583b55233a5a4</td>\n",
              "    </tr>\n",
              "    <tr>\n",
              "      <th>questions_date_added</th>\n",
              "      <td>2016-04-26 11:14:26 UTC+0000</td>\n",
              "      <td>2016-05-20 16:48:25 UTC+0000</td>\n",
              "      <td>2016-05-20 16:48:25 UTC+0000</td>\n",
              "      <td>2017-02-08 19:13:38 UTC+0000</td>\n",
              "      <td>2017-09-01 14:05:32 UTC+0000</td>\n",
              "    </tr>\n",
              "    <tr>\n",
              "      <th>questions_title</th>\n",
              "      <td>Teacher   career   question</td>\n",
              "      <td>I want to become an army officer. What can I d...</td>\n",
              "      <td>I want to become an army officer. What can I d...</td>\n",
              "      <td>Will going abroad for your first job increase ...</td>\n",
              "      <td>To become a specialist in business  management...</td>\n",
              "    </tr>\n",
              "    <tr>\n",
              "      <th>questions_body</th>\n",
              "      <td>What  is  a  maths  teacher?   what  is  a  ma...</td>\n",
              "      <td>I am Priyanka from Bangalore . Now am in 10th ...</td>\n",
              "      <td>I am Priyanka from Bangalore . Now am in 10th ...</td>\n",
              "      <td>I'm planning on going abroad for my first job....</td>\n",
              "      <td>i hear business management is a hard way to ge...</td>\n",
              "    </tr>\n",
              "    <tr>\n",
              "      <th>answers_id</th>\n",
              "      <td>4e5f01128cae4f6d8fd697cec5dca60c</td>\n",
              "      <td>ada720538c014e9b8a6dceed09385ee3</td>\n",
              "      <td>eaa66ef919bc408ab5296237440e323f</td>\n",
              "      <td>1a6b3749d391486c9e371fbd1e605014</td>\n",
              "      <td>5229c514000446d582050f89ebd4e184</td>\n",
              "    </tr>\n",
              "    <tr>\n",
              "      <th>answers_author_id</th>\n",
              "      <td>36ff3b3666df400f956f8335cf53e09e</td>\n",
              "      <td>2aa47af241bf42a4b874c453f0381bd4</td>\n",
              "      <td>cbd8f30613a849bf918aed5c010340be</td>\n",
              "      <td>7e72a630c303442ba92ff00e8ea451df</td>\n",
              "      <td>17802d94699140b0a0d2995f30c034c6</td>\n",
              "    </tr>\n",
              "    <tr>\n",
              "      <th>answers_question_id</th>\n",
              "      <td>332a511f1569444485cf7a7a556a5e54</td>\n",
              "      <td>eb80205482e4424cad8f16bc25aa2d9c</td>\n",
              "      <td>eb80205482e4424cad8f16bc25aa2d9c</td>\n",
              "      <td>4ec31632938a40b98909416bdd0decff</td>\n",
              "      <td>2f6a9a99d9b24e5baa50d40d0ba50a75</td>\n",
              "    </tr>\n",
              "    <tr>\n",
              "      <th>answers_date_added</th>\n",
              "      <td>2016-04-29 19:40:14 UTC+0000</td>\n",
              "      <td>2018-05-01 14:19:08 UTC+0000</td>\n",
              "      <td>2018-05-02 02:41:02 UTC+0000</td>\n",
              "      <td>2017-05-10 19:00:47 UTC+0000</td>\n",
              "      <td>2017-10-13 22:07:33 UTC+0000</td>\n",
              "    </tr>\n",
              "    <tr>\n",
              "      <th>answers_body</th>\n",
              "      <td>&lt;p&gt;Hi!&lt;/p&gt;\\n&lt;p&gt;You are asking a very interesti...</td>\n",
              "      <td>&lt;p&gt;Hi. I joined the Army after I attended coll...</td>\n",
              "      <td>&lt;p&gt;Dear Priyanka,&lt;/p&gt;&lt;p&gt;Greetings! I have answ...</td>\n",
              "      <td>&lt;p&gt;I work for a global company who values high...</td>\n",
              "      <td>I agree with Denise. Every single job I've had...</td>\n",
              "    </tr>\n",
              "    <tr>\n",
              "      <th>id</th>\n",
              "      <td>4e5f01128cae4f6d8fd697cec5dca60c</td>\n",
              "      <td>ada720538c014e9b8a6dceed09385ee3</td>\n",
              "      <td>eaa66ef919bc408ab5296237440e323f</td>\n",
              "      <td>1a6b3749d391486c9e371fbd1e605014</td>\n",
              "      <td>5229c514000446d582050f89ebd4e184</td>\n",
              "    </tr>\n",
              "    <tr>\n",
              "      <th>score</th>\n",
              "      <td>0</td>\n",
              "      <td>0</td>\n",
              "      <td>0</td>\n",
              "      <td>0</td>\n",
              "      <td>0</td>\n",
              "    </tr>\n",
              "  </tbody>\n",
              "</table>\n",
              "</div>"
            ],
            "text/plain": [
              "                                                                      0  ...                                                  4\n",
              "questions_id                           332a511f1569444485cf7a7a556a5e54  ...                   2f6a9a99d9b24e5baa50d40d0ba50a75\n",
              "questions_author_id                    8f6f374ffd834d258ab69d376dd998f5  ...                   2c30ffba444e40eabb4583b55233a5a4\n",
              "questions_date_added                       2016-04-26 11:14:26 UTC+0000  ...                       2017-09-01 14:05:32 UTC+0000\n",
              "questions_title                             Teacher   career   question  ...  To become a specialist in business  management...\n",
              "questions_body        What  is  a  maths  teacher?   what  is  a  ma...  ...  i hear business management is a hard way to ge...\n",
              "answers_id                             4e5f01128cae4f6d8fd697cec5dca60c  ...                   5229c514000446d582050f89ebd4e184\n",
              "answers_author_id                      36ff3b3666df400f956f8335cf53e09e  ...                   17802d94699140b0a0d2995f30c034c6\n",
              "answers_question_id                    332a511f1569444485cf7a7a556a5e54  ...                   2f6a9a99d9b24e5baa50d40d0ba50a75\n",
              "answers_date_added                         2016-04-29 19:40:14 UTC+0000  ...                       2017-10-13 22:07:33 UTC+0000\n",
              "answers_body          <p>Hi!</p>\\n<p>You are asking a very interesti...  ...  I agree with Denise. Every single job I've had...\n",
              "id                                     4e5f01128cae4f6d8fd697cec5dca60c  ...                   5229c514000446d582050f89ebd4e184\n",
              "score                                                                 0  ...                                                  0\n",
              "\n",
              "[12 rows x 5 columns]"
            ]
          },
          "metadata": {
            "tags": []
          },
          "execution_count": 151
        }
      ]
    },
    {
      "cell_type": "code",
      "metadata": {
        "trusted": true,
        "id": "q8y2mHqGNkT7",
        "colab_type": "code",
        "colab": {
          "base_uri": "https://localhost:8080/",
          "height": 198
        },
        "outputId": "0a3c34dc-71f8-40a2-d5d6-c936400459fe"
      },
      "source": [
        "p_hearts = pd.DataFrame(qa_ans_scores.groupby('answers_author_id')['score'].sum()).reset_index()\n",
        "\n",
        "p_hearts.sort_values('score', ascending=False).head()"
      ],
      "execution_count": 152,
      "outputs": [
        {
          "output_type": "execute_result",
          "data": {
            "text/html": [
              "<div>\n",
              "<style scoped>\n",
              "    .dataframe tbody tr th:only-of-type {\n",
              "        vertical-align: middle;\n",
              "    }\n",
              "\n",
              "    .dataframe tbody tr th {\n",
              "        vertical-align: top;\n",
              "    }\n",
              "\n",
              "    .dataframe thead th {\n",
              "        text-align: right;\n",
              "    }\n",
              "</style>\n",
              "<table border=\"1\" class=\"dataframe\">\n",
              "  <thead>\n",
              "    <tr style=\"text-align: right;\">\n",
              "      <th></th>\n",
              "      <th>answers_author_id</th>\n",
              "      <th>score</th>\n",
              "    </tr>\n",
              "  </thead>\n",
              "  <tbody>\n",
              "    <tr>\n",
              "      <th>6302</th>\n",
              "      <td>a1006e6a58a0447592e2435caa230f78</td>\n",
              "      <td>449</td>\n",
              "    </tr>\n",
              "    <tr>\n",
              "      <th>2141</th>\n",
              "      <td>36ff3b3666df400f956f8335cf53e09e</td>\n",
              "      <td>431</td>\n",
              "    </tr>\n",
              "    <tr>\n",
              "      <th>194</th>\n",
              "      <td>05444a2f42454327b2ac4b463c0adbe0</td>\n",
              "      <td>338</td>\n",
              "    </tr>\n",
              "    <tr>\n",
              "      <th>6541</th>\n",
              "      <td>a6d33c38902546849c36ea7e9e9f0870</td>\n",
              "      <td>333</td>\n",
              "    </tr>\n",
              "    <tr>\n",
              "      <th>7444</th>\n",
              "      <td>be5d23056fcb4f1287c823beec5291e1</td>\n",
              "      <td>283</td>\n",
              "    </tr>\n",
              "  </tbody>\n",
              "</table>\n",
              "</div>"
            ],
            "text/plain": [
              "                     answers_author_id  score\n",
              "6302  a1006e6a58a0447592e2435caa230f78    449\n",
              "2141  36ff3b3666df400f956f8335cf53e09e    431\n",
              "194   05444a2f42454327b2ac4b463c0adbe0    338\n",
              "6541  a6d33c38902546849c36ea7e9e9f0870    333\n",
              "7444  be5d23056fcb4f1287c823beec5291e1    283"
            ]
          },
          "metadata": {
            "tags": []
          },
          "execution_count": 152
        }
      ]
    },
    {
      "cell_type": "markdown",
      "metadata": {
        "trusted": true,
        "id": "nSmoNzskNkT8",
        "colab_type": "text"
      },
      "source": [
        "## 5.3 Timeliness\n",
        "\n",
        "As mentioned, timeliness is also an important metric to CareerVillage."
      ]
    },
    {
      "cell_type": "code",
      "metadata": {
        "trusted": true,
        "_kg_hide-input": true,
        "id": "GB2cNEW-NkT8",
        "colab_type": "code",
        "colab": {}
      },
      "source": [
        "questions, answers = new_question_answers()\n",
        "\n",
        "mat_ema = merging(matches, emails, 'matches_email_id', 'emails_id')\n",
        "\n",
        "que_mat_ema = merging(mat_ema, questions, 'matches_question_id', 'questions_id')\n",
        "\n",
        "ans_que_mat_ema = merging(que_mat_ema, answers, 'questions_id', 'answers_question_id')\n",
        "\n",
        "ema_ans_pair = ans_que_mat_ema[ans_que_mat_ema['emails_recipient_id'] == ans_que_mat_ema['answers_author_id']]\n",
        "\n",
        "del ans_que_mat_ema; del mat_ema; del que_mat_ema; _ = gc.collect()"
      ],
      "execution_count": 0,
      "outputs": []
    },
    {
      "cell_type": "code",
      "metadata": {
        "trusted": true,
        "id": "o9gWJUoyNkT9",
        "colab_type": "code",
        "colab": {
          "base_uri": "https://localhost:8080/",
          "height": 218
        },
        "outputId": "3f8bf13e-8de2-42dd-9b7b-c3a4e18584a6"
      },
      "source": [
        "ema_ans_pair = ema_ans_pair[['questions_id', 'questions_date_added', \n",
        "                             'emails_date_sent', \n",
        "                             'answers_date_added', 'answers_author_id']]\n",
        "\n",
        "ema_ans_pair['questions_date_added'] = pd.to_datetime(ema_ans_pair['questions_date_added']).dt.date\n",
        "ema_ans_pair['emails_date_sent'] = pd.to_datetime(ema_ans_pair['emails_date_sent']).dt.date\n",
        "ema_ans_pair['answers_date_added'] = pd.to_datetime(ema_ans_pair['answers_date_added']).dt.date\n",
        "\n",
        "ema_ans_pair['resp_time'] = ema_ans_pair['answers_date_added'] - ema_ans_pair['emails_date_sent']\n",
        "\n",
        "ema_ans_pair['resp_time'] = ema_ans_pair['resp_time'].dt.days\n",
        "\n",
        "ema_ans_pair.head()"
      ],
      "execution_count": 154,
      "outputs": [
        {
          "output_type": "execute_result",
          "data": {
            "text/html": [
              "<div>\n",
              "<style scoped>\n",
              "    .dataframe tbody tr th:only-of-type {\n",
              "        vertical-align: middle;\n",
              "    }\n",
              "\n",
              "    .dataframe tbody tr th {\n",
              "        vertical-align: top;\n",
              "    }\n",
              "\n",
              "    .dataframe thead th {\n",
              "        text-align: right;\n",
              "    }\n",
              "</style>\n",
              "<table border=\"1\" class=\"dataframe\">\n",
              "  <thead>\n",
              "    <tr style=\"text-align: right;\">\n",
              "      <th></th>\n",
              "      <th>questions_id</th>\n",
              "      <th>questions_date_added</th>\n",
              "      <th>emails_date_sent</th>\n",
              "      <th>answers_date_added</th>\n",
              "      <th>answers_author_id</th>\n",
              "      <th>resp_time</th>\n",
              "    </tr>\n",
              "  </thead>\n",
              "  <tbody>\n",
              "    <tr>\n",
              "      <th>168</th>\n",
              "      <td>332a511f1569444485cf7a7a556a5e54</td>\n",
              "      <td>2016-04-26</td>\n",
              "      <td>2016-04-26</td>\n",
              "      <td>2016-04-29</td>\n",
              "      <td>36ff3b3666df400f956f8335cf53e09e</td>\n",
              "      <td>3</td>\n",
              "    </tr>\n",
              "    <tr>\n",
              "      <th>1502</th>\n",
              "      <td>c26ddf71420f48bfbf06622ebd2561a2</td>\n",
              "      <td>2016-05-18</td>\n",
              "      <td>2018-02-24</td>\n",
              "      <td>2018-02-26</td>\n",
              "      <td>e58426cac810497db54359a6f60dfd53</td>\n",
              "      <td>2</td>\n",
              "    </tr>\n",
              "    <tr>\n",
              "      <th>1576</th>\n",
              "      <td>c26ddf71420f48bfbf06622ebd2561a2</td>\n",
              "      <td>2016-05-18</td>\n",
              "      <td>2017-10-17</td>\n",
              "      <td>2017-10-17</td>\n",
              "      <td>659eb632ed6f474cb049c5da5780be58</td>\n",
              "      <td>0</td>\n",
              "    </tr>\n",
              "    <tr>\n",
              "      <th>1620</th>\n",
              "      <td>c26ddf71420f48bfbf06622ebd2561a2</td>\n",
              "      <td>2016-05-18</td>\n",
              "      <td>2017-10-16</td>\n",
              "      <td>2017-10-17</td>\n",
              "      <td>8fa5d60da932410d9ca00f50634e6c17</td>\n",
              "      <td>1</td>\n",
              "    </tr>\n",
              "    <tr>\n",
              "      <th>2304</th>\n",
              "      <td>e65d17acfc6b49b292f2aed60885eaae</td>\n",
              "      <td>2016-08-12</td>\n",
              "      <td>2017-05-13</td>\n",
              "      <td>2017-05-13</td>\n",
              "      <td>a89a9b974d3c467484a398b7d4a34e61</td>\n",
              "      <td>0</td>\n",
              "    </tr>\n",
              "  </tbody>\n",
              "</table>\n",
              "</div>"
            ],
            "text/plain": [
              "                          questions_id  ... resp_time\n",
              "168   332a511f1569444485cf7a7a556a5e54  ...         3\n",
              "1502  c26ddf71420f48bfbf06622ebd2561a2  ...         2\n",
              "1576  c26ddf71420f48bfbf06622ebd2561a2  ...         0\n",
              "1620  c26ddf71420f48bfbf06622ebd2561a2  ...         1\n",
              "2304  e65d17acfc6b49b292f2aed60885eaae  ...         0\n",
              "\n",
              "[5 rows x 6 columns]"
            ]
          },
          "metadata": {
            "tags": []
          },
          "execution_count": 154
        }
      ]
    },
    {
      "cell_type": "code",
      "metadata": {
        "trusted": true,
        "id": "-4s8cK3VNkT-",
        "colab_type": "code",
        "colab": {
          "base_uri": "https://localhost:8080/",
          "height": 35
        },
        "outputId": "63bcf16e-bb2a-493e-c02b-1d87ea744aed"
      },
      "source": [
        "ema_ans_pair[ema_ans_pair['answers_date_added'] < ema_ans_pair['emails_date_sent']].shape"
      ],
      "execution_count": 155,
      "outputs": [
        {
          "output_type": "execute_result",
          "data": {
            "text/plain": [
              "(36, 6)"
            ]
          },
          "metadata": {
            "tags": []
          },
          "execution_count": 155
        }
      ]
    },
    {
      "cell_type": "markdown",
      "metadata": {
        "id": "O5jnVvEPNkT_",
        "colab_type": "text"
      },
      "source": [
        "Interestingly, there are 36 instances of targeted professionals receiving the emails of questions they have already answered. It would be great if CareerVillage can handle such cases of prevent sending targeted professionals who have answered the question.\n",
        "\n",
        "For the sake of analysis and providing a recommendation, I will convert the aforementioned professionals' `resp_time` to 0.\n",
        "\n",
        "Subsequently, I will apply a negative exponential function to the `resp_time`. Logically, professionals who have a shorter response time should have a higher score."
      ]
    },
    {
      "cell_type": "code",
      "metadata": {
        "trusted": true,
        "id": "w4GXP1tWNkT_",
        "colab_type": "code",
        "colab": {
          "base_uri": "https://localhost:8080/",
          "height": 218
        },
        "outputId": "2712c4bc-c451-48ec-e5e0-ff6b4edc9ce2"
      },
      "source": [
        "ema_ans_pair.loc[ema_ans_pair['resp_time'] < 0, 'resp_time'] = 0\n",
        "\n",
        "ema_ans_pair['resp_score'] = np.exp(-0.1 * ema_ans_pair['resp_time'])\n",
        "\n",
        "ema_ans_pair['cnt'] = 1\n",
        "\n",
        "ema_ans_pair.head()"
      ],
      "execution_count": 156,
      "outputs": [
        {
          "output_type": "execute_result",
          "data": {
            "text/html": [
              "<div>\n",
              "<style scoped>\n",
              "    .dataframe tbody tr th:only-of-type {\n",
              "        vertical-align: middle;\n",
              "    }\n",
              "\n",
              "    .dataframe tbody tr th {\n",
              "        vertical-align: top;\n",
              "    }\n",
              "\n",
              "    .dataframe thead th {\n",
              "        text-align: right;\n",
              "    }\n",
              "</style>\n",
              "<table border=\"1\" class=\"dataframe\">\n",
              "  <thead>\n",
              "    <tr style=\"text-align: right;\">\n",
              "      <th></th>\n",
              "      <th>questions_id</th>\n",
              "      <th>questions_date_added</th>\n",
              "      <th>emails_date_sent</th>\n",
              "      <th>answers_date_added</th>\n",
              "      <th>answers_author_id</th>\n",
              "      <th>resp_time</th>\n",
              "      <th>resp_score</th>\n",
              "      <th>cnt</th>\n",
              "    </tr>\n",
              "  </thead>\n",
              "  <tbody>\n",
              "    <tr>\n",
              "      <th>168</th>\n",
              "      <td>332a511f1569444485cf7a7a556a5e54</td>\n",
              "      <td>2016-04-26</td>\n",
              "      <td>2016-04-26</td>\n",
              "      <td>2016-04-29</td>\n",
              "      <td>36ff3b3666df400f956f8335cf53e09e</td>\n",
              "      <td>3</td>\n",
              "      <td>0.740818</td>\n",
              "      <td>1</td>\n",
              "    </tr>\n",
              "    <tr>\n",
              "      <th>1502</th>\n",
              "      <td>c26ddf71420f48bfbf06622ebd2561a2</td>\n",
              "      <td>2016-05-18</td>\n",
              "      <td>2018-02-24</td>\n",
              "      <td>2018-02-26</td>\n",
              "      <td>e58426cac810497db54359a6f60dfd53</td>\n",
              "      <td>2</td>\n",
              "      <td>0.818731</td>\n",
              "      <td>1</td>\n",
              "    </tr>\n",
              "    <tr>\n",
              "      <th>1576</th>\n",
              "      <td>c26ddf71420f48bfbf06622ebd2561a2</td>\n",
              "      <td>2016-05-18</td>\n",
              "      <td>2017-10-17</td>\n",
              "      <td>2017-10-17</td>\n",
              "      <td>659eb632ed6f474cb049c5da5780be58</td>\n",
              "      <td>0</td>\n",
              "      <td>1.000000</td>\n",
              "      <td>1</td>\n",
              "    </tr>\n",
              "    <tr>\n",
              "      <th>1620</th>\n",
              "      <td>c26ddf71420f48bfbf06622ebd2561a2</td>\n",
              "      <td>2016-05-18</td>\n",
              "      <td>2017-10-16</td>\n",
              "      <td>2017-10-17</td>\n",
              "      <td>8fa5d60da932410d9ca00f50634e6c17</td>\n",
              "      <td>1</td>\n",
              "      <td>0.904837</td>\n",
              "      <td>1</td>\n",
              "    </tr>\n",
              "    <tr>\n",
              "      <th>2304</th>\n",
              "      <td>e65d17acfc6b49b292f2aed60885eaae</td>\n",
              "      <td>2016-08-12</td>\n",
              "      <td>2017-05-13</td>\n",
              "      <td>2017-05-13</td>\n",
              "      <td>a89a9b974d3c467484a398b7d4a34e61</td>\n",
              "      <td>0</td>\n",
              "      <td>1.000000</td>\n",
              "      <td>1</td>\n",
              "    </tr>\n",
              "  </tbody>\n",
              "</table>\n",
              "</div>"
            ],
            "text/plain": [
              "                          questions_id questions_date_added  ... resp_score cnt\n",
              "168   332a511f1569444485cf7a7a556a5e54           2016-04-26  ...   0.740818   1\n",
              "1502  c26ddf71420f48bfbf06622ebd2561a2           2016-05-18  ...   0.818731   1\n",
              "1576  c26ddf71420f48bfbf06622ebd2561a2           2016-05-18  ...   1.000000   1\n",
              "1620  c26ddf71420f48bfbf06622ebd2561a2           2016-05-18  ...   0.904837   1\n",
              "2304  e65d17acfc6b49b292f2aed60885eaae           2016-08-12  ...   1.000000   1\n",
              "\n",
              "[5 rows x 8 columns]"
            ]
          },
          "metadata": {
            "tags": []
          },
          "execution_count": 156
        }
      ]
    },
    {
      "cell_type": "markdown",
      "metadata": {
        "id": "Q0z4YFOwNkUD",
        "colab_type": "text"
      },
      "source": [
        "I propose a formula to calculate `time_score`, which is \n",
        "$$time\\; score = ((2.5 \\times exp\\;(-0.04 \\times number\\; of\\; questions\\; answered\\; so\\; far) + 0.5) \\times response\\; score$$\n",
        "\n",
        "This formula accounts for the notion of \"beginner's bonus\" in the score. Hence, I designed a rewarding mechanism that gives high bonuses to professionals when they are freshcomers but lesser as they answer more questions. Eventually, this boils down to their timeliness. This allows for comparison between professionals who answer 100 questions and take 10 days to answer each question and professionals who answer 10 questions and take 1 day to answer each question - the more timely professional.\n",
        "\n",
        "The number 2.5 and -0.04 are hyperparameters that can be tuned. They correspond to what the initial bonus is and how quickly the bonus decreases as the user answers more questions.\n",
        "The offset 0.5 is used because the mutlipler should eventually approach the value 0.5 as the number of questions answered by a professional approaches infinity."
      ]
    },
    {
      "cell_type": "code",
      "metadata": {
        "trusted": true,
        "id": "i9_yCCn-NkUD",
        "colab_type": "code",
        "colab": {
          "base_uri": "https://localhost:8080/",
          "height": 218
        },
        "outputId": "4818a65c-b5ba-49db-f4c1-5d65f9ceca25"
      },
      "source": [
        "ema_ans_pair['cum'] = ema_ans_pair.groupby('answers_author_id')['cnt'].cumsum()\n",
        "\n",
        "ema_ans_pair['cum'] = ema_ans_pair['cum'] - 1\n",
        "\n",
        "ema_ans_pair['time_score'] = ((2.5 * np.exp(-0.04 * ema_ans_pair['cum']) + 0.5) * ema_ans_pair['resp_score'])\n",
        "\n",
        "ema_ans_pair.head()"
      ],
      "execution_count": 157,
      "outputs": [
        {
          "output_type": "execute_result",
          "data": {
            "text/html": [
              "<div>\n",
              "<style scoped>\n",
              "    .dataframe tbody tr th:only-of-type {\n",
              "        vertical-align: middle;\n",
              "    }\n",
              "\n",
              "    .dataframe tbody tr th {\n",
              "        vertical-align: top;\n",
              "    }\n",
              "\n",
              "    .dataframe thead th {\n",
              "        text-align: right;\n",
              "    }\n",
              "</style>\n",
              "<table border=\"1\" class=\"dataframe\">\n",
              "  <thead>\n",
              "    <tr style=\"text-align: right;\">\n",
              "      <th></th>\n",
              "      <th>questions_id</th>\n",
              "      <th>questions_date_added</th>\n",
              "      <th>emails_date_sent</th>\n",
              "      <th>answers_date_added</th>\n",
              "      <th>answers_author_id</th>\n",
              "      <th>resp_time</th>\n",
              "      <th>resp_score</th>\n",
              "      <th>cnt</th>\n",
              "      <th>cum</th>\n",
              "      <th>time_score</th>\n",
              "    </tr>\n",
              "  </thead>\n",
              "  <tbody>\n",
              "    <tr>\n",
              "      <th>168</th>\n",
              "      <td>332a511f1569444485cf7a7a556a5e54</td>\n",
              "      <td>2016-04-26</td>\n",
              "      <td>2016-04-26</td>\n",
              "      <td>2016-04-29</td>\n",
              "      <td>36ff3b3666df400f956f8335cf53e09e</td>\n",
              "      <td>3</td>\n",
              "      <td>0.740818</td>\n",
              "      <td>1</td>\n",
              "      <td>0</td>\n",
              "      <td>2.222455</td>\n",
              "    </tr>\n",
              "    <tr>\n",
              "      <th>1502</th>\n",
              "      <td>c26ddf71420f48bfbf06622ebd2561a2</td>\n",
              "      <td>2016-05-18</td>\n",
              "      <td>2018-02-24</td>\n",
              "      <td>2018-02-26</td>\n",
              "      <td>e58426cac810497db54359a6f60dfd53</td>\n",
              "      <td>2</td>\n",
              "      <td>0.818731</td>\n",
              "      <td>1</td>\n",
              "      <td>0</td>\n",
              "      <td>2.456192</td>\n",
              "    </tr>\n",
              "    <tr>\n",
              "      <th>1576</th>\n",
              "      <td>c26ddf71420f48bfbf06622ebd2561a2</td>\n",
              "      <td>2016-05-18</td>\n",
              "      <td>2017-10-17</td>\n",
              "      <td>2017-10-17</td>\n",
              "      <td>659eb632ed6f474cb049c5da5780be58</td>\n",
              "      <td>0</td>\n",
              "      <td>1.000000</td>\n",
              "      <td>1</td>\n",
              "      <td>0</td>\n",
              "      <td>3.000000</td>\n",
              "    </tr>\n",
              "    <tr>\n",
              "      <th>1620</th>\n",
              "      <td>c26ddf71420f48bfbf06622ebd2561a2</td>\n",
              "      <td>2016-05-18</td>\n",
              "      <td>2017-10-16</td>\n",
              "      <td>2017-10-17</td>\n",
              "      <td>8fa5d60da932410d9ca00f50634e6c17</td>\n",
              "      <td>1</td>\n",
              "      <td>0.904837</td>\n",
              "      <td>1</td>\n",
              "      <td>0</td>\n",
              "      <td>2.714512</td>\n",
              "    </tr>\n",
              "    <tr>\n",
              "      <th>2304</th>\n",
              "      <td>e65d17acfc6b49b292f2aed60885eaae</td>\n",
              "      <td>2016-08-12</td>\n",
              "      <td>2017-05-13</td>\n",
              "      <td>2017-05-13</td>\n",
              "      <td>a89a9b974d3c467484a398b7d4a34e61</td>\n",
              "      <td>0</td>\n",
              "      <td>1.000000</td>\n",
              "      <td>1</td>\n",
              "      <td>0</td>\n",
              "      <td>3.000000</td>\n",
              "    </tr>\n",
              "  </tbody>\n",
              "</table>\n",
              "</div>"
            ],
            "text/plain": [
              "                          questions_id questions_date_added  ... cum time_score\n",
              "168   332a511f1569444485cf7a7a556a5e54           2016-04-26  ...   0   2.222455\n",
              "1502  c26ddf71420f48bfbf06622ebd2561a2           2016-05-18  ...   0   2.456192\n",
              "1576  c26ddf71420f48bfbf06622ebd2561a2           2016-05-18  ...   0   3.000000\n",
              "1620  c26ddf71420f48bfbf06622ebd2561a2           2016-05-18  ...   0   2.714512\n",
              "2304  e65d17acfc6b49b292f2aed60885eaae           2016-08-12  ...   0   3.000000\n",
              "\n",
              "[5 rows x 10 columns]"
            ]
          },
          "metadata": {
            "tags": []
          },
          "execution_count": 157
        }
      ]
    },
    {
      "cell_type": "markdown",
      "metadata": {
        "id": "2Akf3dKYNkUE",
        "colab_type": "text"
      },
      "source": [
        "I then take the sum of the `time_score` for each professional and apply a `log` so it does not skew too much to professionals who have answered many questions."
      ]
    },
    {
      "cell_type": "code",
      "metadata": {
        "trusted": true,
        "id": "KJxj-jweNkUF",
        "colab_type": "code",
        "colab": {}
      },
      "source": [
        "p_resp_score = pd.DataFrame(ema_ans_pair.groupby('answers_author_id')['time_score'].sum().sort_values(ascending=False)).reset_index() # 36ff3b3666df400f956f8335cf53e09e\t\n",
        "\n",
        "p_resp_score['time_score'] = np.log1p(p_resp_score['time_score'])"
      ],
      "execution_count": 0,
      "outputs": []
    },
    {
      "cell_type": "code",
      "metadata": {
        "trusted": true,
        "id": "5PFlDnGYNkUG",
        "colab_type": "code",
        "colab": {}
      },
      "source": [
        "top_5 = p_resp_score.iloc[4]['answers_author_id'] # 00271cc10e0245fba4a35e76e669c281\n",
        "top_701 = p_resp_score.iloc[700]['answers_author_id'] # b0de856bbbfc431794f6f0b4088d4d31"
      ],
      "execution_count": 0,
      "outputs": []
    },
    {
      "cell_type": "markdown",
      "metadata": {
        "id": "55rfsMlxNkUI",
        "colab_type": "text"
      },
      "source": [
        "Let's compare the response time for both the 5th professional and the 701st professional."
      ]
    },
    {
      "cell_type": "code",
      "metadata": {
        "trusted": true,
        "id": "yMSos85RNkUJ",
        "colab_type": "code",
        "colab": {
          "base_uri": "https://localhost:8080/",
          "height": 215
        },
        "outputId": "9967f391-ff0c-41fe-898a-c3e3731cb8b6"
      },
      "source": [
        "print('average response time: {:.3f} days'.format(ema_ans_pair[ema_ans_pair['answers_author_id'] == top_5]['resp_time'].mean()))\n",
        "ema_ans_pair[ema_ans_pair['answers_author_id'] == top_5][['emails_date_sent', 'answers_date_added', \n",
        "                                                          'resp_time', 'time_score']].copy().head()"
      ],
      "execution_count": 160,
      "outputs": [
        {
          "output_type": "stream",
          "text": [
            "average response time: 1.023 days\n"
          ],
          "name": "stdout"
        },
        {
          "output_type": "execute_result",
          "data": {
            "text/html": [
              "<div>\n",
              "<style scoped>\n",
              "    .dataframe tbody tr th:only-of-type {\n",
              "        vertical-align: middle;\n",
              "    }\n",
              "\n",
              "    .dataframe tbody tr th {\n",
              "        vertical-align: top;\n",
              "    }\n",
              "\n",
              "    .dataframe thead th {\n",
              "        text-align: right;\n",
              "    }\n",
              "</style>\n",
              "<table border=\"1\" class=\"dataframe\">\n",
              "  <thead>\n",
              "    <tr style=\"text-align: right;\">\n",
              "      <th></th>\n",
              "      <th>emails_date_sent</th>\n",
              "      <th>answers_date_added</th>\n",
              "      <th>resp_time</th>\n",
              "      <th>time_score</th>\n",
              "    </tr>\n",
              "  </thead>\n",
              "  <tbody>\n",
              "    <tr>\n",
              "      <th>117043</th>\n",
              "      <td>2016-10-14</td>\n",
              "      <td>2016-10-15</td>\n",
              "      <td>1</td>\n",
              "      <td>2.714512</td>\n",
              "    </tr>\n",
              "    <tr>\n",
              "      <th>324531</th>\n",
              "      <td>2016-12-18</td>\n",
              "      <td>2016-12-19</td>\n",
              "      <td>1</td>\n",
              "      <td>2.625814</td>\n",
              "    </tr>\n",
              "    <tr>\n",
              "      <th>727224</th>\n",
              "      <td>2017-09-02</td>\n",
              "      <td>2017-09-02</td>\n",
              "      <td>0</td>\n",
              "      <td>2.807791</td>\n",
              "    </tr>\n",
              "    <tr>\n",
              "      <th>788709</th>\n",
              "      <td>2018-04-13</td>\n",
              "      <td>2018-04-15</td>\n",
              "      <td>2</td>\n",
              "      <td>2.224738</td>\n",
              "    </tr>\n",
              "    <tr>\n",
              "      <th>886156</th>\n",
              "      <td>2018-03-02</td>\n",
              "      <td>2018-03-03</td>\n",
              "      <td>1</td>\n",
              "      <td>2.380048</td>\n",
              "    </tr>\n",
              "  </tbody>\n",
              "</table>\n",
              "</div>"
            ],
            "text/plain": [
              "       emails_date_sent answers_date_added  resp_time  time_score\n",
              "117043       2016-10-14         2016-10-15          1    2.714512\n",
              "324531       2016-12-18         2016-12-19          1    2.625814\n",
              "727224       2017-09-02         2017-09-02          0    2.807791\n",
              "788709       2018-04-13         2018-04-15          2    2.224738\n",
              "886156       2018-03-02         2018-03-03          1    2.380048"
            ]
          },
          "metadata": {
            "tags": []
          },
          "execution_count": 160
        }
      ]
    },
    {
      "cell_type": "code",
      "metadata": {
        "trusted": true,
        "id": "T9MqeSTZNkUO",
        "colab_type": "code",
        "colab": {
          "base_uri": "https://localhost:8080/",
          "height": 215
        },
        "outputId": "3f435625-1f5a-4d0b-bea9-041b50ecea90"
      },
      "source": [
        "print('average response time: {:.3f} days'.format(ema_ans_pair[ema_ans_pair['answers_author_id'] == top_701]['resp_time'].mean()))\n",
        "ema_ans_pair[ema_ans_pair['answers_author_id'] == top_701][['emails_date_sent', 'answers_date_added', \n",
        "                                                          'resp_time', 'time_score']].copy().head()"
      ],
      "execution_count": 161,
      "outputs": [
        {
          "output_type": "stream",
          "text": [
            "average response time: 9.625 days\n"
          ],
          "name": "stdout"
        },
        {
          "output_type": "execute_result",
          "data": {
            "text/html": [
              "<div>\n",
              "<style scoped>\n",
              "    .dataframe tbody tr th:only-of-type {\n",
              "        vertical-align: middle;\n",
              "    }\n",
              "\n",
              "    .dataframe tbody tr th {\n",
              "        vertical-align: top;\n",
              "    }\n",
              "\n",
              "    .dataframe thead th {\n",
              "        text-align: right;\n",
              "    }\n",
              "</style>\n",
              "<table border=\"1\" class=\"dataframe\">\n",
              "  <thead>\n",
              "    <tr style=\"text-align: right;\">\n",
              "      <th></th>\n",
              "      <th>emails_date_sent</th>\n",
              "      <th>answers_date_added</th>\n",
              "      <th>resp_time</th>\n",
              "      <th>time_score</th>\n",
              "    </tr>\n",
              "  </thead>\n",
              "  <tbody>\n",
              "    <tr>\n",
              "      <th>68617</th>\n",
              "      <td>2017-09-02</td>\n",
              "      <td>2017-09-16</td>\n",
              "      <td>14</td>\n",
              "      <td>0.739791</td>\n",
              "    </tr>\n",
              "    <tr>\n",
              "      <th>466311</th>\n",
              "      <td>2017-06-08</td>\n",
              "      <td>2017-06-08</td>\n",
              "      <td>0</td>\n",
              "      <td>2.901974</td>\n",
              "    </tr>\n",
              "    <tr>\n",
              "      <th>685942</th>\n",
              "      <td>2017-09-03</td>\n",
              "      <td>2017-09-16</td>\n",
              "      <td>13</td>\n",
              "      <td>0.765212</td>\n",
              "    </tr>\n",
              "    <tr>\n",
              "      <th>1768907</th>\n",
              "      <td>2017-09-01</td>\n",
              "      <td>2017-09-16</td>\n",
              "      <td>15</td>\n",
              "      <td>0.606312</td>\n",
              "    </tr>\n",
              "    <tr>\n",
              "      <th>3633257</th>\n",
              "      <td>2017-04-10</td>\n",
              "      <td>2017-04-11</td>\n",
              "      <td>1</td>\n",
              "      <td>2.380048</td>\n",
              "    </tr>\n",
              "  </tbody>\n",
              "</table>\n",
              "</div>"
            ],
            "text/plain": [
              "        emails_date_sent answers_date_added  resp_time  time_score\n",
              "68617         2017-09-02         2017-09-16         14    0.739791\n",
              "466311        2017-06-08         2017-06-08          0    2.901974\n",
              "685942        2017-09-03         2017-09-16         13    0.765212\n",
              "1768907       2017-09-01         2017-09-16         15    0.606312\n",
              "3633257       2017-04-10         2017-04-11          1    2.380048"
            ]
          },
          "metadata": {
            "tags": []
          },
          "execution_count": 161
        }
      ]
    },
    {
      "cell_type": "markdown",
      "metadata": {
        "id": "DjfMCiQhNkUQ",
        "colab_type": "text"
      },
      "source": [
        "As seen above, the 5th ranked professional answered almost all emails in the first 2 days while the 701st professional has a response time of more than 12 days out of the 5 entries shown above.\n",
        "\n",
        "Conclusion: The higher the `time_score`, the more the RecSys should \"bump\" the professional into answering an incoming question via email.\n",
        "\n",
        "## 5.4 Previous interactions"
      ]
    },
    {
      "cell_type": "code",
      "metadata": {
        "trusted": true,
        "_kg_hide-input": true,
        "id": "R5LopdMYNkUQ",
        "colab_type": "code",
        "colab": {}
      },
      "source": [
        "questions, answers = new_question_answers()\n",
        "\n",
        "questions['questions_date_added'] = pd.to_datetime(questions['questions_date_added'])\n",
        "questions['questions_date_added']  = pd.DatetimeIndex([i.replace(tzinfo=None) for i in questions['questions_date_added'] ])\n",
        "\n",
        "questions = questions[questions['questions_date_added'] >= pd.datetime(2018,1,1)]\n",
        "\n",
        "qa = merging(questions, answers, 'questions_id', 'answers_question_id')"
      ],
      "execution_count": 0,
      "outputs": []
    },
    {
      "cell_type": "code",
      "metadata": {
        "trusted": true,
        "id": "aAr48eyiNkUR",
        "colab_type": "code",
        "colab": {
          "base_uri": "https://localhost:8080/",
          "height": 560
        },
        "outputId": "d7b40296-16e0-43fa-aafe-59425882cf51"
      },
      "source": [
        "qa['interact_cnt'] = 1\n",
        "\n",
        "student_p_interact = qa.groupby(['questions_author_id', 'answers_author_id'])['interact_cnt'].sum().reset_index()\n",
        "\n",
        "interacted_before = student_p_interact[student_p_interact['interact_cnt'] > 1]\n",
        "\n",
        "plt.figure(figsize=(8,6))\n",
        "plt.title('Interaction Plot of Student and Professional')\n",
        "plt.xlabel('Number of Interactions between a Student and a Professional')\n",
        "plt.ylabel('Frequency')\n",
        "sns.barplot(interacted_before['interact_cnt'].value_counts().index,\n",
        "            interacted_before['interact_cnt'].value_counts().values)\n",
        "plt.show()\n",
        "\n",
        "interacted_before['interact_cnt'].value_counts()"
      ],
      "execution_count": 164,
      "outputs": [
        {
          "output_type": "display_data",
          "data": {
            "image/png": "[encoded data removed]",
            "text/plain": [
              "<Figure size 576x432 with 1 Axes>"
            ]
          },
          "metadata": {
            "tags": []
          }
        },
        {
          "output_type": "execute_result",
          "data": {
            "text/plain": [
              "2     571\n",
              "3      46\n",
              "4      14\n",
              "5       6\n",
              "6       5\n",
              "24      1\n",
              "9       1\n",
              "7       1\n",
              "Name: interact_cnt, dtype: int64"
            ]
          },
          "metadata": {
            "tags": []
          },
          "execution_count": 164
        }
      ]
    },
    {
      "cell_type": "markdown",
      "metadata": {
        "id": "ECV33g-2NkUR",
        "colab_type": "text"
      },
      "source": [
        "Knowing the previous interactions will not be very beneficial in recommending questions given there are many 1-time and 2-time interactions. \n",
        "\n",
        "# 6. Meta-RecSys\n",
        "In the final section, I demonstrate a meta RecSys that takes into account metadata while recommending questions. In sum, four components (with weights assigned) will be taken into account while recommending questions.\n",
        "\n",
        "* Ranking: 2.5 \n",
        "> Ranking is an important factor as it accounts for similarity between questions and how likely professionals are able to answer.\n",
        "* Timeliness: 2\n",
        "> Timeliness is the next important metric since we want quetions to be answered ASAP.\n",
        "* Heart_score: 0.75\n",
        "> Hearts score serves as a proxy for quality of answers.\n",
        "* Location: 5\n",
        ">As seen in the EDA section, most questions that are unanswered or have slow responses are country-specific, hence, a much higher weight is assigned to the `location` component. "
      ]
    },
    {
      "cell_type": "code",
      "metadata": {
        "trusted": true,
        "_kg_hide-input": true,
        "id": "QMLVeMo_NkUR",
        "colab_type": "code",
        "colab": {}
      },
      "source": [
        "def time_score(questions, matches, emails, answers, p_ids):    \n",
        "    mat_ema = merging(matches, emails, 'matches_email_id', 'emails_id')\n",
        "\n",
        "    que_mat_ema = merging(mat_ema, questions, 'matches_question_id', 'questions_id')\n",
        "\n",
        "    ans_que_mat_ema = merging(que_mat_ema, answers, 'questions_id', 'answers_question_id')\n",
        "\n",
        "    ema_ans_pair = ans_que_mat_ema[ans_que_mat_ema['emails_recipient_id'] == ans_que_mat_ema['answers_author_id']]\n",
        "\n",
        "    del ans_que_mat_ema; del mat_ema; del que_mat_ema; _ = gc.collect()\n",
        "    \n",
        "    ema_ans_pair = ema_ans_pair[['questions_id', 'questions_date_added', \n",
        "                             'emails_date_sent', \n",
        "                             'answers_date_added', 'answers_author_id']].copy()\n",
        "    \n",
        "    # construct time score only for p_ids\n",
        "    ema_ans_pair = ema_ans_pair[ema_ans_pair['answers_author_id'].isin(p_ids)]\n",
        "\n",
        "    ema_ans_pair['questions_date_added'] = pd.to_datetime(ema_ans_pair['questions_date_added']).dt.date\n",
        "    ema_ans_pair['emails_date_sent'] = pd.to_datetime(ema_ans_pair['emails_date_sent']).dt.date\n",
        "    ema_ans_pair['answers_date_added'] = pd.to_datetime(ema_ans_pair['answers_date_added']).dt.date\n",
        "\n",
        "    ema_ans_pair['resp_time'] = ema_ans_pair['answers_date_added'] - ema_ans_pair['emails_date_sent']\n",
        "\n",
        "    ema_ans_pair['resp_time'] = ema_ans_pair['resp_time'].dt.days\n",
        "\n",
        "    ema_ans_pair.loc[ema_ans_pair['resp_time'] < 0, 'resp_time'] = 0\n",
        "\n",
        "    ema_ans_pair['resp_score'] = np.exp(-0.1 * ema_ans_pair['resp_time'])\n",
        "\n",
        "    ema_ans_pair['cnt'] = 1\n",
        "    \n",
        "    ema_ans_pair['cum'] = ema_ans_pair.groupby('answers_author_id')['cnt'].cumsum()\n",
        "\n",
        "    ema_ans_pair['cum'] = ema_ans_pair['cum'] - 1\n",
        "\n",
        "    ema_ans_pair['time_score'] = ((2.5 * np.exp(-0.04 * ema_ans_pair['cum']) + 0.5) * ema_ans_pair['resp_score'])\n",
        "\n",
        "    p_resp_score = pd.DataFrame(ema_ans_pair.groupby('answers_author_id')['time_score'].sum().sort_values(ascending=False)).reset_index() # 36ff3b3666df400f956f8335cf53e09e\t\n",
        "\n",
        "    p_resp_score['time_score'] = np.log1p(p_resp_score['time_score'])\n",
        "\n",
        "    return p_resp_score"
      ],
      "execution_count": 0,
      "outputs": []
    },
    {
      "cell_type": "code",
      "metadata": {
        "trusted": true,
        "_kg_hide-input": true,
        "id": "3dE-ZFYZNkUW",
        "colab_type": "code",
        "colab": {}
      },
      "source": [
        "def hearts_score(qa, answer_scores, p_ids):\n",
        "    qa_ans_scores = merging(qa, answer_scores, 'answers_id', 'id')\n",
        "    \n",
        "    qa_ans_scores = qa_ans_scores[qa_ans_scores['answers_author_id'].isin(p_ids)]\n",
        "    \n",
        "    p_hearts = pd.DataFrame(qa_ans_scores.groupby('answers_author_id')['score'].sum()).reset_index()\n",
        "    \n",
        "    p_hearts = p_hearts.rename(columns={'score': 'hearts_score'})\n",
        "\n",
        "    return p_hearts"
      ],
      "execution_count": 0,
      "outputs": []
    },
    {
      "cell_type": "code",
      "metadata": {
        "trusted": true,
        "_kg_hide-input": true,
        "id": "Vid4UAByNkUX",
        "colab_type": "code",
        "colab": {}
      },
      "source": [
        "def location_score(student_location, p_ids):\n",
        "    select_p = professionals[professionals['professionals_id'].isin(p_ids)]\n",
        "    \n",
        "    usa_heros, etc_heros = location_to_country(select_p, 'professionals_location', 'professionals_id')\n",
        "    \n",
        "    heros_country = pd.concat([usa_heros, etc_heros])\n",
        "\n",
        "    # if student and professionals are from USA, give score of 1\n",
        "    # if student is from USA but professionals are not, give score of 0.8    \n",
        "    if student_location == 'USA':\n",
        "        heros_country.loc[(heros_country['country'] == student_location), 'country_score'] = 1\n",
        "        heros_country.loc[(heros_country['country'] != student_location), 'country_score'] = 0.8\n",
        "        \n",
        "    # if student and professionals are from the same country but not USA, give score of 5\n",
        "    # if student is not from USA but professionals are from USA, give score of 0.5\n",
        "    else:\n",
        "        heros_country.loc[(heros_country['country'] == student_location), 'country_score'] = 5\n",
        "        heros_country.loc[(heros_country['country'] != student_location), 'country_score'] = 0.5\n",
        "\n",
        "    return heros_country"
      ],
      "execution_count": 0,
      "outputs": []
    },
    {
      "cell_type": "code",
      "metadata": {
        "trusted": true,
        "_kg_hide-input": true,
        "id": "RxRgj44YNkUX",
        "colab_type": "code",
        "colab": {}
      },
      "source": [
        "def build_run_RecSys(query, questions, s, ans, qa, p_ids):\n",
        "    \n",
        "    tfidf, tfidf_matrix, fscl, femb, gscl, gemb, ans_tf, fans_scl, gans_scl, t_p_scores, f_p_scores, g_p_scores, VOCAB = build_RecSys(s, ans, qa, p_ids)\n",
        "    \n",
        "    recommended_p = run_RecSys(query, questions, qa, 10, \n",
        "                               tfidf, tfidf_matrix, \n",
        "                               fscl, femb, \n",
        "                               gscl, gemb, \n",
        "                               ans_tf, fans_scl, gans_scl, \n",
        "                               t_p_scores, f_p_scores, g_p_scores)\n",
        "    \n",
        "    return recommended_p"
      ],
      "execution_count": 0,
      "outputs": []
    },
    {
      "cell_type": "markdown",
      "metadata": {
        "id": "hN63wEMKNkUZ",
        "colab_type": "text"
      },
      "source": [
        "Perform experiment on a small sample, i.e., first 1000 rows."
      ]
    },
    {
      "cell_type": "code",
      "metadata": {
        "trusted": true,
        "_kg_hide-input": true,
        "id": "6be9r7btNkUZ",
        "colab_type": "code",
        "colab": {}
      },
      "source": [
        "questions, answers = new_question_answers()\n",
        "\n",
        "questions['questions_date_added'] = pd.to_datetime(questions['questions_date_added'])\n",
        "\n",
        "questions = questions[:1000]\n",
        "\n",
        "qa = merging(questions, answers, 'questions_id', 'answers_question_id')\n",
        "\n",
        "questions['questions_title_body'] = questions['questions_title'] + \\\n",
        "                                    str(' ') + \\\n",
        "                                    questions['questions_body']\n",
        "\n",
        "s = process_text(questions, 'questions_title_body').values\n",
        "\n",
        "ans = process_text(qa, 'answers_body').values\n",
        "\n",
        "p_ids = qa['answers_author_id'].unique().tolist()"
      ],
      "execution_count": 0,
      "outputs": []
    },
    {
      "cell_type": "code",
      "metadata": {
        "trusted": true,
        "id": "NcxmTrquNkUb",
        "colab_type": "code",
        "colab": {}
      },
      "source": [
        "def meta_RecSys(top_10_ps, time_score_df, answers_score_df, location_score_df, professionals):\n",
        "    top_10_ps_df = pd.DataFrame({'professionals_id': top_10_ps,\n",
        "                                 'reciprocal_rank': list(np.linspace(10, 1, 10))})\n",
        "    \n",
        "    professionals = professionals[professionals['professionals_id'].isin(top_10_ps)][['professionals_id',\n",
        "                                                                                      'professionals_headline']]\n",
        "    \n",
        "    final_df = top_10_ps_df.merge(time_score_df, left_on='professionals_id',\n",
        "                                  right_on='answers_author_id', how='outer')\n",
        "\n",
        "    final_df.drop('answers_author_id', axis=1, inplace=True)\n",
        "\n",
        "    final_df = final_df.merge(answers_score_df, left_on='professionals_id',\n",
        "                              right_on='answers_author_id', how='outer')\n",
        "\n",
        "    final_df.drop('answers_author_id', axis=1, inplace=True)\n",
        "    \n",
        "    final_df = final_df.merge(location_score_df, left_on='professionals_id',\n",
        "                              right_on='professionals_id', how='outer')\n",
        "\n",
        "    final_df.drop('country', axis=1, inplace=True)\n",
        "\n",
        "    final_df = final_df.fillna(0)\n",
        "    \n",
        "    # some hyperparamters to tune\n",
        "    RANK_WEIGHT = 2.5\n",
        "    TIME_WEIGHT = 2\n",
        "    SCORE_WEIGHT = 0.75\n",
        "    LOCATION_WEIGHT = 5\n",
        "    \n",
        "    final_df['meta_score'] = RANK_WEIGHT * final_df['reciprocal_rank'] + \\\n",
        "                             TIME_WEIGHT * final_df['time_score'] + \\\n",
        "                             SCORE_WEIGHT * final_df['hearts_score'] + \\\n",
        "                             LOCATION_WEIGHT * final_df['country_score']\n",
        "    \n",
        "    final_df = final_df.merge(professionals, left_on='professionals_id',\n",
        "                              right_on='professionals_id', how='outer')\n",
        "\n",
        "    \n",
        "    final_df = final_df.sort_values('meta_score', ascending=False)\n",
        "    \n",
        "    return final_df"
      ],
      "execution_count": 0,
      "outputs": []
    },
    {
      "cell_type": "code",
      "metadata": {
        "trusted": true,
        "id": "JwhWn-t7NkUd",
        "colab_type": "code",
        "colab": {
          "base_uri": "https://localhost:8080/",
          "height": 472
        },
        "outputId": "25e359d7-bc0a-4b03-99e5-b87a1844c5f6"
      },
      "source": [
        "query = 'I am interested in machine learning and want to be a data scientist one day. i heard artificial intelligence is cool'\n",
        "query_country = 'USA'\n",
        "\n",
        "top_10_ps = build_run_RecSys(query, questions, s, ans, qa, p_ids)\n",
        "time_score_df = time_score(questions, matches, emails, answers, top_10_ps)\n",
        "hearts_score_df = hearts_score(qa, answer_scores, top_10_ps)\n",
        "location_df = location_score(query_country, top_10_ps)\n",
        "\n",
        "meta_RecSys(top_10_ps, time_score_df, hearts_score_df, location_df, professionals)"
      ],
      "execution_count": 171,
      "outputs": [
        {
          "output_type": "execute_result",
          "data": {
            "text/html": [
              "<div>\n",
              "<style scoped>\n",
              "    .dataframe tbody tr th:only-of-type {\n",
              "        vertical-align: middle;\n",
              "    }\n",
              "\n",
              "    .dataframe tbody tr th {\n",
              "        vertical-align: top;\n",
              "    }\n",
              "\n",
              "    .dataframe thead th {\n",
              "        text-align: right;\n",
              "    }\n",
              "</style>\n",
              "<table border=\"1\" class=\"dataframe\">\n",
              "  <thead>\n",
              "    <tr style=\"text-align: right;\">\n",
              "      <th></th>\n",
              "      <th>professionals_id</th>\n",
              "      <th>reciprocal_rank</th>\n",
              "      <th>time_score</th>\n",
              "      <th>hearts_score</th>\n",
              "      <th>country_score</th>\n",
              "      <th>meta_score</th>\n",
              "      <th>professionals_headline</th>\n",
              "    </tr>\n",
              "  </thead>\n",
              "  <tbody>\n",
              "    <tr>\n",
              "      <th>0</th>\n",
              "      <td>3ea0910f146e4bc1b0da625d49da320c</td>\n",
              "      <td>10.0</td>\n",
              "      <td>1.312247</td>\n",
              "      <td>2</td>\n",
              "      <td>1.0</td>\n",
              "      <td>34.124495</td>\n",
              "      <td>Business Intelligence Manager</td>\n",
              "    </tr>\n",
              "    <tr>\n",
              "      <th>5</th>\n",
              "      <td>58fa5e95fe9e480a9349bbb1d7faaddb</td>\n",
              "      <td>5.0</td>\n",
              "      <td>1.312247</td>\n",
              "      <td>11</td>\n",
              "      <td>1.0</td>\n",
              "      <td>28.374495</td>\n",
              "      <td>Mechanical Engineer I Automotive</td>\n",
              "    </tr>\n",
              "    <tr>\n",
              "      <th>3</th>\n",
              "      <td>e6cc3bb515044e919544bb4cb479944e</td>\n",
              "      <td>7.0</td>\n",
              "      <td>1.036592</td>\n",
              "      <td>1</td>\n",
              "      <td>1.0</td>\n",
              "      <td>25.323184</td>\n",
              "      <td>Data Scientist at Airbnb</td>\n",
              "    </tr>\n",
              "    <tr>\n",
              "      <th>1</th>\n",
              "      <td>3daa962dd713439eaf6df9e2966d9514</td>\n",
              "      <td>9.0</td>\n",
              "      <td>0.000000</td>\n",
              "      <td>0</td>\n",
              "      <td>0.0</td>\n",
              "      <td>22.500000</td>\n",
              "      <td>Student at California State University-Los Ang...</td>\n",
              "    </tr>\n",
              "    <tr>\n",
              "      <th>2</th>\n",
              "      <td>243c51ebbd71471d9af55cc34ce305e0</td>\n",
              "      <td>8.0</td>\n",
              "      <td>0.000000</td>\n",
              "      <td>1</td>\n",
              "      <td>0.0</td>\n",
              "      <td>20.750000</td>\n",
              "      <td>NaN</td>\n",
              "    </tr>\n",
              "    <tr>\n",
              "      <th>6</th>\n",
              "      <td>a1006e6a58a0447592e2435caa230f78</td>\n",
              "      <td>4.0</td>\n",
              "      <td>0.000000</td>\n",
              "      <td>7</td>\n",
              "      <td>0.8</td>\n",
              "      <td>19.250000</td>\n",
              "      <td>Educational Writer- New Heights Educational Group</td>\n",
              "    </tr>\n",
              "    <tr>\n",
              "      <th>4</th>\n",
              "      <td>d2a6707d22af41acabe8cbc377c8fb23</td>\n",
              "      <td>6.0</td>\n",
              "      <td>1.386294</td>\n",
              "      <td>0</td>\n",
              "      <td>0.0</td>\n",
              "      <td>17.772589</td>\n",
              "      <td>IT Consultant</td>\n",
              "    </tr>\n",
              "    <tr>\n",
              "      <th>7</th>\n",
              "      <td>c24c29c966e1431bbaa36bc900457cc2</td>\n",
              "      <td>3.0</td>\n",
              "      <td>1.386294</td>\n",
              "      <td>0</td>\n",
              "      <td>1.0</td>\n",
              "      <td>15.272589</td>\n",
              "      <td>Mechanical/Manufacturing Engineer</td>\n",
              "    </tr>\n",
              "    <tr>\n",
              "      <th>9</th>\n",
              "      <td>a8d48ad29465479bbeb7f19ee3b77d1a</td>\n",
              "      <td>1.0</td>\n",
              "      <td>0.000000</td>\n",
              "      <td>1</td>\n",
              "      <td>0.8</td>\n",
              "      <td>7.250000</td>\n",
              "      <td>Escalation Specialist at Dell</td>\n",
              "    </tr>\n",
              "    <tr>\n",
              "      <th>8</th>\n",
              "      <td>2801dfbdd5914b65b3369ff3385bc16b</td>\n",
              "      <td>2.0</td>\n",
              "      <td>0.000000</td>\n",
              "      <td>0</td>\n",
              "      <td>0.0</td>\n",
              "      <td>5.000000</td>\n",
              "      <td>Now available!All-rounder Mechanical Engineer ...</td>\n",
              "    </tr>\n",
              "  </tbody>\n",
              "</table>\n",
              "</div>"
            ],
            "text/plain": [
              "                   professionals_id  ...                             professionals_headline\n",
              "0  3ea0910f146e4bc1b0da625d49da320c  ...                      Business Intelligence Manager\n",
              "5  58fa5e95fe9e480a9349bbb1d7faaddb  ...                   Mechanical Engineer I Automotive\n",
              "3  e6cc3bb515044e919544bb4cb479944e  ...                           Data Scientist at Airbnb\n",
              "1  3daa962dd713439eaf6df9e2966d9514  ...  Student at California State University-Los Ang...\n",
              "2  243c51ebbd71471d9af55cc34ce305e0  ...                                                NaN\n",
              "6  a1006e6a58a0447592e2435caa230f78  ...  Educational Writer- New Heights Educational Group\n",
              "4  d2a6707d22af41acabe8cbc377c8fb23  ...                                     IT Consultant \n",
              "7  c24c29c966e1431bbaa36bc900457cc2  ...                  Mechanical/Manufacturing Engineer\n",
              "9  a8d48ad29465479bbeb7f19ee3b77d1a  ...                      Escalation Specialist at Dell\n",
              "8  2801dfbdd5914b65b3369ff3385bc16b  ...  Now available!All-rounder Mechanical Engineer ...\n",
              "\n",
              "[10 rows x 7 columns]"
            ]
          },
          "metadata": {
            "tags": []
          },
          "execution_count": 171
        }
      ]
    },
    {
      "cell_type": "markdown",
      "metadata": {
        "id": "cmeirraCNkUe",
        "colab_type": "text"
      },
      "source": [
        "As seen above, each professional now has a `meta_score`, we are left with 2 options to recommend a question:\n",
        "* Recommend questions to top 5 professionals according to the `meta_score`\n",
        "* Select a cutoff for `meta_score` while recommending questions to professionals\n",
        "\n",
        "I think both approaches will work well and it is left to CareerVillage to do A/B testing on which is the better approach.\n",
        "\n",
        "# 7. Final Meta-RecSys\n",
        "In the following, I select a test sample from 2018/3/1 to 2018/3/31 and validate the effectiveness of the RecSys on 2018/4/1 to 2018/4/4.\n",
        "\n",
        "To recap, here is the final meta-RecSys! ![](https://imgur.com/SbUsWSt.png)"
      ]
    },
    {
      "cell_type": "code",
      "metadata": {
        "trusted": true,
        "_kg_hide-input": true,
        "id": "ZOHl3POKNkUe",
        "colab_type": "code",
        "colab": {}
      },
      "source": [
        "questions, answers = new_question_answers()\n",
        "\n",
        "questions['questions_date_added'] = pd.to_datetime(questions['questions_date_added'])\n",
        "questions['questions_date_added']  = pd.DatetimeIndex([i.replace(tzinfo=None) for i in questions['questions_date_added'] ])\n",
        "\n",
        "TRAIN_questions = questions[(questions['questions_date_added'] >= pd.datetime(2018, 3, 1)) &\n",
        "                            (questions['questions_date_added'] < pd.datetime(2018, 4, 1))].reset_index()\n",
        "\n",
        "VAL_questions = questions[(questions['questions_date_added'] >= pd.datetime(2018, 4, 1)) &\n",
        "                          (questions['questions_date_added'] < pd.datetime(2018, 4, 3))].reset_index()\n",
        "\n",
        "questions_d1 = questions[(questions['questions_date_added'] >= pd.datetime(2018, 4, 1)) &\n",
        "                         (questions['questions_date_added'] < pd.datetime(2018, 4, 2))]\n",
        "\n",
        "questions_d2 = questions[(questions['questions_date_added'] >= pd.datetime(2018, 4, 2)) &\n",
        "                         (questions['questions_date_added'] < pd.datetime(2018, 4, 3))]\n",
        "\n",
        "questions_d1.shape , questions_d2.shape\n",
        "\n",
        "TRAIN_questions['questions_title_body'] = TRAIN_questions['questions_title'] + \\\n",
        "                                          str(' ') + \\\n",
        "                                          TRAIN_questions['questions_body']\n",
        "\n",
        "s = process_text(TRAIN_questions, 'questions_title_body').values\n",
        "\n",
        "TRAIN_qa = merging(TRAIN_questions, answers, 'questions_id', 'answers_question_id')\n",
        "\n",
        "ans = process_text(TRAIN_qa, 'answers_body').values\n",
        "\n",
        "p_ids = TRAIN_qa['answers_author_id'].unique().tolist()\n",
        "\n",
        "# preprocess students location\n",
        "select_students = students[students['students_id'].isin(VAL_questions['questions_author_id'])]\n",
        "\n",
        "usa_students, etc_students = location_to_country(select_students, 'students_location', 'students_id')\n",
        "\n",
        "students_country = pd.concat([usa_students, etc_students])"
      ],
      "execution_count": 0,
      "outputs": []
    },
    {
      "cell_type": "code",
      "metadata": {
        "trusted": true,
        "id": "p3CQ6ogDNkUf",
        "colab_type": "code",
        "colab": {
          "base_uri": "https://localhost:8080/",
          "height": 104
        },
        "outputId": "c07ecd1f-b6bc-4f20-ca93-e8203c2c8866"
      },
      "source": [
        "print('Number of professionals in the period: {}'.format(len(p_ids))) \n",
        "print('Number of questions in the period: {}'.format(s.shape[0])) \n",
        "print('Number of answers in the period: {}'.format(ans.shape[0])) \n",
        "print('Number of answers in day 1: {}'.format(questions_d1.shape[0])) \n",
        "print('Number of answers in day 2: {}'.format(questions_d2.shape[0])) "
      ],
      "execution_count": 173,
      "outputs": [
        {
          "output_type": "stream",
          "text": [
            "Number of professionals in the period: 934\n",
            "Number of questions in the period: 915\n",
            "Number of answers in the period: 1761\n",
            "Number of answers in day 1: 4\n",
            "Number of answers in day 2: 14\n"
          ],
          "name": "stdout"
        }
      ]
    },
    {
      "cell_type": "code",
      "metadata": {
        "trusted": true,
        "_kg_hide-input": true,
        "id": "vEltl4aANkUg",
        "colab_type": "code",
        "colab": {}
      },
      "source": [
        "np.random.seed(seed=42)\n",
        "\n",
        "daily_noti = list(np.random.choice([0, 1], len(p_ids), replace=True))\n",
        "\n",
        "noti_freq = pd.DataFrame({'professionals_id': p_ids,\n",
        "                          'daily_noti': daily_noti})\n",
        "\n",
        "noti_freq.head()\n",
        "\n",
        "daily_p = noti_freq[noti_freq['daily_noti'] == 1].index.tolist()\n",
        "three_d_p = noti_freq[noti_freq['daily_noti'] == 0].index.tolist()"
      ],
      "execution_count": 0,
      "outputs": []
    },
    {
      "cell_type": "code",
      "metadata": {
        "trusted": true,
        "id": "qCHf-H1KNkUi",
        "colab_type": "code",
        "colab": {
          "base_uri": "https://localhost:8080/",
          "height": 52
        },
        "outputId": "4abb3a4c-6c3e-4ed5-97a2-f049c7ae430e"
      },
      "source": [
        "%%time\n",
        "tfidf, tfidf_matrix, fscl, femb, gscl, gemb, ans_tf, fans_scl, gans_scl, t_p_scores, f_p_scores, g_p_scores, VOCAB = build_RecSys(s, ans, TRAIN_qa, p_ids)"
      ],
      "execution_count": 175,
      "outputs": [
        {
          "output_type": "stream",
          "text": [
            "CPU times: user 4.98 s, sys: 351 ms, total: 5.33 s\n",
            "Wall time: 4.87 s\n"
          ],
          "name": "stdout"
        }
      ]
    },
    {
      "cell_type": "code",
      "metadata": {
        "trusted": true,
        "id": "4nBhUJVXNkUi",
        "colab_type": "code",
        "colab": {}
      },
      "source": [
        "def updated_assign(df, qa, questions, dont_ask):\n",
        "    df['questions_title_body'] = df['questions_title'] + \\\n",
        "                                 str(' ') + \\\n",
        "                                 df['questions_body']\n",
        "    \n",
        "    pid_qid_match = [[] for i in range(len(p_ids))]\n",
        "    \n",
        "    skip = []\n",
        "    for k, v in df.iterrows():\n",
        "        query = v['questions_title_body']\n",
        "        qid = v['questions_id']        \n",
        "        query_coutry = (students_country[students_country['students_id'] == v['questions_author_id']]['country']).tolist()[0]\n",
        "        \n",
        "        # get top 10 professionals\n",
        "        top_10_ps = run_RecSys(query, questions, qa, 10, \n",
        "                               tfidf, tfidf_matrix, \n",
        "                               fscl, femb, \n",
        "                               gscl, gemb, \n",
        "                               ans_tf, fans_scl, gans_scl, \n",
        "                               t_p_scores, f_p_scores, g_p_scores)\n",
        "        \n",
        "        # calculate their time_score\n",
        "        time_score_df = time_score(questions, matches, emails, answers, top_10_ps)\n",
        "        \n",
        "        # calculate their hearts score\n",
        "        hearts_score_df = hearts_score(qa, answer_scores, top_10_ps)\n",
        "        \n",
        "        # calculate location score\n",
        "        location_df = location_score(query_country, top_10_ps)\n",
        "\n",
        "        # meta_RecSys df\n",
        "        recommended_p = meta_RecSys(top_10_ps, time_score_df, hearts_score_df, location_df, professionals)\n",
        "        \n",
        "        recommended_p_list = recommended_p['professionals_id'].tolist()\n",
        "        \n",
        "        # start assigning professionals to each question\n",
        "        cnt = 0\n",
        "        for pid in recommended_p_list:    \n",
        "            \n",
        "            # if the question has been assigned to 5 professionals, \n",
        "            # stop\n",
        "            if cnt >= 5: \n",
        "                break\n",
        "            \n",
        "            # get professional_id's idx\n",
        "            p_idx = p_ids.index(pid)\n",
        "            \n",
        "            # if professionals received more than 5 questions,\n",
        "            # stop assigning\n",
        "            if p_idx not in dont_ask:\n",
        "                if len(pid_qid_match[p_idx]) < 5:                    \n",
        "                    pid_qid_match[p_idx].append(qid)\n",
        "                    cnt += 1\n",
        "                    \n",
        "            # if professionals signed up for 3-day noti\n",
        "            # add them to skip\n",
        "            if p_idx in three_d_p and p_idx not in skip:\n",
        "                skip.append(p_idx)\n",
        "        \n",
        "        # add professionals we want to skip\n",
        "        # to dont_ask\n",
        "        for p_idx in skip:\n",
        "            dont_ask.append(p_idx)\n",
        "            \n",
        "    return pid_qid_match, dont_ask"
      ],
      "execution_count": 0,
      "outputs": []
    },
    {
      "cell_type": "markdown",
      "metadata": {
        "id": "MoPfvz1uNkUj",
        "colab_type": "text"
      },
      "source": [
        "I will be running the meta RecSys with questions for 2 days as an illustration."
      ]
    },
    {
      "cell_type": "code",
      "metadata": {
        "trusted": true,
        "id": "rjfzr2zRNkUj",
        "colab_type": "code",
        "colab": {}
      },
      "source": [
        "dont_ask = []\n",
        "match_d1, dont_ask = updated_assign(questions_d1, TRAIN_qa, TRAIN_questions, dont_ask)\n",
        "match_d2, dont_ask = updated_assign(questions_d2, TRAIN_qa, TRAIN_questions, dont_ask)"
      ],
      "execution_count": 0,
      "outputs": []
    },
    {
      "cell_type": "code",
      "metadata": {
        "trusted": true,
        "id": "Ynk1XGlkNkUm",
        "colab_type": "code",
        "colab": {
          "base_uri": "https://localhost:8080/",
          "height": 198
        },
        "outputId": "e58515d0-7cb8-46f5-9ed3-7f09940c2e45"
      },
      "source": [
        "noti_freq['d1'] = pd.Series((v for v in match_d1)) \n",
        "noti_freq['d2'] = pd.Series((v for v in match_d2)) \n",
        "\n",
        "noti_freq.head()"
      ],
      "execution_count": 178,
      "outputs": [
        {
          "output_type": "execute_result",
          "data": {
            "text/html": [
              "<div>\n",
              "<style scoped>\n",
              "    .dataframe tbody tr th:only-of-type {\n",
              "        vertical-align: middle;\n",
              "    }\n",
              "\n",
              "    .dataframe tbody tr th {\n",
              "        vertical-align: top;\n",
              "    }\n",
              "\n",
              "    .dataframe thead th {\n",
              "        text-align: right;\n",
              "    }\n",
              "</style>\n",
              "<table border=\"1\" class=\"dataframe\">\n",
              "  <thead>\n",
              "    <tr style=\"text-align: right;\">\n",
              "      <th></th>\n",
              "      <th>professionals_id</th>\n",
              "      <th>daily_noti</th>\n",
              "      <th>d1</th>\n",
              "      <th>d2</th>\n",
              "    </tr>\n",
              "  </thead>\n",
              "  <tbody>\n",
              "    <tr>\n",
              "      <th>0</th>\n",
              "      <td>714f9104e8b148c090e975f050946ff2</td>\n",
              "      <td>0</td>\n",
              "      <td>[]</td>\n",
              "      <td>[]</td>\n",
              "    </tr>\n",
              "    <tr>\n",
              "      <th>1</th>\n",
              "      <td>5fb15f468af546bbbf7861b0025b947d</td>\n",
              "      <td>1</td>\n",
              "      <td>[]</td>\n",
              "      <td>[]</td>\n",
              "    </tr>\n",
              "    <tr>\n",
              "      <th>2</th>\n",
              "      <td>a4de076b955d410896bdbf7a986ccc38</td>\n",
              "      <td>0</td>\n",
              "      <td>[]</td>\n",
              "      <td>[492d6767e2f248e6bfd709a4cc71ea22]</td>\n",
              "    </tr>\n",
              "    <tr>\n",
              "      <th>3</th>\n",
              "      <td>5285b0a21ab54d7ab94a9ab1589bd536</td>\n",
              "      <td>0</td>\n",
              "      <td>[]</td>\n",
              "      <td>[]</td>\n",
              "    </tr>\n",
              "    <tr>\n",
              "      <th>4</th>\n",
              "      <td>8fc23e1bbb2a4ec1bc780e77d118ecf3</td>\n",
              "      <td>0</td>\n",
              "      <td>[]</td>\n",
              "      <td>[492d6767e2f248e6bfd709a4cc71ea22]</td>\n",
              "    </tr>\n",
              "  </tbody>\n",
              "</table>\n",
              "</div>"
            ],
            "text/plain": [
              "                   professionals_id  ...                                  d2\n",
              "0  714f9104e8b148c090e975f050946ff2  ...                                  []\n",
              "1  5fb15f468af546bbbf7861b0025b947d  ...                                  []\n",
              "2  a4de076b955d410896bdbf7a986ccc38  ...  [492d6767e2f248e6bfd709a4cc71ea22]\n",
              "3  5285b0a21ab54d7ab94a9ab1589bd536  ...                                  []\n",
              "4  8fc23e1bbb2a4ec1bc780e77d118ecf3  ...  [492d6767e2f248e6bfd709a4cc71ea22]\n",
              "\n",
              "[5 rows x 4 columns]"
            ]
          },
          "metadata": {
            "tags": []
          },
          "execution_count": 178
        }
      ]
    },
    {
      "cell_type": "markdown",
      "metadata": {
        "id": "aaTLWx5wNkUn",
        "colab_type": "text"
      },
      "source": [
        "# 8. Conclusion\n",
        "I asked Jared what is a good recommender system in his opinion. He mentioned:\n",
        "\n",
        "`percent of questions which get a 10-quality-point answer within 24 hours, without churning out Pros, and within the bounds of fairness?`\n",
        "\n",
        "My solution:\n",
        "* `Percent of questions...`\n",
        "> The recommender system has been targeting professionals fairly accurately in the Evaluation section above.\n",
        "* `...receiving a...`\n",
        "> Assuming the recommender system is able to target 5 professionals per question, this should be relatively easy to solve.\n",
        "* `...10-quality-point answer...`\n",
        "> The recommender system uses `hearts_score` as a proxy of quality answers.\n",
        "* `...within 24 hours,...`\n",
        "> The recommender system takes into account professionals' timeliness in responding to an answer and also provides a `bonus` to freshcomers (as a way of handling the cold-start problem).\n",
        "* `...without churning out Pros...`\n",
        "> The recommender system considers professionals' notification setting - limits email to \"superstar\" professionals and sends email regularly to \"marginal\" professionals to keep them engaged.\n",
        "* `...and within the bounds of fairness.`\n",
        "> The recommender system does not account for the students' background other than their location. The location information is helpful for the international community. \n",
        "\n",
        "# 9. Final Thoughts\n",
        "* Did you decide to predict Pros given a Question, or predict Questions given a Pro? Why?\n",
        "> The final meta-RecSys will initially recommend a Pro given a Question but will also recommend Questions given a Pro if the Pro is not matched for 3 days (Recommendation #4). The former approach is more efficient to get high quality matches and the latter approach is to keep Pros engaged within the platform.\n",
        "\n",
        "* Does your model address the \"cold start\" problem for Professionals who just signed up but have not yet answered any questions? How'd you approach that challenge?\n",
        "> I suggested Pros who just signed up to follow some tags. The RecSys will then be able to capture similar Pros who are related to the tags and recommend them to the freshers (Recommendation #5). Additionally, my `time_score` also accounts for freshers by giving them a bonus (Metadata 5.3).\n",
        "\n",
        "* Did your model have any novel approaches to ensuring that \"no question gets left behind\"?\n",
        "> Each questions is targeted with 5 professionals (Final meta-RecSys). I also proposed to keep track of questions that are unanswered and recommend professionals based on login session (Recommendation #6).\n",
        "\n",
        "* What types of models did you try, and why did you pick the model architecture that you picked?\n",
        "> TF-IDF, FastText, GloVe, and Universal Sentence Encoder - 4 models are used to look for similar questions and answers profile. They capture words similarity and semantics differently. I currently use an equal weght for each of them while doing a Borda count (Evalation approach #1).\n",
        "\n",
        "* Did you engineer any new data features? Which ones worked well for your model?\n",
        "> Location score, time score, and hearts score are taken into account for the meta-RecSys (Metadata).\n",
        "\n",
        "* Is there anything built into your approach to protect certain Professionals from being \"overburdened\" with a disproportionately high share of matches?\n",
        "> The meta-RecSys limits recommending a Pro who have more than 5 matches a day. It can be further extended to not match a Pro who has received emails consecutively for few days (Recommendation #2).\n",
        "\n",
        "* What do you wish you could use in the future (that perhaps we could try out on our own as an extension of your work)?\n",
        "> Allowing Pros to update their profiles is my biggest hope! This is crucial as Pros are able to help our RecSys to recommend higher quality content or content they are interested in (Recommendation #1).\n",
        "\n",
        "# 10. Closing remarks\n",
        "I would like to express my gratitude to Kaggle and CareerVillage for presenting such an interesting problem before us. For those have shared their kernel, I learned a tremendous amount from how all of you perform remarkable EDA that I never have of thought. I worked on this out of interest - knowing that I was once in the shoes of all those students, I wanted to help them. I always imagine how nice would if be if I were able to receive career advice on an earlier point in my life. All the best to CareerVillage. I sincerely hope they continue this initiative and more students will benefit from this amazing platform."
      ]
    },
    {
      "cell_type": "code",
      "metadata": {
        "trusted": true,
        "id": "C-peFf2yNkUn",
        "colab_type": "code",
        "colab": {}
      },
      "source": [
        ""
      ],
      "execution_count": 0,
      "outputs": []
    }
  ]
}